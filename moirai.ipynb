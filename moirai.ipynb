{
 "cells": [
  {
   "cell_type": "code",
   "execution_count": 1,
   "metadata": {},
   "outputs": [
    {
     "name": "stdout",
     "output_type": "stream",
     "text": [
      "['/nethome/abhalerao9/TIMESERIESMODELING/TSFMProject/src', '/nethome/abhalerao9/anaconda3/envs/timesfm/lib/python311.zip', '/nethome/abhalerao9/anaconda3/envs/timesfm/lib/python3.11', '/nethome/abhalerao9/anaconda3/envs/timesfm/lib/python3.11/lib-dynload', '', '/nethome/abhalerao9/anaconda3/envs/timesfm/lib/python3.11/site-packages']\n"
     ]
    }
   ],
   "source": [
    "import torch\n",
    "import numpy as np\n",
    "import os\n",
    "import sys\n",
    "\n",
    "src_path = os.path.abspath(os.path.join(\"src\"))\n",
    "if src_path not in sys.path:\n",
    "    sys.path.insert(0, src_path)\n",
    "\n",
    "print(sys.path)"
   ]
  },
  {
   "cell_type": "code",
   "execution_count": 2,
   "metadata": {},
   "outputs": [
    {
     "name": "stderr",
     "output_type": "stream",
     "text": [
      "/nethome/abhalerao9/anaconda3/envs/timesfm/lib/python3.11/site-packages/tqdm/auto.py:21: TqdmWarning: IProgress not found. Please update jupyter and ipywidgets. See https://ipywidgets.readthedocs.io/en/stable/user_install.html\n",
      "  from .autonotebook import tqdm as notebook_tqdm\n"
     ]
    }
   ],
   "source": [
    "from tsfmproject.dataset import MoiraiDataset\n",
    "from tsfmproject.model import MoiraiTSModel\n",
    "from tsfmproject.visualization import ForecastVisualization"
   ]
  },
  {
   "cell_type": "code",
   "execution_count": 3,
   "metadata": {},
   "outputs": [],
   "source": [
    "train_dataset = MoiraiDataset(name=\"ett\", mode=\"train\", path='/nethome/sli999/TSFMProject/src/tsfmproject/models/moment/data/ETTh1.csv', datetime_col='date', freq='h', context_len=128, horizon_len=64, normalize=False)\n",
    "test_dataset = MoiraiDataset(name=\"ett\", mode=\"test\", path='/nethome/sli999/TSFMProject/src/tsfmproject/models/moment/data/ETTh1.csv', datetime_col='date', freq='h', context_len=128, horizon_len=64, normalize=False)\n",
    "\n"
   ]
  },
  {
   "cell_type": "code",
   "execution_count": 4,
   "metadata": {},
   "outputs": [],
   "source": [
    "config = {\n",
    "    \"context_len\": 128,\n",
    "    \"horizon_len\": 64,\n",
    "}\n",
    "model_type = \"moirai-moe\"\n",
    "model_size = \"small\"\n",
    "moirai_model = MoiraiTSModel(model_type=model_type, model_size=model_size, config=config)"
   ]
  },
  {
   "cell_type": "code",
   "execution_count": 5,
   "metadata": {},
   "outputs": [
    {
     "name": "stdout",
     "output_type": "stream",
     "text": [
      "cuda:0\n"
     ]
    }
   ],
   "source": [
    "print(moirai_model.model.device)"
   ]
  },
  {
   "cell_type": "code",
   "execution_count": 6,
   "metadata": {},
   "outputs": [],
   "source": [
    "eval_results, trues, preds, histories = moirai_model.evaluate(test_dataset, metrics=[\"MSE\", \"MASE\"])"
   ]
  },
  {
   "cell_type": "code",
   "execution_count": 7,
   "metadata": {},
   "outputs": [
    {
     "name": "stdout",
     "output_type": "stream",
     "text": [
      "{'MSE': 15.089754786781207, 'MASE': 2.1063146476274466}\n"
     ]
    }
   ],
   "source": [
    "print(eval_results)"
   ]
  },
  {
   "cell_type": "code",
   "execution_count": 10,
   "metadata": {},
   "outputs": [
    {
     "name": "stdout",
     "output_type": "stream",
     "text": [
      "0 (7, 13936)\n",
      "1 (7, 14000)\n",
      "2 (7, 14064)\n",
      "3 (7, 14128)\n",
      "4 (7, 14192)\n",
      "5 (7, 14256)\n",
      "6 (7, 14320)\n",
      "7 (7, 14384)\n",
      "8 (7, 14448)\n",
      "9 (7, 14512)\n",
      "10 (7, 14576)\n",
      "11 (7, 14640)\n",
      "12 (7, 14704)\n",
      "13 (7, 14768)\n",
      "14 (7, 14832)\n",
      "15 (7, 14896)\n",
      "16 (7, 14960)\n",
      "17 (7, 15024)\n",
      "18 (7, 15088)\n",
      "19 (7, 15152)\n",
      "20 (7, 15216)\n",
      "21 (7, 15280)\n",
      "22 (7, 15344)\n",
      "23 (7, 15408)\n",
      "24 (7, 15472)\n",
      "25 (7, 15536)\n",
      "26 (7, 15600)\n",
      "27 (7, 15664)\n",
      "28 (7, 15728)\n",
      "29 (7, 15792)\n",
      "30 (7, 15856)\n",
      "31 (7, 15920)\n",
      "32 (7, 15984)\n",
      "33 (7, 16048)\n",
      "34 (7, 16112)\n",
      "35 (7, 16176)\n",
      "36 (7, 16240)\n",
      "37 (7, 16304)\n",
      "38 (7, 16368)\n",
      "39 (7, 16432)\n",
      "40 (7, 16496)\n",
      "41 (7, 16560)\n",
      "42 (7, 16624)\n",
      "43 (7, 16688)\n",
      "44 (7, 16752)\n",
      "45 (7, 16816)\n",
      "46 (7, 16880)\n",
      "47 (7, 16944)\n",
      "48 (7, 17008)\n",
      "49 (7, 17072)\n",
      "50 (7, 17136)\n",
      "51 (7, 17200)\n",
      "52 (7, 17264)\n",
      "53 (7, 17328)\n"
     ]
    }
   ],
   "source": [
    "for i in range(len(histories)):\n",
    "    print(i, histories[i].shape)"
   ]
  },
  {
   "cell_type": "code",
   "execution_count": 11,
   "metadata": {},
   "outputs": [
    {
     "name": "stdout",
     "output_type": "stream",
     "text": [
      "17420\n"
     ]
    }
   ],
   "source": [
    "print(len(test_dataset.data))"
   ]
  },
  {
   "cell_type": "code",
   "execution_count": null,
   "metadata": {},
   "outputs": [],
   "source": []
  }
 ],
 "metadata": {
  "kernelspec": {
   "display_name": "timesfm",
   "language": "python",
   "name": "python3"
  },
  "language_info": {
   "codemirror_mode": {
    "name": "ipython",
    "version": 3
   },
   "file_extension": ".py",
   "mimetype": "text/x-python",
   "name": "python",
   "nbconvert_exporter": "python",
   "pygments_lexer": "ipython3",
   "version": "3.11.10"
  }
 },
 "nbformat": 4,
 "nbformat_minor": 2
}
