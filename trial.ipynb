{
 "cells": [
  {
   "cell_type": "markdown",
   "metadata": {},
   "source": [
    "# Playground notebook to test implementations"
   ]
  },
  {
   "cell_type": "code",
   "execution_count": 1,
   "metadata": {},
   "outputs": [],
   "source": [
    "from collections.abc import Generator\n",
    "from pathlib import Path\n",
    "from typing import Any\n",
    "\n",
    "import datasets\n",
    "import pandas as pd\n",
    "from datasets import Features, Sequence, Value"
   ]
  },
  {
   "cell_type": "code",
   "execution_count": 2,
   "metadata": {},
   "outputs": [],
   "source": [
    "# Load dataframe\n",
    "url_wide = (\n",
    "    \"https://gist.githubusercontent.com/rsnirwan/c8c8654a98350fadd229b00167174ec4\"\n",
    "    \"/raw/a42101c7786d4bc7695228a0f2c8cea41340e18f/ts_wide.csv\"\n",
    ")\n",
    "df = pd.read_csv(url_wide, index_col=0, parse_dates=True)"
   ]
  },
  {
   "cell_type": "code",
   "execution_count": 3,
   "metadata": {},
   "outputs": [
    {
     "data": {
      "text/plain": [
       "(240, 10)"
      ]
     },
     "execution_count": 3,
     "metadata": {},
     "output_type": "execute_result"
    }
   ],
   "source": [
    "df.shape"
   ]
  },
  {
   "cell_type": "code",
   "execution_count": 4,
   "metadata": {},
   "outputs": [
    {
     "data": {
      "text/html": [
       "<div>\n",
       "<style scoped>\n",
       "    .dataframe tbody tr th:only-of-type {\n",
       "        vertical-align: middle;\n",
       "    }\n",
       "\n",
       "    .dataframe tbody tr th {\n",
       "        vertical-align: top;\n",
       "    }\n",
       "\n",
       "    .dataframe thead th {\n",
       "        text-align: right;\n",
       "    }\n",
       "</style>\n",
       "<table border=\"1\" class=\"dataframe\">\n",
       "  <thead>\n",
       "    <tr style=\"text-align: right;\">\n",
       "      <th></th>\n",
       "      <th>A</th>\n",
       "      <th>B</th>\n",
       "      <th>C</th>\n",
       "      <th>D</th>\n",
       "      <th>E</th>\n",
       "      <th>F</th>\n",
       "      <th>G</th>\n",
       "      <th>H</th>\n",
       "      <th>I</th>\n",
       "      <th>J</th>\n",
       "    </tr>\n",
       "  </thead>\n",
       "  <tbody>\n",
       "    <tr>\n",
       "      <th>2021-01-01 00:00:00</th>\n",
       "      <td>-1.3378</td>\n",
       "      <td>0.1268</td>\n",
       "      <td>-0.3645</td>\n",
       "      <td>-1.0864</td>\n",
       "      <td>-2.3803</td>\n",
       "      <td>-0.2447</td>\n",
       "      <td>2.2647</td>\n",
       "      <td>-0.7917</td>\n",
       "      <td>0.7071</td>\n",
       "      <td>1.3763</td>\n",
       "    </tr>\n",
       "    <tr>\n",
       "      <th>2021-01-01 01:00:00</th>\n",
       "      <td>-1.6111</td>\n",
       "      <td>0.0926</td>\n",
       "      <td>-0.1364</td>\n",
       "      <td>-1.1613</td>\n",
       "      <td>-2.1421</td>\n",
       "      <td>-0.3477</td>\n",
       "      <td>2.4262</td>\n",
       "      <td>-0.9609</td>\n",
       "      <td>0.6413</td>\n",
       "      <td>1.2750</td>\n",
       "    </tr>\n",
       "    <tr>\n",
       "      <th>2021-01-01 02:00:00</th>\n",
       "      <td>-1.9259</td>\n",
       "      <td>-0.1420</td>\n",
       "      <td>0.1063</td>\n",
       "      <td>-1.0405</td>\n",
       "      <td>-2.1426</td>\n",
       "      <td>-0.3271</td>\n",
       "      <td>2.4434</td>\n",
       "      <td>-0.9034</td>\n",
       "      <td>0.4323</td>\n",
       "      <td>0.6767</td>\n",
       "    </tr>\n",
       "    <tr>\n",
       "      <th>2021-01-01 03:00:00</th>\n",
       "      <td>-1.9184</td>\n",
       "      <td>-0.4930</td>\n",
       "      <td>0.6269</td>\n",
       "      <td>-0.8531</td>\n",
       "      <td>-1.7060</td>\n",
       "      <td>-0.3088</td>\n",
       "      <td>2.4307</td>\n",
       "      <td>-0.9602</td>\n",
       "      <td>0.3193</td>\n",
       "      <td>0.5150</td>\n",
       "    </tr>\n",
       "    <tr>\n",
       "      <th>2021-01-01 04:00:00</th>\n",
       "      <td>-1.9168</td>\n",
       "      <td>-0.5057</td>\n",
       "      <td>0.9419</td>\n",
       "      <td>-0.7666</td>\n",
       "      <td>-1.4287</td>\n",
       "      <td>-0.4284</td>\n",
       "      <td>2.3258</td>\n",
       "      <td>-1.2504</td>\n",
       "      <td>0.3660</td>\n",
       "      <td>0.1708</td>\n",
       "    </tr>\n",
       "  </tbody>\n",
       "</table>\n",
       "</div>"
      ],
      "text/plain": [
       "                          A       B       C       D       E       F       G  \\\n",
       "2021-01-01 00:00:00 -1.3378  0.1268 -0.3645 -1.0864 -2.3803 -0.2447  2.2647   \n",
       "2021-01-01 01:00:00 -1.6111  0.0926 -0.1364 -1.1613 -2.1421 -0.3477  2.4262   \n",
       "2021-01-01 02:00:00 -1.9259 -0.1420  0.1063 -1.0405 -2.1426 -0.3271  2.4434   \n",
       "2021-01-01 03:00:00 -1.9184 -0.4930  0.6269 -0.8531 -1.7060 -0.3088  2.4307   \n",
       "2021-01-01 04:00:00 -1.9168 -0.5057  0.9419 -0.7666 -1.4287 -0.4284  2.3258   \n",
       "\n",
       "                          H       I       J  \n",
       "2021-01-01 00:00:00 -0.7917  0.7071  1.3763  \n",
       "2021-01-01 01:00:00 -0.9609  0.6413  1.2750  \n",
       "2021-01-01 02:00:00 -0.9034  0.4323  0.6767  \n",
       "2021-01-01 03:00:00 -0.9602  0.3193  0.5150  \n",
       "2021-01-01 04:00:00 -1.2504  0.3660  0.1708  "
      ]
     },
     "execution_count": 4,
     "metadata": {},
     "output_type": "execute_result"
    }
   ],
   "source": [
    "df.head()"
   ]
  },
  {
   "cell_type": "code",
   "execution_count": 5,
   "metadata": {},
   "outputs": [
    {
     "data": {
      "text/plain": [
       "('H',\n",
       "                       HUFL   HULL   MUFL   MULL   LUFL  LULL      OT\n",
       " date                                                                \n",
       " 2016-07-01 00:00:00  5.827  2.009  1.599  0.462  4.203  1.34  30.531)"
      ]
     },
     "execution_count": 5,
     "metadata": {},
     "output_type": "execute_result"
    }
   ],
   "source": [
    "path = \"src/samay/models/moment/data/ETTh1.csv\"\n",
    "df = pd.read_csv(path)\n",
    "df.set_index(\"date\", inplace=True)\n",
    "pd.infer_freq(df.index), df.head(1)"
   ]
  },
  {
   "cell_type": "code",
   "execution_count": 6,
   "metadata": {},
   "outputs": [],
   "source": [
    "def multivar_example_gen_func() -> Generator[dict[str, Any], None, None]:\n",
    "    yield {\n",
    "        \"target\": df.to_numpy().T,  # array of shape (var, time)\n",
    "        \"start\": df.index[0],\n",
    "        \"freq\": pd.infer_freq(df.index),\n",
    "        \"item_id\": \"item_0\",\n",
    "    }"
   ]
  },
  {
   "cell_type": "code",
   "execution_count": 7,
   "metadata": {},
   "outputs": [],
   "source": [
    "features = Features(\n",
    "    dict(\n",
    "        target=Sequence(\n",
    "            Sequence(Value(\"float32\")), length=len(df.columns)\n",
    "        ),  # multivariate time series are saved as (var, time)\n",
    "        start=Value(\"timestamp[s]\"),\n",
    "        freq=Value(\"string\"),\n",
    "        item_id=Value(\"string\"),\n",
    "    )\n",
    ")"
   ]
  },
  {
   "cell_type": "code",
   "execution_count": 8,
   "metadata": {},
   "outputs": [],
   "source": [
    "hf_dataset = datasets.Dataset.from_generator(\n",
    "    multivar_example_gen_func, features=features\n",
    ")"
   ]
  },
  {
   "cell_type": "code",
   "execution_count": 9,
   "metadata": {},
   "outputs": [
    {
     "data": {
      "text/plain": [
       "['add_column',\n",
       " 'add_elasticsearch_index',\n",
       " 'add_faiss_index',\n",
       " 'add_faiss_index_from_external_arrays',\n",
       " 'add_item',\n",
       " 'align_labels_with_mapping',\n",
       " 'builder_name',\n",
       " 'cache_files',\n",
       " 'cast',\n",
       " 'cast_column',\n",
       " 'citation',\n",
       " 'class_encode_column',\n",
       " 'cleanup_cache_files',\n",
       " 'column_names',\n",
       " 'config_name',\n",
       " 'data',\n",
       " 'dataset_size',\n",
       " 'description',\n",
       " 'download_checksums',\n",
       " 'download_size',\n",
       " 'drop_index',\n",
       " 'export',\n",
       " 'features',\n",
       " 'filter',\n",
       " 'flatten',\n",
       " 'flatten_indices',\n",
       " 'format',\n",
       " 'formatted_as',\n",
       " 'from_buffer',\n",
       " 'from_csv',\n",
       " 'from_dict',\n",
       " 'from_file',\n",
       " 'from_generator',\n",
       " 'from_json',\n",
       " 'from_list',\n",
       " 'from_pandas',\n",
       " 'from_parquet',\n",
       " 'from_spark',\n",
       " 'from_sql',\n",
       " 'from_text',\n",
       " 'get_index',\n",
       " 'get_nearest_examples',\n",
       " 'get_nearest_examples_batch',\n",
       " 'homepage',\n",
       " 'info',\n",
       " 'is_index_initialized',\n",
       " 'iter',\n",
       " 'license',\n",
       " 'list_indexes',\n",
       " 'load_elasticsearch_index',\n",
       " 'load_faiss_index',\n",
       " 'load_from_disk',\n",
       " 'map',\n",
       " 'num_columns',\n",
       " 'num_rows',\n",
       " 'prepare_for_task',\n",
       " 'push_to_hub',\n",
       " 'remove_columns',\n",
       " 'rename_column',\n",
       " 'rename_columns',\n",
       " 'reset_format',\n",
       " 'save_faiss_index',\n",
       " 'save_to_disk',\n",
       " 'search',\n",
       " 'search_batch',\n",
       " 'select',\n",
       " 'select_columns',\n",
       " 'set_format',\n",
       " 'set_transform',\n",
       " 'shape',\n",
       " 'shard',\n",
       " 'shuffle',\n",
       " 'size_in_bytes',\n",
       " 'sort',\n",
       " 'split',\n",
       " 'supervised_keys',\n",
       " 'task_templates',\n",
       " 'to_csv',\n",
       " 'to_dict',\n",
       " 'to_iterable_dataset',\n",
       " 'to_json',\n",
       " 'to_list',\n",
       " 'to_pandas',\n",
       " 'to_parquet',\n",
       " 'to_sql',\n",
       " 'to_tf_dataset',\n",
       " 'train_test_split',\n",
       " 'unique',\n",
       " 'version',\n",
       " 'with_format',\n",
       " 'with_transform']"
      ]
     },
     "execution_count": 9,
     "metadata": {},
     "output_type": "execute_result"
    }
   ],
   "source": [
    "[x for x in dir(hf_dataset) if not x.startswith(\"_\")]"
   ]
  },
  {
   "cell_type": "code",
   "execution_count": 10,
   "metadata": {},
   "outputs": [
    {
     "data": {
      "text/plain": [
       "{'target': Sequence(feature=Sequence(feature=Value(dtype='float32', id=None), length=-1, id=None), length=7, id=None),\n",
       " 'start': Value(dtype='timestamp[s]', id=None),\n",
       " 'freq': Value(dtype='string', id=None),\n",
       " 'item_id': Value(dtype='string', id=None)}"
      ]
     },
     "execution_count": 10,
     "metadata": {},
     "output_type": "execute_result"
    }
   ],
   "source": [
    "hf_dataset.features"
   ]
  },
  {
   "cell_type": "code",
   "execution_count": 11,
   "metadata": {},
   "outputs": [
    {
     "data": {
      "text/plain": [
       "dict_keys(['target', 'start', 'freq', 'item_id'])"
      ]
     },
     "execution_count": 11,
     "metadata": {},
     "output_type": "execute_result"
    }
   ],
   "source": [
    "hf_dataset[0].keys()"
   ]
  },
  {
   "cell_type": "code",
   "execution_count": 12,
   "metadata": {},
   "outputs": [
    {
     "data": {
      "text/plain": [
       "((7,), (17420,))"
      ]
     },
     "execution_count": 12,
     "metadata": {},
     "output_type": "execute_result"
    }
   ],
   "source": [
    "df1 = hf_dataset.to_pandas()\n",
    "df1[\"target\"][0].shape, df1[\"target\"][0][0].shape"
   ]
  },
  {
   "cell_type": "code",
   "execution_count": 13,
   "metadata": {},
   "outputs": [
    {
     "name": "stdout",
     "output_type": "stream",
     "text": [
      "Help on method to_pandas in module datasets.arrow_dataset:\n",
      "\n",
      "to_pandas(batch_size: Optional[int] = None, batched: bool = False) -> Union[pandas.core.frame.DataFrame, Iterator[pandas.core.frame.DataFrame]] method of datasets.arrow_dataset.Dataset instance\n",
      "    Returns the dataset as a `pandas.DataFrame`. Can also return a generator for large datasets.\n",
      "\n",
      "    Args:\n",
      "        batched (`bool`):\n",
      "            Set to `True` to return a generator that yields the dataset as batches\n",
      "            of `batch_size` rows. Defaults to `False` (returns the whole datasets once).\n",
      "        batch_size (`int`, *optional*):\n",
      "            The size (number of rows) of the batches if `batched` is `True`.\n",
      "            Defaults to `datasets.config.DEFAULT_MAX_BATCH_SIZE`.\n",
      "\n",
      "    Returns:\n",
      "        `pandas.DataFrame` or `Iterator[pandas.DataFrame]`\n",
      "\n",
      "    Example:\n",
      "\n",
      "    ```py\n",
      "    >>> ds.to_pandas()\n",
      "    ```\n",
      "\n"
     ]
    }
   ],
   "source": [
    "help(hf_dataset.to_pandas)"
   ]
  },
  {
   "cell_type": "code",
   "execution_count": 14,
   "metadata": {},
   "outputs": [
    {
     "data": {
      "text/html": [
       "<div>\n",
       "<style scoped>\n",
       "    .dataframe tbody tr th:only-of-type {\n",
       "        vertical-align: middle;\n",
       "    }\n",
       "\n",
       "    .dataframe tbody tr th {\n",
       "        vertical-align: top;\n",
       "    }\n",
       "\n",
       "    .dataframe thead th {\n",
       "        text-align: right;\n",
       "    }\n",
       "</style>\n",
       "<table border=\"1\" class=\"dataframe\">\n",
       "  <thead>\n",
       "    <tr style=\"text-align: right;\">\n",
       "      <th></th>\n",
       "      <th>target</th>\n",
       "      <th>start</th>\n",
       "      <th>freq</th>\n",
       "      <th>item_id</th>\n",
       "    </tr>\n",
       "  </thead>\n",
       "  <tbody>\n",
       "    <tr>\n",
       "      <th>0</th>\n",
       "      <td>[[5.827, 5.693, 5.157, 5.09, 5.358, 5.626, 7.1...</td>\n",
       "      <td>2016-07-01</td>\n",
       "      <td>H</td>\n",
       "      <td>item_0</td>\n",
       "    </tr>\n",
       "  </tbody>\n",
       "</table>\n",
       "</div>"
      ],
      "text/plain": [
       "                                              target      start freq item_id\n",
       "0  [[5.827, 5.693, 5.157, 5.09, 5.358, 5.626, 7.1... 2016-07-01    H  item_0"
      ]
     },
     "execution_count": 14,
     "metadata": {},
     "output_type": "execute_result"
    }
   ],
   "source": [
    "df1"
   ]
  },
  {
   "cell_type": "code",
   "execution_count": 15,
   "metadata": {},
   "outputs": [],
   "source": [
    "# External imports\n",
    "import os\n",
    "import sys\n",
    "import pandas as pd\n",
    "import matplotlib.pyplot as plt\n",
    "import random\n",
    "\n",
    "src_path = os.path.abspath(os.path.join(\"src\"))\n",
    "if src_path not in sys.path:\n",
    "    sys.path.insert(0, src_path)\n",
    "\n",
    "# Local imports\n",
    "from samay.dataset import MoiraiDataset\n",
    "from samay.model import MoiraiTSModel\n",
    "\n",
    "# Load the pretrained model\n",
    "repo = \"Salesforce/moirai-moe-1.0-R-small\"\n",
    "config = {\n",
    "        \"context_len\": 128,\n",
    "        \"horizon_len\": 64,\n",
    "        \"num_layers\": 100,\n",
    "        \"model_type\": \"moirai-moe\",\n",
    "        \"model_size\": \"small\"\n",
    "    }\n",
    "\n",
    "moirai_model = MoiraiTSModel(repor=repo, config=config)"
   ]
  },
  {
   "cell_type": "code",
   "execution_count": 16,
   "metadata": {},
   "outputs": [
    {
     "data": {
      "text/html": [
       "<div>\n",
       "<style scoped>\n",
       "    .dataframe tbody tr th:only-of-type {\n",
       "        vertical-align: middle;\n",
       "    }\n",
       "\n",
       "    .dataframe tbody tr th {\n",
       "        vertical-align: top;\n",
       "    }\n",
       "\n",
       "    .dataframe thead th {\n",
       "        text-align: right;\n",
       "    }\n",
       "</style>\n",
       "<table border=\"1\" class=\"dataframe\">\n",
       "  <thead>\n",
       "    <tr style=\"text-align: right;\">\n",
       "      <th></th>\n",
       "      <th>date</th>\n",
       "      <th>HUFL</th>\n",
       "      <th>HULL</th>\n",
       "      <th>MUFL</th>\n",
       "      <th>MULL</th>\n",
       "      <th>LUFL</th>\n",
       "      <th>LULL</th>\n",
       "      <th>OT</th>\n",
       "    </tr>\n",
       "  </thead>\n",
       "  <tbody>\n",
       "    <tr>\n",
       "      <th>0</th>\n",
       "      <td>2016-07-01 00:00:00</td>\n",
       "      <td>5.827</td>\n",
       "      <td>2.009</td>\n",
       "      <td>1.599</td>\n",
       "      <td>0.462</td>\n",
       "      <td>4.203</td>\n",
       "      <td>1.340</td>\n",
       "      <td>30.531000</td>\n",
       "    </tr>\n",
       "    <tr>\n",
       "      <th>1</th>\n",
       "      <td>2016-07-01 01:00:00</td>\n",
       "      <td>5.693</td>\n",
       "      <td>2.076</td>\n",
       "      <td>1.492</td>\n",
       "      <td>0.426</td>\n",
       "      <td>4.142</td>\n",
       "      <td>1.371</td>\n",
       "      <td>27.787001</td>\n",
       "    </tr>\n",
       "    <tr>\n",
       "      <th>2</th>\n",
       "      <td>2016-07-01 02:00:00</td>\n",
       "      <td>5.157</td>\n",
       "      <td>1.741</td>\n",
       "      <td>1.279</td>\n",
       "      <td>0.355</td>\n",
       "      <td>3.777</td>\n",
       "      <td>1.218</td>\n",
       "      <td>27.787001</td>\n",
       "    </tr>\n",
       "    <tr>\n",
       "      <th>3</th>\n",
       "      <td>2016-07-01 03:00:00</td>\n",
       "      <td>5.090</td>\n",
       "      <td>1.942</td>\n",
       "      <td>1.279</td>\n",
       "      <td>0.391</td>\n",
       "      <td>3.807</td>\n",
       "      <td>1.279</td>\n",
       "      <td>25.044001</td>\n",
       "    </tr>\n",
       "    <tr>\n",
       "      <th>4</th>\n",
       "      <td>2016-07-01 04:00:00</td>\n",
       "      <td>5.358</td>\n",
       "      <td>1.942</td>\n",
       "      <td>1.492</td>\n",
       "      <td>0.462</td>\n",
       "      <td>3.868</td>\n",
       "      <td>1.279</td>\n",
       "      <td>21.948000</td>\n",
       "    </tr>\n",
       "  </tbody>\n",
       "</table>\n",
       "</div>"
      ],
      "text/plain": [
       "                  date   HUFL   HULL   MUFL   MULL   LUFL   LULL         OT\n",
       "0  2016-07-01 00:00:00  5.827  2.009  1.599  0.462  4.203  1.340  30.531000\n",
       "1  2016-07-01 01:00:00  5.693  2.076  1.492  0.426  4.142  1.371  27.787001\n",
       "2  2016-07-01 02:00:00  5.157  1.741  1.279  0.355  3.777  1.218  27.787001\n",
       "3  2016-07-01 03:00:00  5.090  1.942  1.279  0.391  3.807  1.279  25.044001\n",
       "4  2016-07-01 04:00:00  5.358  1.942  1.492  0.462  3.868  1.279  21.948000"
      ]
     },
     "execution_count": 16,
     "metadata": {},
     "output_type": "execute_result"
    }
   ],
   "source": [
    "# Config for the electric transformer temperature dataset\n",
    "data_config = {\"name\" : \"ett\",\n",
    "                \"path\" : \"src/samay/models/moment/data/ETTh1.csv\",\n",
    "                \"date_col\" : \"date\",\n",
    "                \"freq\": \"h\"\n",
    "            }\n",
    "\n",
    "df = pd.read_csv(data_config[\"path\"])\n",
    "df.head()"
   ]
  },
  {
   "cell_type": "code",
   "execution_count": 17,
   "metadata": {},
   "outputs": [
    {
     "name": "stdout",
     "output_type": "stream",
     "text": [
      "[13936, 13936, 17419]\n",
      "[13936, 13936, 17419]\n"
     ]
    }
   ],
   "source": [
    "train = MoiraiDataset(\n",
    "    name=data_config['name'],\n",
    "    path=data_config['path'],\n",
    "    datetime_col=data_config['date_col'],\n",
    "    freq=data_config['freq'],\n",
    "    context_len=config['context_len'],\n",
    "    horizon_len=config['horizon_len'],\n",
    "    normalize=False\n",
    ")\n",
    "\n",
    "test = MoiraiDataset(\n",
    "    name=data_config['name'],\n",
    "    path=data_config['path'],\n",
    "    mode=\"test\",\n",
    "    datetime_col=data_config['date_col'],\n",
    "    freq=data_config['freq'],\n",
    "    context_len=config['context_len'],\n",
    "    horizon_len=config['horizon_len'],\n",
    "    normalize=False\n",
    ")"
   ]
  },
  {
   "cell_type": "code",
   "execution_count": 18,
   "metadata": {},
   "outputs": [
    {
     "data": {
      "text/plain": [
       "(torch.Size([13936, 7]), torch.Size([3484, 7]))"
      ]
     },
     "execution_count": 18,
     "metadata": {},
     "output_type": "execute_result"
    }
   ],
   "source": [
    "train.dataset.shape, test.dataset.shape"
   ]
  }
 ],
 "metadata": {
  "kernelspec": {
   "display_name": ".venv",
   "language": "python",
   "name": "python3"
  },
  "language_info": {
   "codemirror_mode": {
    "name": "ipython",
    "version": 3
   },
   "file_extension": ".py",
   "mimetype": "text/x-python",
   "name": "python",
   "nbconvert_exporter": "python",
   "pygments_lexer": "ipython3",
   "version": "3.12.7"
  }
 },
 "nbformat": 4,
 "nbformat_minor": 2
}
