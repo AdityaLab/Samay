{
  "nbformat": 4,
  "nbformat_minor": 0,
  "metadata": {
    "colab": {
      "provenance": [],
      "authorship_tag": "ABX9TyMOjbk5TzySlGkxItm+Z25O",
      "include_colab_link": true
    },
    "kernelspec": {
      "name": "python3",
      "display_name": "Python 3"
    },
    "language_info": {
      "name": "python"
    }
  },
  "cells": [
    {
      "cell_type": "markdown",
      "metadata": {
        "id": "view-in-github",
        "colab_type": "text"
      },
      "source": [
        "<a href=\"https://colab.research.google.com/github/Showmick119/Samay/blob/main/moment_forecasting.ipynb\" target=\"_parent\"><img src=\"https://colab.research.google.com/assets/colab-badge.svg\" alt=\"Open In Colab\"/></a>"
      ]
    },
    {
      "cell_type": "markdown",
      "source": [
        "# **Install Dependencies**"
      ],
      "metadata": {
        "id": "tpaQlDVlxetV"
      }
    },
    {
      "cell_type": "code",
      "execution_count": null,
      "metadata": {
        "id": "qF8U27Si8bbj"
      },
      "outputs": [],
      "source": [
        "!pip install samay-0.1.0-cp311-cp311-linux_x86_64.whl"
      ]
    },
    {
      "cell_type": "code",
      "source": [
        "!pip install --upgrade -U numpy --force"
      ],
      "metadata": {
        "id": "VGf7Oy_JxpYO"
      },
      "execution_count": null,
      "outputs": []
    },
    {
      "cell_type": "markdown",
      "source": [
        "# **Loading Moment Model**"
      ],
      "metadata": {
        "id": "0cbiLmxU2Lw-"
      }
    },
    {
      "cell_type": "code",
      "source": [
        "from samay.model import MomentModel\n",
        "from samay.dataset import MomentDataset\n",
        "from samay.utils import load_args\n",
        "\n",
        "repo = \"AutonLab/MOMENT-1-large\"\n",
        "config = {\n",
        "    \"task_name\": \"forecasting\",\n",
        "    \"forecast_horizon\": 192,\n",
        "    \"head_dropout\": 0.1,\n",
        "    \"weight_decay\": 0,\n",
        "    \"freeze_encoder\": True,  # Freeze the patch embedding layer\n",
        "    \"freeze_embedder\": True,  # Freeze the transformer encoder\n",
        "    \"freeze_head\": False,  # The linear forecasting head must be trained\n",
        "}\n",
        "mmt = MomentModel(config=config, repo=repo)"
      ],
      "metadata": {
        "id": "MzAU2V_tTXSB"
      },
      "execution_count": null,
      "outputs": []
    },
    {
      "cell_type": "markdown",
      "source": [
        "# **Loading Dataset**"
      ],
      "metadata": {
        "id": "Gt2KUswn2UtL"
      }
    },
    {
      "cell_type": "code",
      "source": [
        "!wget https://raw.githubusercontent.com/kage08/Samay/refs/heads/main/data/data/ETTh1.csv"
      ],
      "metadata": {
        "id": "mnIsa2TgJgCN"
      },
      "execution_count": null,
      "outputs": []
    },
    {
      "cell_type": "markdown",
      "source": [
        "# **Finetune Moment Model on the ETT dataset**"
      ],
      "metadata": {
        "id": "49ihlnzET33r"
      }
    },
    {
      "cell_type": "code",
      "source": [
        "train_dataset = MomentDataset(name=\"ett\", datetime_col='date', path='../src/tsfmproject/models/moment/data/ETTh1.csv',\n",
        "                              mode='train', horizon_len=192)\n",
        "# dtl = train_dataset.get_data_loader()\n",
        "\n",
        "val_dataset = MomentDataset(name=\"ett\", datetime_col='date', path='../src/tsfmproject/models/moment/data/ETTh1.csv',\n",
        "                            mode='test', horizon_len=192)\n",
        "# path = '../src/tsfmproject/models/moment/data/ETTh1.csv'\n",
        "\n",
        "# dataset = MomentDataset(name=\"ett\", datetime_col='date', path=path,\n",
        "#                               mode='train', horizon=192)\n",
        "\n",
        "finetuned_model = mmt.finetune(train_dataset, task_name=\"forecasting\")\n",
        "mmt.evaluate(val_dataset, task_name=\"forecasting\")"
      ],
      "metadata": {
        "id": "NlPWSR-VT7Zm"
      },
      "execution_count": null,
      "outputs": []
    },
    {
      "cell_type": "markdown",
      "source": [
        "# **Test the Finetuned Model**"
      ],
      "metadata": {
        "id": "jVTskCB-UKPp"
      }
    },
    {
      "cell_type": "code",
      "source": [
        "# avg_loss, trues, preds, histories = mmt.evaluate(val_dataset, task_name='forecasting')\n",
        "# print(\"Validation loss:\", avg_loss)\n",
        "mmt.plot(val_dataset, task_name='forecasting')"
      ],
      "metadata": {
        "id": "keWlMzyCUQJ3"
      },
      "execution_count": null,
      "outputs": []
    },
    {
      "cell_type": "markdown",
      "source": [
        "# **Visualization of the evaluation**"
      ],
      "metadata": {
        "id": "Lkrbk9zvUS04"
      }
    },
    {
      "cell_type": "code",
      "source": [
        "# import matplotlib.pyplot as plt\n",
        "\n",
        "# # Pick a random channel and time index\n",
        "# trues = np.array(trues)\n",
        "# preds = np.array(preds)\n",
        "# histories = np.array(histories)\n",
        "# channel_idx = np.random.randint(0, 7)\n",
        "# time_index = np.random.randint(0, trues.shape[0])\n",
        "\n",
        "# history = histories[time_index, channel_idx, :]\n",
        "# true = trues[time_index, channel_idx, :]\n",
        "# pred = preds[time_index, channel_idx, :]\n",
        "\n",
        "# plt.figure(figsize=(12, 4))\n",
        "\n",
        "# # Plotting the first time series from history\n",
        "# plt.plot(range(len(history)), history, label='History (512 timesteps)', c='darkblue')\n",
        "\n",
        "# # Plotting ground truth and prediction\n",
        "# num_forecasts = len(true)\n",
        "\n",
        "# offset = len(history)\n",
        "# plt.plot(range(offset, offset + len(true)), true, label='Ground Truth (192 timesteps)', color='darkblue', linestyle='--', alpha=0.5)\n",
        "# plt.plot(range(offset, offset + len(pred)), pred, label='Forecast (192 timesteps)', color='red', linestyle='--')\n",
        "\n",
        "# plt.title(f\"ETTh1 (Hourly) -- (idx={time_index}, channel={channel_idx})\", fontsize=18)\n",
        "# plt.xlabel('Time', fontsize=14)\n",
        "# plt.ylabel('Value', fontsize=14)\n",
        "# plt.legend(fontsize=14)\n",
        "# plt.show()"
      ],
      "metadata": {
        "id": "o7F-UCfnUUtF"
      },
      "execution_count": null,
      "outputs": []
    }
  ]
}
