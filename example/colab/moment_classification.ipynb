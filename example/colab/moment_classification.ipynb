{
  "nbformat": 4,
  "nbformat_minor": 0,
  "metadata": {
    "colab": {
      "provenance": [],
      "authorship_tag": "ABX9TyNoSDnZw0e+6sXWq4gOcrTv",
      "include_colab_link": true
    },
    "kernelspec": {
      "name": "python3",
      "display_name": "Python 3"
    },
    "language_info": {
      "name": "python"
    }
  },
  "cells": [
    {
      "cell_type": "markdown",
      "metadata": {
        "id": "view-in-github",
        "colab_type": "text"
      },
      "source": [
        "<a href=\"https://colab.research.google.com/github/Showmick119/Samay/blob/main/moment_classification.ipynb\" target=\"_parent\"><img src=\"https://colab.research.google.com/assets/colab-badge.svg\" alt=\"Open In Colab\"/></a>"
      ]
    },
    {
      "cell_type": "markdown",
      "source": [
        "# **Install Dependencies**"
      ],
      "metadata": {
        "id": "tpaQlDVlxetV"
      }
    },
    {
      "cell_type": "code",
      "execution_count": null,
      "metadata": {
        "id": "qF8U27Si8bbj"
      },
      "outputs": [],
      "source": [
        "!pip install samay-0.1.0-cp311-cp311-linux_x86_64.whl"
      ]
    },
    {
      "cell_type": "code",
      "source": [
        "!pip install --upgrade -U numpy --force"
      ],
      "metadata": {
        "id": "VGf7Oy_JxpYO"
      },
      "execution_count": null,
      "outputs": []
    },
    {
      "cell_type": "markdown",
      "source": [
        "# **Loading Moment Model**"
      ],
      "metadata": {
        "id": "0cbiLmxU2Lw-"
      }
    },
    {
      "cell_type": "code",
      "source": [
        "from samay.model import MomentModel\n",
        "from samay.dataset import MomentDataset\n",
        "from samay.models.moment.momentfm.models.statistical_classifiers import fit_svm\n",
        "from samay.utils import load_args\n",
        "\n",
        "repo = \"AutonLab/MOMENT-1-large\"\n",
        "config = {\"task_name\": \"classification\", \"n_channels\": 1, \"num_class\": 5}\n",
        "mmt = MomentModel(config=config, repo=repo)"
      ],
      "metadata": {
        "id": "9KSGbm9r9wVy"
      },
      "execution_count": null,
      "outputs": []
    },
    {
      "cell_type": "markdown",
      "source": [
        "# **Loading Dataset**"
      ],
      "metadata": {
        "id": "n9Nl5kajSVlc"
      }
    },
    {
      "cell_type": "code",
      "source": [
        "!wget https://raw.githubusercontent.com/kage08/Samay/refs/heads/main/data/data/ETTh1.csv"
      ],
      "metadata": {
        "id": "mnIsa2TgJgCN"
      },
      "execution_count": null,
      "outputs": []
    },
    {
      "cell_type": "markdown",
      "source": [
        "# **Use a SVM classifier to evaluate zero-shot embeddings of Moment model**"
      ],
      "metadata": {
        "id": "4k7hDhXGScrx"
      }
    },
    {
      "cell_type": "code",
      "source": [
        "train_dataset = MomentDataset(\n",
        "    name=\"ecg5000\",\n",
        "    path=\"/nethome/sli999/TSFMProject/src/tsfmproject/models/moment/data/ECG5000_TRAIN.csv\",\n",
        "    batchsize=64,\n",
        "    mode=\"train\",\n",
        "    task_name=\"classification\",\n",
        ")\n",
        "test_dataset = MomentDataset(\n",
        "    name=\"ecg5000\",\n",
        "    path=\"/nethome/sli999/TSFMProject/src/tsfmproject/models/moment/data/ECG5000_TEST.csv\",\n",
        "    batchsize=64,\n",
        "    mode=\"test\",\n",
        "    task_name=\"classification\",\n",
        ")\n",
        "\n",
        "train_accuracy, train_embeddings, train_labels = mmt.evaluate(\n",
        "    train_dataset, task_name=\"classification\"\n",
        ")\n",
        "test_accuracy, test_embeddings, test_labels = mmt.evaluate(\n",
        "    test_dataset, task_name=\"classification\"\n",
        ")\n",
        "print(train_embeddings.shape, train_labels.shape)\n",
        "\n",
        "clf = fit_svm(features=train_embeddings, y=train_labels)\n",
        "\n",
        "y_pred_train = clf.predict(train_embeddings)\n",
        "y_pred_test = clf.predict(test_embeddings)\n",
        "train_accuracy = clf.score(train_embeddings, train_labels)\n",
        "test_accuracy = clf.score(test_embeddings, test_labels)\n",
        "\n",
        "print(f\"Train accuracy: {train_accuracy:.2f}\")\n",
        "print(f\"Test accuracy: {test_accuracy:.2f}\")"
      ],
      "metadata": {
        "id": "1BcqPINMSf-M"
      },
      "execution_count": null,
      "outputs": []
    },
    {
      "cell_type": "markdown",
      "source": [
        "# **Visualize the embeddings**"
      ],
      "metadata": {
        "id": "vFe6nzXMSjaT"
      }
    },
    {
      "cell_type": "code",
      "source": [
        "from sklearn.decomposition import PCA\n",
        "import matplotlib.pyplot as plt\n",
        "\n",
        "\n",
        "test_embeddings_manifold = PCA(n_components=2).fit_transform(test_embeddings)\n",
        "\n",
        "plt.title(\"ECG5000 Test Embeddings\", fontsize=20)\n",
        "plt.scatter(\n",
        "    test_embeddings_manifold[:, 0],\n",
        "    test_embeddings_manifold[:, 1],\n",
        "    c=test_labels.squeeze(),\n",
        ")\n",
        "plt.xticks(fontsize=16)\n",
        "plt.yticks(fontsize=16)\n",
        "plt.show()"
      ],
      "metadata": {
        "id": "eTir0t5MSlt9"
      },
      "execution_count": null,
      "outputs": []
    },
    {
      "cell_type": "markdown",
      "source": [
        "# **Finetune Moment model for classification**"
      ],
      "metadata": {
        "id": "pHu3gQT_SoBO"
      }
    },
    {
      "cell_type": "code",
      "source": [
        "finetuned_model = mmt.finetune(\n",
        "    train_dataset, task_name=\"classification\", epoch=10, lr=0.1\n",
        ")"
      ],
      "metadata": {
        "id": "6arKH_p4Sq-Z"
      },
      "execution_count": null,
      "outputs": []
    },
    {
      "cell_type": "markdown",
      "source": [
        "# **Evaluate the finetuned model**"
      ],
      "metadata": {
        "id": "3cJ8l9v6SuuB"
      }
    },
    {
      "cell_type": "code",
      "source": [
        "accuracy, embeddings, lebels = mmt.evaluate(test_dataset, task_name=\"classification\")\n",
        "print(accuracy)"
      ],
      "metadata": {
        "id": "Dk5iOBAHSsqF"
      },
      "execution_count": null,
      "outputs": []
    }
  ]
}
