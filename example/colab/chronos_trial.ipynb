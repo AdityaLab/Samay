{
  "nbformat": 4,
  "nbformat_minor": 0,
  "metadata": {
    "colab": {
      "provenance": [],
      "authorship_tag": "ABX9TyPxvN1ZBJ3PXV+dtaz3/lQX",
      "include_colab_link": true
    },
    "kernelspec": {
      "name": "python3",
      "display_name": "Python 3"
    },
    "language_info": {
      "name": "python"
    }
  },
  "cells": [
    {
      "cell_type": "markdown",
      "metadata": {
        "id": "view-in-github",
        "colab_type": "text"
      },
      "source": [
        "<a href=\"https://colab.research.google.com/github/Showmick119/Samay/blob/main/chronos_trial.ipynb\" target=\"_parent\"><img src=\"https://colab.research.google.com/assets/colab-badge.svg\" alt=\"Open In Colab\"/></a>"
      ]
    },
    {
      "cell_type": "markdown",
      "source": [
        "# **Install Dependencies**"
      ],
      "metadata": {
        "id": "tpaQlDVlxetV"
      }
    },
    {
      "cell_type": "code",
      "execution_count": null,
      "metadata": {
        "id": "qF8U27Si8bbj"
      },
      "outputs": [],
      "source": [
        "!pip install samay-0.1.0-cp311-cp311-linux_x86_64.whl"
      ]
    },
    {
      "cell_type": "code",
      "source": [
        "!pip install --upgrade -U numpy --force"
      ],
      "metadata": {
        "id": "VGf7Oy_JxpYO"
      },
      "execution_count": null,
      "outputs": []
    },
    {
      "cell_type": "markdown",
      "source": [
        "# **Importing Requirements**"
      ],
      "metadata": {
        "id": "0cbiLmxU2Lw-"
      }
    },
    {
      "cell_type": "code",
      "source": [
        "import os\n",
        "import sys\n",
        "\n",
        "import numpy as np\n",
        "import torch\n",
        "\n",
        "src_path = os.path.abspath(os.path.join(\"src\"))\n",
        "if src_path not in sys.path:\n",
        "    sys.path.insert(0, src_path)\n",
        "\n",
        "print(sys.path)"
      ],
      "metadata": {
        "id": "9KSGbm9r9wVy"
      },
      "execution_count": null,
      "outputs": []
    },
    {
      "cell_type": "code",
      "source": [
        "from samay.dataset import ChronosDataset\n",
        "from samay.model import ChronosModel\n",
        "from samay.visualization import ForecastVisualization"
      ],
      "metadata": {
        "id": "0-Z4X0kdNPR8"
      },
      "execution_count": null,
      "outputs": []
    },
    {
      "cell_type": "markdown",
      "source": [
        "# **Loading Dataset**"
      ],
      "metadata": {
        "id": "Gt2KUswn2UtL"
      }
    },
    {
      "cell_type": "code",
      "source": [
        "!wget https://raw.githubusercontent.com/kage08/Samay/refs/heads/main/data/data/ETTh1.csv"
      ],
      "metadata": {
        "id": "mnIsa2TgJgCN"
      },
      "execution_count": null,
      "outputs": []
    },
    {
      "cell_type": "code",
      "source": [
        "train_dataset = ChronosDataset(\n",
        "    name=\"ett\",\n",
        "    mode=\"train\",\n",
        "    path=\"/nethome/sli999/TSFMProject/src/tsfmproject/models/moment/data/ETTh1.csv\",\n",
        "    datetime_col=\"date\",\n",
        "    freq=\"h\",\n",
        "    context_len=128,\n",
        "    horizon_len=64,\n",
        ")\n",
        "test_dataset = ChronosDataset(\n",
        "    name=\"ett\",\n",
        "    mode=\"test\",\n",
        "    path=\"/nethome/sli999/TSFMProject/src/tsfmproject/models/moment/data/ETTh1.csv\",\n",
        "    datetime_col=\"date\",\n",
        "    freq=\"h\",\n",
        "    context_len=128,\n",
        "    horizon_len=64,\n",
        ")\n",
        "# train_dataset = ChronosDataset(name=\"ett\", mode=\"train\", path='/nethome/abhalerao9/TIMESERIESMODELING/TSFMProject/data/dataset/timesfm_covid_pivot.csv', datetime_col='ds', freq='D', context_len=64, horizon_len=16)\n",
        "# test_dataset = ChronosDataset(name=\"ett\", mode=\"test\", path='/nethome/abhalerao9/TIMESERIESMODELING/TSFMProject/data/dataset/timesfm_covid_pivot.csv', datetime_col='ds', freq='D', context_len=64, horizon_len=16)\n",
        "print(len(test_dataset.dataset))\n",
        "# print(test_dataset.dataset.shape)"
      ],
      "metadata": {
        "id": "UoMPUycM-uX4"
      },
      "execution_count": null,
      "outputs": []
    },
    {
      "cell_type": "markdown",
      "source": [
        "# **Loading the Chronos Model**"
      ],
      "metadata": {
        "id": "OgcxscvD3Ee8"
      }
    },
    {
      "cell_type": "code",
      "source": [
        "repo = \"amazon/chronos-t5-small\"\n",
        "ch = ChronosModel(config=None, repo=repo)\n",
        "ch.load_model()"
      ],
      "metadata": {
        "id": "yfcJVg7d-xE0"
      },
      "execution_count": null,
      "outputs": []
    },
    {
      "cell_type": "code",
      "source": [
        "print(ch.model.model.device)"
      ],
      "metadata": {
        "id": "lt5Scq3e-zTu"
      },
      "execution_count": null,
      "outputs": []
    },
    {
      "cell_type": "code",
      "source": [
        "eval_results, trues, preds, histories = ch.evaluate(\n",
        "    test_dataset, batch_size=8, metrics=[\"MSE\", \"MASE\"]\n",
        ")\n",
        "print(eval_results)\n",
        "# visualization = ForecastVisualization(trues, preds[:,:,1,:], histories)\n",
        "# visualization.plot()"
      ],
      "metadata": {
        "id": "Jsmfu_hS-1S-"
      },
      "execution_count": null,
      "outputs": []
    },
    {
      "cell_type": "code",
      "source": [
        "visualization = ForecastVisualization(trues, preds, histories)\n",
        "visualization.plot(channel_idx=0, time_idx=0)"
      ],
      "metadata": {
        "id": "Dk_Rkgvd-373"
      },
      "execution_count": null,
      "outputs": []
    },
    {
      "cell_type": "code",
      "source": [
        "print(trues.shape)\n",
        "print(preds.shape)\n",
        "print(histories.shape)"
      ],
      "metadata": {
        "id": "k-Y5T3qk-6RV"
      },
      "execution_count": null,
      "outputs": []
    },
    {
      "cell_type": "code",
      "source": [
        "ch.finetune(train_dataset)"
      ],
      "metadata": {
        "id": "TWElWIOD-75d"
      },
      "execution_count": null,
      "outputs": []
    },
    {
      "cell_type": "code",
      "source": [
        "latest_run_dir = ch.get_latest_run_dir()\n",
        "model_dir = os.path.join(latest_run_dir, \"checkpoint-final\")\n",
        "model_type = \"seq2seq\"\n",
        "model = ch.load_model(model_dir, model_type)"
      ],
      "metadata": {
        "id": "X4FyWD2q-9_-"
      },
      "execution_count": null,
      "outputs": []
    },
    {
      "cell_type": "code",
      "source": [
        "eval_results, trues, preds, histories = ch.evaluate(\n",
        "    test_dataset, batch_size=8, metrics=[\"MSE\", \"MASE\"]\n",
        ")\n",
        "print(eval_results)"
      ],
      "metadata": {
        "id": "UjsDeYg9-_0T"
      },
      "execution_count": null,
      "outputs": []
    },
    {
      "cell_type": "code",
      "source": [
        "visualization = ForecastVisualization(trues, preds, histories)\n",
        "visualization.plot(channel_idx=0, time_index=0)"
      ],
      "metadata": {
        "id": "SumTaMAd_B2d"
      },
      "execution_count": null,
      "outputs": []
    },
    {
      "cell_type": "code",
      "source": [
        "data = test_dataset.dataset\n",
        "data = np.array(data).transpose()\n",
        "\n",
        "print(data.shape)"
      ],
      "metadata": {
        "id": "Xvrrb_eL_DWh"
      },
      "execution_count": null,
      "outputs": []
    },
    {
      "cell_type": "code",
      "source": [
        "input = [torch.tensor(ts[:1000]) for i, ts in enumerate(data)]\n",
        "print(input[0].shape)\n",
        "predictions = ch.model.predict(context=input, prediction_length=64, num_samples=10)"
      ],
      "metadata": {
        "id": "ex5hbQEF_FBD"
      },
      "execution_count": null,
      "outputs": []
    },
    {
      "cell_type": "code",
      "source": [
        "from gluonts.dataset.pandas import PandasDataset\n",
        "from gluonts.dataset.split import split"
      ],
      "metadata": {
        "id": "cfJ6LK1ONpMf"
      },
      "execution_count": null,
      "outputs": []
    },
    {
      "cell_type": "code",
      "source": [
        "dataset = test_dataset.dataset\n",
        "dataset = PandasDataset(dict(dataset))\n",
        "train, test_template = split(dataset, offset=-128 + 20 * 64)\n",
        "print(test_template)\n",
        "print(len(dataset))\n",
        "test_data = test_template.generate_instances(\n",
        "    prediction_length=64, windows=20, distance=64\n",
        ")"
      ],
      "metadata": {
        "id": "nYGxZbHnNrA-"
      },
      "execution_count": null,
      "outputs": []
    },
    {
      "cell_type": "code",
      "source": [
        "print(test_data)"
      ],
      "metadata": {
        "id": "5TAndQWYNswE"
      },
      "execution_count": null,
      "outputs": []
    },
    {
      "cell_type": "code",
      "source": [
        "input_it = iter(test_data.input)\n",
        "label_it = iter(test_data.label)\n",
        "# inp = next(input_it)\n",
        "# label = next(label_it)\n",
        "print(inp)\n",
        "print(label[\"target\"].shape)"
      ],
      "metadata": {
        "id": "b_qowpKnNup2"
      },
      "execution_count": null,
      "outputs": []
    },
    {
      "cell_type": "code",
      "source": [
        "for inp, label in zip(input_it, label_it):\n",
        "    print(inp[\"item_id\"], label[\"item_id\"], label[\"target\"].shape)"
      ],
      "metadata": {
        "id": "uruJM9vqNxs-"
      },
      "execution_count": null,
      "outputs": []
    },
    {
      "cell_type": "code",
      "source": [
        "print(test_dataset.dataset)"
      ],
      "metadata": {
        "id": "PSDdqD-kNz7w"
      },
      "execution_count": null,
      "outputs": []
    },
    {
      "cell_type": "code",
      "source": [
        "import torch\n",
        "from torch.utils.data import DataLoader, Dataset\n",
        "\n",
        "\n",
        "class ChronosWindowDataset(Dataset):\n",
        "    \"\"\"\n",
        "    A PyTorch Dataset for sliding window extraction from time series data.\n",
        "    \"\"\"\n",
        "\n",
        "    def __init__(self, data, context_len, horizon_len, stride=-1):\n",
        "        \"\"\"\n",
        "        Initialize the dataset with sliding window logic.\n",
        "\n",
        "        Args:\n",
        "            data (pd.DataFrame): The input time series data.\n",
        "            context_len (int): Length of the context window.\n",
        "            horizon_len (int): Length of the forecast horizon.\n",
        "            stride (int): Step size for sliding the window.\n",
        "        \"\"\"\n",
        "        self.data = data\n",
        "        self.context_len = context_len\n",
        "        self.horizon_len = horizon_len\n",
        "        self.total_len = context_len + horizon_len\n",
        "        self.stride = stride\n",
        "\n",
        "        if self.stride == -1:\n",
        "            self.stride = self.horizon_len\n",
        "\n",
        "        # Generate start indices for sliding windows\n",
        "        self.indices = [\n",
        "            start for start in range(0, len(data) - self.total_len + 1, self.stride)\n",
        "        ]\n",
        "\n",
        "    def __len__(self):\n",
        "        return len(self.indices)\n",
        "\n",
        "    def __getitem__(self, idx):\n",
        "        start = self.indices[idx]\n",
        "        window = self.data.iloc[start : start + self.total_len]\n",
        "\n",
        "        # Extract context and actuals, and convert to Torch tensors\n",
        "        context = torch.tensor(\n",
        "            window.iloc[: self.context_len].to_numpy().transpose(), dtype=torch.float32\n",
        "        )\n",
        "        actual = torch.tensor(\n",
        "            window.iloc[self.context_len :].to_numpy().transpose(), dtype=torch.float32\n",
        "        )\n",
        "\n",
        "        # # Return the input as a list of tensors (one for each column)\n",
        "        # input_list = [context[i] for i in range(context.shape[0])]\n",
        "\n",
        "        return context, actual"
      ],
      "metadata": {
        "id": "0_HeGsp7N0p2"
      },
      "execution_count": null,
      "outputs": []
    },
    {
      "cell_type": "code",
      "source": [
        "test_data = test_dataset.dataset\n",
        "print(test_data)"
      ],
      "metadata": {
        "id": "d5gwi5DWN5OM"
      },
      "execution_count": null,
      "outputs": []
    },
    {
      "cell_type": "code",
      "source": [
        "import torch\n",
        "from torch.utils.data import Dataset\n",
        "\n",
        "#  window_dataset = ChronosWindowDataset(data=test_data, context_len=128, horizon_len=64)\n",
        "data_loader = DataLoader(test_data, batch_size=8, shuffle=False)"
      ],
      "metadata": {
        "id": "gysL-YTAN61s"
      },
      "execution_count": null,
      "outputs": []
    },
    {
      "cell_type": "code",
      "source": [
        "with torch.no_grad():\n",
        "    for i, (context, actual) in enumerate(data_loader):\n",
        "        print(context.shape)\n",
        "        print(actual.shape)"
      ],
      "metadata": {
        "id": "vOnq2B7cN8ou"
      },
      "execution_count": null,
      "outputs": []
    },
    {
      "cell_type": "code",
      "source": [
        "input, actual = next(iter(data_loader))\n",
        "input = input.squeeze()\n",
        "actual = actual.squeeze()\n",
        "print(input.shape)\n",
        "print(actual.shape)"
      ],
      "metadata": {
        "id": "TRQ4SDaVN-Xy"
      },
      "execution_count": null,
      "outputs": []
    },
    {
      "cell_type": "code",
      "source": [
        "input_stack = input.reshape(-1, 128)\n",
        "print(input_stack.shape)"
      ],
      "metadata": {
        "id": "-1KkT_1GOAL8"
      },
      "execution_count": null,
      "outputs": []
    },
    {
      "cell_type": "code",
      "source": [
        "actual = actual.reshape(-1, 64)\n",
        "print(actual.shape)"
      ],
      "metadata": {
        "id": "Df5hiY9MOAlQ"
      },
      "execution_count": null,
      "outputs": []
    },
    {
      "cell_type": "code",
      "source": [
        "predictions = ch.model.predict(\n",
        "    context=input_stack, prediction_length=64, num_samples=20\n",
        ")"
      ],
      "metadata": {
        "id": "9QeD4CI0ODBM"
      },
      "execution_count": null,
      "outputs": []
    },
    {
      "cell_type": "code",
      "source": [
        "print(predictions.shape)"
      ],
      "metadata": {
        "id": "Hb2d_xRYOGvA"
      },
      "execution_count": null,
      "outputs": []
    },
    {
      "cell_type": "code",
      "source": [
        "print(predictions.shape)\n",
        "pred_median = np.median(predictions, axis=1)\n",
        "print(pred_median.shape)\n",
        "pred_quantiles = np.quantile(\n",
        "    predictions, [0.1, 0.2, 0.3, 0.4, 0.5, 0.6, 0.7, 0.8, 0.9], axis=1\n",
        ")\n",
        "print(pred_quantiles.shape)"
      ],
      "metadata": {
        "id": "xaGEglU5OJB1"
      },
      "execution_count": null,
      "outputs": []
    },
    {
      "cell_type": "code",
      "source": [
        "actual = actual.reshape(-1, 64)\n",
        "print(actual.shape)"
      ],
      "metadata": {
        "id": "jwKg5EBtOKdF"
      },
      "execution_count": null,
      "outputs": []
    },
    {
      "cell_type": "code",
      "source": [
        "mse1 = np.mean((actual.numpy() - pred_quantiles[4]) ** 2)\n",
        "print(mse1)\n",
        "mse1 = np.mean((actual.numpy() - pred_median) ** 2)\n",
        "print(mse1)"
      ],
      "metadata": {
        "id": "HsFP4XrkOMAB"
      },
      "execution_count": null,
      "outputs": []
    },
    {
      "cell_type": "code",
      "source": [
        "print(ch.model.model.device)"
      ],
      "metadata": {
        "id": "o2O76zOzON49"
      },
      "execution_count": null,
      "outputs": []
    },
    {
      "cell_type": "code",
      "source": [
        "actual = actual.reshape(8, 7, 64)\n",
        "pred_median = pred_median.reshape(8, 7, 64)\n",
        "print(actual.shape)"
      ],
      "metadata": {
        "id": "6vgEzR4aOPZD"
      },
      "execution_count": null,
      "outputs": []
    },
    {
      "cell_type": "code",
      "source": [
        "mse1 = np.mean((actual - pred_median) ** 2)\n",
        "print(mse1)"
      ],
      "metadata": {
        "id": "-2_f2c-aOP8w"
      },
      "execution_count": null,
      "outputs": []
    },
    {
      "cell_type": "code",
      "source": [
        "data = test_dataset.dataset\n",
        "print(len(data.iloc[:10]))"
      ],
      "metadata": {
        "id": "p2BmmGwPORRa"
      },
      "execution_count": null,
      "outputs": []
    }
  ]
}
