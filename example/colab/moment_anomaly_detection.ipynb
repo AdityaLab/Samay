{
  "nbformat": 4,
  "nbformat_minor": 0,
  "metadata": {
    "colab": {
      "provenance": [],
      "authorship_tag": "ABX9TyPLZ1a9i7oPxMNhCvZBpzN+",
      "include_colab_link": true
    },
    "kernelspec": {
      "name": "python3",
      "display_name": "Python 3"
    },
    "language_info": {
      "name": "python"
    }
  },
  "cells": [
    {
      "cell_type": "markdown",
      "metadata": {
        "id": "view-in-github",
        "colab_type": "text"
      },
      "source": [
        "<a href=\"https://colab.research.google.com/github/Showmick119/Samay/blob/main/moment_anomaly_detection.ipynb\" target=\"_parent\"><img src=\"https://colab.research.google.com/assets/colab-badge.svg\" alt=\"Open In Colab\"/></a>"
      ]
    },
    {
      "cell_type": "markdown",
      "source": [
        "# **Install Dependencies**"
      ],
      "metadata": {
        "id": "tpaQlDVlxetV"
      }
    },
    {
      "cell_type": "code",
      "execution_count": null,
      "metadata": {
        "id": "qF8U27Si8bbj"
      },
      "outputs": [],
      "source": [
        "!pip install samay-0.1.0-cp311-cp311-linux_x86_64.whl"
      ]
    },
    {
      "cell_type": "code",
      "source": [
        "!pip install --upgrade -U numpy --force"
      ],
      "metadata": {
        "id": "VGf7Oy_JxpYO"
      },
      "execution_count": null,
      "outputs": []
    },
    {
      "cell_type": "markdown",
      "source": [
        "# **Loading Moment Model**"
      ],
      "metadata": {
        "id": "0cbiLmxU2Lw-"
      }
    },
    {
      "cell_type": "code",
      "source": [
        "from samay.model import MomentModel\n",
        "from samay.dataset import MomentDataset\n",
        "from samay.utils import load_args\n",
        "\n",
        "repo = \"AutonLab/MOMENT-1-large\"\n",
        "config = {\n",
        "    \"task_name\": \"reconstruction\",\n",
        "}\n",
        "mmt = MomentModel(config=config, repo=repo)"
      ],
      "metadata": {
        "id": "aQSjnUjKQqlE"
      },
      "execution_count": null,
      "outputs": []
    },
    {
      "cell_type": "markdown",
      "source": [
        "# **Loading Dataset**"
      ],
      "metadata": {
        "id": "Gt2KUswn2UtL"
      }
    },
    {
      "cell_type": "code",
      "source": [
        "!wget https://raw.githubusercontent.com/kage08/Samay/refs/heads/main/data/data/ETTh1.csv"
      ],
      "metadata": {
        "id": "mnIsa2TgJgCN"
      },
      "execution_count": null,
      "outputs": []
    },
    {
      "cell_type": "markdown",
      "source": [
        "# **Zero-Shot Anomaly Detection Using Moment Model**"
      ],
      "metadata": {
        "id": "CHgBRG2AQ4vD"
      }
    },
    {
      "cell_type": "code",
      "source": [
        "train_dataset = MomentDataset(name=\"ett\", path='../src/tsfmproject/models/moment/data/198_UCR_Anomaly_tiltAPB2_50000_124159_124985.out',\n",
        "                              mode=\"train\", boundaries=[50000, 50000, 0], task_name='detection', stride=512)\n",
        "test_dataset = MomentDataset(name=\"ett\", path='../src/tsfmproject/models/moment/data/198_UCR_Anomaly_tiltAPB2_50000_124159_124985.out',\n",
        "                                mode=\"test\", boundaries=[50000, 50000, 0], task_name='detection', stride=512)\n",
        "# print(len(train_dataset))\n",
        "# print(len(test_dataset))\n",
        "# trues, preds, labels = mmt.evaluate(test_dataset, task_name='detection')\n",
        "mmt.plot(test_dataset, task_name='detection',)"
      ],
      "metadata": {
        "id": "-GnUpadKQ2pz"
      },
      "execution_count": null,
      "outputs": []
    },
    {
      "cell_type": "markdown",
      "source": [
        "# **Visualization of Zero-Shot Anomaly Detection**"
      ],
      "metadata": {
        "id": "rmBuetJARAR_"
      }
    },
    {
      "cell_type": "code",
      "source": [
        "# import numpy as np\n",
        "# import matplotlib.pyplot as plt\n",
        "# from tsfmproject.models.moment.momentfm.utils.anomaly_detection_metrics import adjbestf1\n",
        "\n",
        "# # We will use the Mean Squared Error (MSE) between the observed values and MOMENT's predictions as the anomaly score\n",
        "# anomaly_scores = (trues - preds)**2\n",
        "\n",
        "# print(f\"Zero-shot Adjusted Best F1 Score: {adjbestf1(y_true=labels, y_scores=anomaly_scores)}\")\n",
        "\n",
        "# anomaly_start = 74158\n",
        "# anomaly_end = 74984\n",
        "# start = anomaly_start-512\n",
        "# end = anomaly_end+512\n",
        "\n",
        "# plt.plot(trues[start:end], label=\"Observed\", c='darkblue')\n",
        "# plt.plot(preds[start:end], label=\"Predicted\", c='red')\n",
        "# plt.plot(anomaly_scores[start:end], label=\"Anomaly Score\", c='black')\n",
        "# plt.legend(fontsize=16)\n",
        "# plt.show()"
      ],
      "metadata": {
        "id": "SDspECriRDvN"
      },
      "execution_count": null,
      "outputs": []
    },
    {
      "cell_type": "markdown",
      "source": [
        "# **FInetune the Moment model for anomaly detection**"
      ],
      "metadata": {
        "id": "4woLdKIERIUf"
      }
    },
    {
      "cell_type": "code",
      "source": [
        "finetuned_model = mmt.finetune(\n",
        "    train_dataset, task_name=\"detection\", mask_ratio=0.1, epoch=5\n",
        ")"
      ],
      "metadata": {
        "id": "Dw7OexJ_RGGH"
      },
      "execution_count": null,
      "outputs": []
    },
    {
      "cell_type": "markdown",
      "source": [
        "# **Evaluate the finetuned model and Visualization**"
      ],
      "metadata": {
        "id": "HTva4_cARNWY"
      }
    },
    {
      "cell_type": "code",
      "source": [
        "trues, preds, labels = mmt.evaluate(test_dataset, task_name=\"detection\")\n",
        "\n",
        "anomaly_scores = (trues - preds) ** 2\n",
        "\n",
        "print(\n",
        "    f\"Zero-shot Adjusted Best F1 Score: {adjbestf1(y_true=labels, y_scores=anomaly_scores)}\"\n",
        ")\n",
        "\n",
        "anomaly_start = 74158\n",
        "anomaly_end = 74984\n",
        "start = anomaly_start - 512\n",
        "end = anomaly_end + 512\n",
        "\n",
        "plt.plot(trues[start:end], label=\"Observed\", c=\"darkblue\")\n",
        "plt.plot(preds[start:end], label=\"Predicted\", c=\"red\")\n",
        "plt.plot(anomaly_scores[start:end], label=\"Anomaly Score\", c=\"black\")\n",
        "plt.legend(fontsize=16)\n",
        "plt.show()"
      ],
      "metadata": {
        "id": "Mkk6GyTyRQX8"
      },
      "execution_count": null,
      "outputs": []
    }
  ]
}
