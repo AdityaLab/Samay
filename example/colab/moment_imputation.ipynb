{
  "nbformat": 4,
  "nbformat_minor": 0,
  "metadata": {
    "colab": {
      "provenance": [],
      "authorship_tag": "ABX9TyOEZ3bu8VQnUuKZKhRj8BZu",
      "include_colab_link": true
    },
    "kernelspec": {
      "name": "python3",
      "display_name": "Python 3"
    },
    "language_info": {
      "name": "python"
    }
  },
  "cells": [
    {
      "cell_type": "markdown",
      "metadata": {
        "id": "view-in-github",
        "colab_type": "text"
      },
      "source": [
        "<a href=\"https://colab.research.google.com/github/Showmick119/Samay/blob/main/moment_imputation.ipynb\" target=\"_parent\"><img src=\"https://colab.research.google.com/assets/colab-badge.svg\" alt=\"Open In Colab\"/></a>"
      ]
    },
    {
      "cell_type": "markdown",
      "source": [
        "# **Install Dependencies**"
      ],
      "metadata": {
        "id": "tpaQlDVlxetV"
      }
    },
    {
      "cell_type": "code",
      "execution_count": null,
      "metadata": {
        "id": "qF8U27Si8bbj"
      },
      "outputs": [],
      "source": [
        "!pip install samay-0.1.0-cp311-cp311-linux_x86_64.whl"
      ]
    },
    {
      "cell_type": "code",
      "source": [
        "!pip install --upgrade -U numpy --force"
      ],
      "metadata": {
        "id": "VGf7Oy_JxpYO"
      },
      "execution_count": null,
      "outputs": []
    },
    {
      "cell_type": "markdown",
      "source": [
        "# **Loading Moment Model**"
      ],
      "metadata": {
        "id": "0cbiLmxU2Lw-"
      }
    },
    {
      "cell_type": "code",
      "source": [
        "from samay.model import MomentModel\n",
        "from samay.dataset import MomentDataset\n",
        "from samay.utils import load_args\n",
        "\n",
        "repo = \"AutonLab/MOMENT-1-large\"\n",
        "config = {\n",
        "    \"task_name\": \"reconstruction\",\n",
        "}\n",
        "mmt = MomentModel(config=config, repo=repo)"
      ],
      "metadata": {
        "id": "EKfkmPeNVEhs"
      },
      "execution_count": null,
      "outputs": []
    },
    {
      "cell_type": "markdown",
      "source": [
        "# **Loading Dataset**"
      ],
      "metadata": {
        "id": "Gt2KUswn2UtL"
      }
    },
    {
      "cell_type": "code",
      "source": [
        "!wget https://raw.githubusercontent.com/kage08/Samay/refs/heads/main/data/data/ETTh1.csv"
      ],
      "metadata": {
        "id": "mnIsa2TgJgCN"
      },
      "execution_count": null,
      "outputs": []
    },
    {
      "cell_type": "markdown",
      "source": [
        "# **Zero-Shot Imputation Using Moment Model**"
      ],
      "metadata": {
        "id": "G2i1_KoTVHXc"
      }
    },
    {
      "cell_type": "code",
      "source": [
        "train_dataset = MomentDataset(\n",
        "    name=\"ett\",\n",
        "    datetime_col=\"date\",\n",
        "    path=\"/nethome/sli999/TSFMProject/src/tsfmproject/models/moment/data/ETTh1.csv\",\n",
        "    mode=\"train\",\n",
        "    task_name=\"imputation\",\n",
        ")\n",
        "test_dataset = MomentDataset(\n",
        "    name=\"ett\",\n",
        "    datetime_col=\"date\",\n",
        "    path=\"/nethome/sli999/TSFMProject/src/tsfmproject/models/moment/data/ETTh1.csv\",\n",
        "    mode=\"test\",\n",
        "    task_name=\"imputation\",\n",
        ")\n",
        "# print(len(train_dataset))\n",
        "# print(len(test_dataset))\n",
        "# trues, preds, masks = mmt.evaluate(test_dataset, task_name='imputation')"
      ],
      "metadata": {
        "id": "WhjXYZLsVJr1"
      },
      "execution_count": null,
      "outputs": []
    },
    {
      "cell_type": "markdown",
      "source": [
        "# **Visualization of Zero-Shot Imputation**"
      ],
      "metadata": {
        "id": "1UEUE0QGVSdA"
      }
    },
    {
      "cell_type": "code",
      "source": [
        "# import matplotlib.pyplot as plt\n",
        "\n",
        "# print(trues.shape, preds.shape, masks.shape)\n",
        "\n",
        "# mse = np.mean((trues[masks==0] - preds[masks==0])**2)\n",
        "# mae = np.mean(np.abs(trues[masks==0] - preds[masks==0]))\n",
        "# print(f'MSE: {mse}, MAE: {mae}')\n",
        "\n",
        "# idx = np.random.randint(trues.shape[0])\n",
        "# channel_idx = np.random.randint(trues.shape[1])\n",
        "\n",
        "# fig, axs = plt.subplots(2, 1, figsize=(10, 5))\n",
        "# axs[0].set_title(f\"Channel={channel_idx}\")\n",
        "# axs[0].plot(trues[idx, channel_idx, :].squeeze(), label='Ground Truth', c='darkblue')\n",
        "# axs[0].plot(preds[idx, channel_idx, :].squeeze(), label='Predictions', c='red')\n",
        "# axs[0].legend(fontsize=16)\n",
        "\n",
        "# axs[1].imshow(np.tile(masks[np.newaxis, idx, channel_idx], reps=(8, 1)), cmap='binary')\n",
        "# plt.show()\n",
        "mmt.plot(test_dataset, task_name='imputation')"
      ],
      "metadata": {
        "id": "ldr2IIb1VWGj"
      },
      "execution_count": null,
      "outputs": []
    },
    {
      "cell_type": "markdown",
      "source": [
        "# **Finetune the Moment Model for Imputation**"
      ],
      "metadata": {
        "id": "kShP864XVZoB"
      }
    },
    {
      "cell_type": "code",
      "source": [
        "fintuned_model = mmt.finetune(train_dataset, task_name=\"imputation\")"
      ],
      "metadata": {
        "id": "a4aYBmjDVcSx"
      },
      "execution_count": null,
      "outputs": []
    },
    {
      "cell_type": "markdown",
      "source": [
        "# **Evaluate the finetuned model and visualization**"
      ],
      "metadata": {
        "id": "Hz1cVDpVVd0S"
      }
    },
    {
      "cell_type": "code",
      "source": [
        "# trues, preds, masks = mmt.evaluate(test_dataset, task_name='imputation')\n",
        "# mse = np.mean((trues[masks==0] - preds[masks==0])**2)\n",
        "# mae = np.mean(np.abs(trues[masks==0] - preds[masks==0]))\n",
        "# print(f'MSE: {mse}, MAE: {mae}')\n",
        "\n",
        "# idx = np.random.randint(trues.shape[0])\n",
        "# channel_idx = np.random.randint(trues.shape[1])\n",
        "\n",
        "# fig, axs = plt.subplots(2, 1, figsize=(10, 5))\n",
        "# axs[0].set_title(f\"Channel={channel_idx}\")\n",
        "# axs[0].plot(trues[idx, channel_idx, :].squeeze(), label='Ground Truth', c='darkblue')\n",
        "# axs[0].plot(preds[idx, channel_idx, :].squeeze(), label='Predictions', c='red')\n",
        "# axs[0].legend(fontsize=16)\n",
        "\n",
        "# axs[1].imshow(np.tile(masks[np.newaxis, idx, channel_idx], reps=(8, 1)), cmap='binary')\n",
        "# plt.show()\n",
        "mmt.plot(test_dataset, task_name='imputation')"
      ],
      "metadata": {
        "id": "Yi0FjTCVVflk"
      },
      "execution_count": null,
      "outputs": []
    }
  ]
}
