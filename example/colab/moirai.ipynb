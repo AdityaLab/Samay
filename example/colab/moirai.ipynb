{
  "nbformat": 4,
  "nbformat_minor": 0,
  "metadata": {
    "colab": {
      "provenance": [],
      "authorship_tag": "ABX9TyNMrNyISIi+DxlbMTxeYGbS",
      "include_colab_link": true
    },
    "kernelspec": {
      "name": "python3",
      "display_name": "Python 3"
    },
    "language_info": {
      "name": "python"
    }
  },
  "cells": [
    {
      "cell_type": "markdown",
      "metadata": {
        "id": "view-in-github",
        "colab_type": "text"
      },
      "source": [
        "<a href=\"https://colab.research.google.com/github/Showmick119/Samay/blob/main/moirai.ipynb\" target=\"_parent\"><img src=\"https://colab.research.google.com/assets/colab-badge.svg\" alt=\"Open In Colab\"/></a>"
      ]
    },
    {
      "cell_type": "markdown",
      "source": [
        "# **Install Dependencies**"
      ],
      "metadata": {
        "id": "tpaQlDVlxetV"
      }
    },
    {
      "cell_type": "code",
      "execution_count": null,
      "metadata": {
        "id": "qF8U27Si8bbj"
      },
      "outputs": [],
      "source": [
        "!pip install samay-0.1.0-cp311-cp311-linux_x86_64.whl"
      ]
    },
    {
      "cell_type": "code",
      "source": [
        "!pip install --upgrade -U numpy --force"
      ],
      "metadata": {
        "id": "VGf7Oy_JxpYO"
      },
      "execution_count": null,
      "outputs": []
    },
    {
      "cell_type": "markdown",
      "source": [
        "# **Importing Requirements**"
      ],
      "metadata": {
        "id": "0cbiLmxU2Lw-"
      }
    },
    {
      "cell_type": "code",
      "source": [
        "from tsfmproject.dataset import MoiraiDataset\n",
        "from tsfmproject.model import MoiraiTSModel"
      ],
      "metadata": {
        "id": "MAojvVF6PEGP"
      },
      "execution_count": null,
      "outputs": []
    },
    {
      "cell_type": "markdown",
      "source": [
        "# **Loading Dataset**"
      ],
      "metadata": {
        "id": "Gt2KUswn2UtL"
      }
    },
    {
      "cell_type": "code",
      "source": [
        "!wget https://raw.githubusercontent.com/kage08/Samay/refs/heads/main/data/data/ETTh1.csv"
      ],
      "metadata": {
        "id": "mnIsa2TgJgCN"
      },
      "execution_count": null,
      "outputs": []
    },
    {
      "cell_type": "code",
      "source": [
        "train_dataset = MoiraiDataset(name=\"ett\", mode=\"train\", path='/nethome/sli999/TSFMProject/src/tsfmproject/models/moment/data/ETTh1.csv', datetime_col='date', freq='h', context_len=128, horizon_len=64, normalize=False)\n",
        "test_dataset = MoiraiDataset(name=\"ett\", mode=\"test\", path='/nethome/sli999/TSFMProject/src/tsfmproject/models/moment/data/ETTh1.csv', datetime_col='date', freq='h', context_len=128, horizon_len=64, normalize=False)"
      ],
      "metadata": {
        "id": "gX48JpxwPJwN"
      },
      "execution_count": null,
      "outputs": []
    },
    {
      "cell_type": "code",
      "source": [
        "config = {\n",
        "    \"context_len\": 128,\n",
        "    \"horizon_len\": 64,\n",
        "}\n",
        "model_type = \"moirai-moe\"\n",
        "model_size = \"small\"\n",
        "moirai_model = MoiraiTSModel(model_type=model_type, model_size=model_size, config=config)"
      ],
      "metadata": {
        "id": "BofOhe74PO-4"
      },
      "execution_count": null,
      "outputs": []
    },
    {
      "cell_type": "code",
      "source": [
        "print(moirai_model.model.device)"
      ],
      "metadata": {
        "id": "2ff_VDTnPS0o"
      },
      "execution_count": null,
      "outputs": []
    },
    {
      "cell_type": "code",
      "source": [
        "eval_results, trues, preds, histories = moirai_model.evaluate(test_dataset, metrics=[\"MSE\", \"MASE\"])"
      ],
      "metadata": {
        "id": "rPNns3q5PTNe"
      },
      "execution_count": null,
      "outputs": []
    },
    {
      "cell_type": "code",
      "source": [
        "print(eval_results)"
      ],
      "metadata": {
        "id": "9ZBsQ8gzPV6T"
      },
      "execution_count": null,
      "outputs": []
    },
    {
      "cell_type": "code",
      "source": [
        "for i in range(len(histories)):\n",
        "    print(i, histories[i].shape)"
      ],
      "metadata": {
        "id": "9DpENZS7PXen"
      },
      "execution_count": null,
      "outputs": []
    },
    {
      "cell_type": "code",
      "source": [
        "print(len(test_dataset.data))"
      ],
      "metadata": {
        "id": "fLoUWiqOPZAR"
      },
      "execution_count": null,
      "outputs": []
    }
  ]
}
