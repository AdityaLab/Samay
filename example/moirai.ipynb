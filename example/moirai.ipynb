{
 "cells": [
  {
   "cell_type": "markdown",
   "metadata": {},
   "source": [
    "## MOIRAI Usage Example\n",
    "\n",
    "### Loading MOIRAI Model"
   ]
  },
  {
   "cell_type": "code",
   "execution_count": 1,
   "metadata": {},
   "outputs": [],
   "source": [
    "# External imports\n",
    "import os\n",
    "import sys\n",
    "import pandas as pd\n",
    "\n",
    "src_path = os.path.abspath(os.path.join(\"src\"))\n",
    "if src_path not in sys.path:\n",
    "    sys.path.insert(0, src_path)\n",
    "\n",
    "# Local imports\n",
    "from samay.dataset import MoiraiDataset\n",
    "from samay.model import MoiraiTSModel\n",
    "\n",
    "# Load the pretrained model\n",
    "repo = \"Salesforce/moirai-moe-1.0-R-small\"\n",
    "config = {\n",
    "        \"context_len\": 128,\n",
    "        \"horizon_len\": 64,\n",
    "        \"num_layers\": 100,\n",
    "        \"model_type\": \"moirai-moe\",\n",
    "        \"model_size\": \"small\"\n",
    "    }\n",
    "\n",
    "moirai_model = MoiraiTSModel(repor=repo, config=config)"
   ]
  },
  {
   "cell_type": "markdown",
   "metadata": {},
   "source": [
    "### Define the datasets"
   ]
  },
  {
   "cell_type": "code",
   "execution_count": 2,
   "metadata": {},
   "outputs": [
    {
     "data": {
      "text/html": [
       "<div>\n",
       "<style scoped>\n",
       "    .dataframe tbody tr th:only-of-type {\n",
       "        vertical-align: middle;\n",
       "    }\n",
       "\n",
       "    .dataframe tbody tr th {\n",
       "        vertical-align: top;\n",
       "    }\n",
       "\n",
       "    .dataframe thead th {\n",
       "        text-align: right;\n",
       "    }\n",
       "</style>\n",
       "<table border=\"1\" class=\"dataframe\">\n",
       "  <thead>\n",
       "    <tr style=\"text-align: right;\">\n",
       "      <th></th>\n",
       "      <th>date</th>\n",
       "      <th>HUFL</th>\n",
       "      <th>HULL</th>\n",
       "      <th>MUFL</th>\n",
       "      <th>MULL</th>\n",
       "      <th>LUFL</th>\n",
       "      <th>LULL</th>\n",
       "      <th>OT</th>\n",
       "    </tr>\n",
       "  </thead>\n",
       "  <tbody>\n",
       "    <tr>\n",
       "      <th>0</th>\n",
       "      <td>2016-07-01 00:00:00</td>\n",
       "      <td>5.827</td>\n",
       "      <td>2.009</td>\n",
       "      <td>1.599</td>\n",
       "      <td>0.462</td>\n",
       "      <td>4.203</td>\n",
       "      <td>1.340</td>\n",
       "      <td>30.531000</td>\n",
       "    </tr>\n",
       "    <tr>\n",
       "      <th>1</th>\n",
       "      <td>2016-07-01 01:00:00</td>\n",
       "      <td>5.693</td>\n",
       "      <td>2.076</td>\n",
       "      <td>1.492</td>\n",
       "      <td>0.426</td>\n",
       "      <td>4.142</td>\n",
       "      <td>1.371</td>\n",
       "      <td>27.787001</td>\n",
       "    </tr>\n",
       "    <tr>\n",
       "      <th>2</th>\n",
       "      <td>2016-07-01 02:00:00</td>\n",
       "      <td>5.157</td>\n",
       "      <td>1.741</td>\n",
       "      <td>1.279</td>\n",
       "      <td>0.355</td>\n",
       "      <td>3.777</td>\n",
       "      <td>1.218</td>\n",
       "      <td>27.787001</td>\n",
       "    </tr>\n",
       "    <tr>\n",
       "      <th>3</th>\n",
       "      <td>2016-07-01 03:00:00</td>\n",
       "      <td>5.090</td>\n",
       "      <td>1.942</td>\n",
       "      <td>1.279</td>\n",
       "      <td>0.391</td>\n",
       "      <td>3.807</td>\n",
       "      <td>1.279</td>\n",
       "      <td>25.044001</td>\n",
       "    </tr>\n",
       "    <tr>\n",
       "      <th>4</th>\n",
       "      <td>2016-07-01 04:00:00</td>\n",
       "      <td>5.358</td>\n",
       "      <td>1.942</td>\n",
       "      <td>1.492</td>\n",
       "      <td>0.462</td>\n",
       "      <td>3.868</td>\n",
       "      <td>1.279</td>\n",
       "      <td>21.948000</td>\n",
       "    </tr>\n",
       "  </tbody>\n",
       "</table>\n",
       "</div>"
      ],
      "text/plain": [
       "                  date   HUFL   HULL   MUFL   MULL   LUFL   LULL         OT\n",
       "0  2016-07-01 00:00:00  5.827  2.009  1.599  0.462  4.203  1.340  30.531000\n",
       "1  2016-07-01 01:00:00  5.693  2.076  1.492  0.426  4.142  1.371  27.787001\n",
       "2  2016-07-01 02:00:00  5.157  1.741  1.279  0.355  3.777  1.218  27.787001\n",
       "3  2016-07-01 03:00:00  5.090  1.942  1.279  0.391  3.807  1.279  25.044001\n",
       "4  2016-07-01 04:00:00  5.358  1.942  1.492  0.462  3.868  1.279  21.948000"
      ]
     },
     "execution_count": 2,
     "metadata": {},
     "output_type": "execute_result"
    }
   ],
   "source": [
    "# Config for the electric transformer temperature dataset\n",
    "data_config = {\"name\" : \"ett\",\n",
    "                \"path\" : \"../src/samay/models/moment/data/ETTh1.csv\",\n",
    "                \"date_col\" : \"date\",\n",
    "                \"freq\": \"h\"\n",
    "            }\n",
    "\n",
    "df = pd.read_csv(data_config[\"path\"])\n",
    "df.head()"
   ]
  },
  {
   "cell_type": "markdown",
   "metadata": {},
   "source": [
    "Here, we have 6 input features (all form `input_ts`) and the target column is the *Oil Temperature* (`OT`)"
   ]
  },
  {
   "cell_type": "code",
   "execution_count": 3,
   "metadata": {},
   "outputs": [],
   "source": [
    "# Train and test datasets\n",
    "train_dataset = MoiraiDataset(\n",
    "    name=data_config['name'],\n",
    "    mode=\"train\",\n",
    "    path=data_config['path'],\n",
    "    datetime_col=data_config['date_col'],\n",
    "    freq=data_config['freq'],\n",
    "    context_len=config['context_len'],\n",
    "    horizon_len=config['horizon_len'],\n",
    "    normalize=False\n",
    ")\n",
    "test_dataset = MoiraiDataset(\n",
    "    name=data_config['name'],\n",
    "    mode=\"test\",\n",
    "    path=data_config['path'],\n",
    "    datetime_col=data_config['date_col'],\n",
    "    freq=data_config['freq'],\n",
    "    context_len=config['context_len'],\n",
    "    horizon_len=config['horizon_len'],\n",
    "    normalize=False\n",
    ")\n",
    "test_dataset1 = MoiraiDataset(\n",
    "    name=data_config['name'],\n",
    "    mode=\"val\",\n",
    "    path=data_config['path'],\n",
    "    datetime_col=data_config['date_col'],\n",
    "    freq=data_config['freq'],\n",
    "    context_len=config['context_len'],\n",
    "    horizon_len=config['horizon_len'],\n",
    "    normalize=False\n",
    ")"
   ]
  },
  {
   "cell_type": "code",
   "execution_count": 4,
   "metadata": {},
   "outputs": [
    {
     "name": "stdout",
     "output_type": "stream",
     "text": [
      "['batch_size', 'batchsize', 'boundaries', 'context_len', 'data', 'data_path', 'dataset', 'datetime_col', 'freq', 'get_data_loader', 'horizon_len', 'mode', 'name', 'normalize', 'patch_size', 'preprocess', 'save', 'ts_cols'] "
     ]
    }
   ],
   "source": [
    "print([x for x in dir(train_dataset) if \"__\" not in x],end=\" \")"
   ]
  },
  {
   "cell_type": "markdown",
   "metadata": {},
   "source": [
    "`data` is of `pd.DataFrame` type and `dataset` is of `gluonts.datatset` type"
   ]
  },
  {
   "cell_type": "code",
   "execution_count": 5,
   "metadata": {},
   "outputs": [
    {
     "data": {
      "text/plain": [
       "(7,\n",
       " {'start': Period('2016-07-01 00:00', 'H'),\n",
       "  'target': array([ 5.82700014,  5.69299984,  5.15700006, ..., -7.50199986,\n",
       "          5.96099997,  3.68400002]),\n",
       "  'item_id': 'HUFL'},\n",
       " 13937)"
      ]
     },
     "execution_count": 5,
     "metadata": {},
     "output_type": "execute_result"
    }
   ],
   "source": [
    "train_all = [x for x in iter(train_dataset.dataset)]\n",
    "len(train_all), train_all[0], len(train_all[0][\"target\"])"
   ]
  },
  {
   "cell_type": "markdown",
   "metadata": {},
   "source": [
    "So, `train_dataset` has time series of all the 7 variables (6 independent and 1 dependent). Each of these has `13936` (`80%` of the data) datapoints. Next, we look at the `test_dataset`"
   ]
  },
  {
   "cell_type": "code",
   "execution_count": 6,
   "metadata": {},
   "outputs": [
    {
     "data": {
      "text/plain": [
       "(7,\n",
       " {'start': Period('2016-07-01 00:00', 'H'),\n",
       "  'target': array([ 5.82700014,  5.69299984,  5.15700006, ...,  2.81299996,\n",
       "          9.24300003, 10.11400032]),\n",
       "  'item_id': 'HUFL'},\n",
       " 17420)"
      ]
     },
     "execution_count": 6,
     "metadata": {},
     "output_type": "execute_result"
    }
   ],
   "source": [
    "val_all = [x for x in iter(test_dataset1.dataset.dataset)]\n",
    "len(val_all), val_all[0], len(val_all[0][\"target\"])"
   ]
  },
  {
   "cell_type": "code",
   "execution_count": 7,
   "metadata": {},
   "outputs": [
    {
     "data": {
      "text/plain": [
       "(378,\n",
       " ({'start': Period('2016-07-01 00:00', 'H'),\n",
       "   'target': array([ 5.82700014,  5.69299984,  5.15700006, ..., -7.50199986,\n",
       "           5.96099997,  3.68400002]),\n",
       "   'item_id': 'HUFL'},\n",
       "  {'start': Period('2018-02-01 17:00', 'H'),\n",
       "   'target': array([ 13.32900047,  15.60599995,  18.68700027,  18.01799965,\n",
       "           16.94599915,  16.6779995 ,  16.00799942,  15.06999969,\n",
       "           14.19999981,  14.2670002 ,  14.73600006,  13.86499977,\n",
       "           12.92700005,  12.72599983,  14.80300045,  13.32900047,\n",
       "            2.00900006,  -4.95699978,  -5.55900002, -10.44900036,\n",
       "           -3.54999995,  -2.14299989,   1.47399998,   6.296     ,\n",
       "           12.99400043,  15.60599995,  17.75      ,  17.28100014,\n",
       "           17.61599922,  15.8739996 ,  16.87899971,  16.34300041,\n",
       "           14.46800041,  14.93700027,  13.9989996 ,  13.79800034,\n",
       "           14.19999981,  13.79800034,  16.34300041,  15.47200012,\n",
       "            4.62200022,  -4.62200022,  -8.70699978,  -7.76999998,\n",
       "            0.40200001,  -2.47799993,   3.01399994,   7.43499994,\n",
       "           14.60200024,  17.28100014,  19.29000092,  20.02700043,\n",
       "           17.2140007 ,  16.00799942,  15.53899956,  14.40100002,\n",
       "           12.92700005,  12.32400036,  13.4630003 ,  12.99400043,\n",
       "           12.12300014,  12.05599976,  14.19999981,  13.19499969]),\n",
       "   'item_id': 'HUFL'}))"
      ]
     },
     "execution_count": 7,
     "metadata": {},
     "output_type": "execute_result"
    }
   ],
   "source": [
    "test_all = [x for x in iter(test_dataset.dataset)]\n",
    "len(test_all), test_all[0]"
   ]
  },
  {
   "cell_type": "markdown",
   "metadata": {},
   "source": [
    "There are two parts to each instance (window) in `test_all` - the `input` (context) and the `label` which consists of the true value of the forecast"
   ]
  },
  {
   "cell_type": "code",
   "execution_count": 8,
   "metadata": {},
   "outputs": [
    {
     "data": {
      "text/plain": [
       "(13937, 64)"
      ]
     },
     "execution_count": 8,
     "metadata": {},
     "output_type": "execute_result"
    }
   ],
   "source": [
    "len(test_all[0][0][\"target\"]), len(test_all[0][1][\"target\"])"
   ]
  },
  {
   "cell_type": "markdown",
   "metadata": {},
   "source": [
    "### Evaluate zero-shot forecasting"
   ]
  },
  {
   "cell_type": "code",
   "execution_count": 9,
   "metadata": {},
   "outputs": [
    {
     "name": "stdout",
     "output_type": "stream",
     "text": [
      "{'MSE': 15.595148778108097, 'MASE': 2.092038731177724}\n"
     ]
    }
   ],
   "source": [
    "eval_results, trues, preds, histories = moirai_model.evaluate(test_dataset, metrics=[\"MSE\", \"MASE\"])\n",
    "print(eval_results)"
   ]
  },
  {
   "cell_type": "markdown",
   "metadata": {},
   "source": [
    "### Finetune MOIRAI on ETT Dataset"
   ]
  },
  {
   "cell_type": "code",
   "execution_count": 10,
   "metadata": {},
   "outputs": [
    {
     "ename": "NotImplementedError",
     "evalue": "",
     "output_type": "error",
     "traceback": [
      "\u001b[0;31m---------------------------------------------------------------------------\u001b[0m",
      "\u001b[0;31mNotImplementedError\u001b[0m                       Traceback (most recent call last)",
      "Cell \u001b[0;32mIn[10], line 1\u001b[0m\n\u001b[0;32m----> 1\u001b[0m finetuned_model \u001b[38;5;241m=\u001b[39m \u001b[43mmoirai_model\u001b[49m\u001b[38;5;241;43m.\u001b[39;49m\u001b[43mfinetune\u001b[49m\u001b[43m(\u001b[49m\u001b[43mtrain_dataset\u001b[49m\u001b[43m)\u001b[49m\n",
      "File \u001b[0;32m~/Samay/src/samay/model.py:42\u001b[0m, in \u001b[0;36mBasemodel.finetune\u001b[0;34m(self, dataset, **kwargs)\u001b[0m\n\u001b[1;32m     41\u001b[0m \u001b[38;5;28;01mdef\u001b[39;00m \u001b[38;5;21mfinetune\u001b[39m(\u001b[38;5;28mself\u001b[39m, dataset, \u001b[38;5;241m*\u001b[39m\u001b[38;5;241m*\u001b[39mkwargs):\n\u001b[0;32m---> 42\u001b[0m     \u001b[38;5;28;01mraise\u001b[39;00m \u001b[38;5;167;01mNotImplementedError\u001b[39;00m\n",
      "\u001b[0;31mNotImplementedError\u001b[0m: "
     ]
    }
   ],
   "source": [
    "finetuned_model = moirai_model.finetune(train_dataset)"
   ]
  }
 ],
 "metadata": {
  "kernelspec": {
   "display_name": ".venv",
   "language": "python",
   "name": "python3"
  },
  "language_info": {
   "codemirror_mode": {
    "name": "ipython",
    "version": 3
   },
   "file_extension": ".py",
   "mimetype": "text/x-python",
   "name": "python",
   "nbconvert_exporter": "python",
   "pygments_lexer": "ipython3",
   "version": "3.12.7"
  }
 },
 "nbformat": 4,
 "nbformat_minor": 2
}
