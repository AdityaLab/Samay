{
 "cells": [
  {
   "cell_type": "markdown",
   "metadata": {},
   "source": [
    "## MOIRAI Usage Example\n",
    "\n",
    "### Key features of the model:\n",
    "- **Multi-patch Layers:** Adapts to different granularities (frequencies) - different patch size for each granularity\n",
    "- **Probabilistic:** Predicts params of mix of distributions along with a confidence score for each distribution\n",
    "\n",
    "### Loading MOIRAI Model"
   ]
  },
  {
   "cell_type": "code",
   "execution_count": 1,
   "metadata": {},
   "outputs": [],
   "source": [
    "# External imports\n",
    "import os\n",
    "import sys\n",
    "import pandas as pd\n",
    "import matplotlib.pyplot as plt\n",
    "import random\n",
    "\n",
    "src_path = os.path.abspath(os.path.join(\"src\"))\n",
    "if src_path not in sys.path:\n",
    "    sys.path.insert(0, src_path)\n",
    "\n",
    "# Local imports\n",
    "from samay.dataset import MoiraiDataset\n",
    "from samay.model import MoiraiTSModel\n",
    "\n",
    "# Load the pretrained model\n",
    "repo = \"Salesforce/moirai-moe-1.0-R-small\"\n",
    "config = {\n",
    "        \"context_len\": 128,\n",
    "        \"horizon_len\": 64,\n",
    "        \"num_layers\": 100,\n",
    "        \"model_type\": \"moirai-moe\",\n",
    "        \"model_size\": \"small\"\n",
    "    }\n",
    "\n",
    "moirai_model = MoiraiTSModel(repor=repo, config=config)"
   ]
  },
  {
   "cell_type": "markdown",
   "metadata": {},
   "source": [
    "### Define the datasets"
   ]
  },
  {
   "cell_type": "code",
   "execution_count": 2,
   "metadata": {},
   "outputs": [
    {
     "data": {
      "text/html": [
       "<div>\n",
       "<style scoped>\n",
       "    .dataframe tbody tr th:only-of-type {\n",
       "        vertical-align: middle;\n",
       "    }\n",
       "\n",
       "    .dataframe tbody tr th {\n",
       "        vertical-align: top;\n",
       "    }\n",
       "\n",
       "    .dataframe thead th {\n",
       "        text-align: right;\n",
       "    }\n",
       "</style>\n",
       "<table border=\"1\" class=\"dataframe\">\n",
       "  <thead>\n",
       "    <tr style=\"text-align: right;\">\n",
       "      <th></th>\n",
       "      <th>date</th>\n",
       "      <th>HUFL</th>\n",
       "      <th>HULL</th>\n",
       "      <th>MUFL</th>\n",
       "      <th>MULL</th>\n",
       "      <th>LUFL</th>\n",
       "      <th>LULL</th>\n",
       "      <th>OT</th>\n",
       "    </tr>\n",
       "  </thead>\n",
       "  <tbody>\n",
       "    <tr>\n",
       "      <th>0</th>\n",
       "      <td>2016-07-01 00:00:00</td>\n",
       "      <td>5.827</td>\n",
       "      <td>2.009</td>\n",
       "      <td>1.599</td>\n",
       "      <td>0.462</td>\n",
       "      <td>4.203</td>\n",
       "      <td>1.340</td>\n",
       "      <td>30.531000</td>\n",
       "    </tr>\n",
       "    <tr>\n",
       "      <th>1</th>\n",
       "      <td>2016-07-01 01:00:00</td>\n",
       "      <td>5.693</td>\n",
       "      <td>2.076</td>\n",
       "      <td>1.492</td>\n",
       "      <td>0.426</td>\n",
       "      <td>4.142</td>\n",
       "      <td>1.371</td>\n",
       "      <td>27.787001</td>\n",
       "    </tr>\n",
       "    <tr>\n",
       "      <th>2</th>\n",
       "      <td>2016-07-01 02:00:00</td>\n",
       "      <td>5.157</td>\n",
       "      <td>1.741</td>\n",
       "      <td>1.279</td>\n",
       "      <td>0.355</td>\n",
       "      <td>3.777</td>\n",
       "      <td>1.218</td>\n",
       "      <td>27.787001</td>\n",
       "    </tr>\n",
       "    <tr>\n",
       "      <th>3</th>\n",
       "      <td>2016-07-01 03:00:00</td>\n",
       "      <td>5.090</td>\n",
       "      <td>1.942</td>\n",
       "      <td>1.279</td>\n",
       "      <td>0.391</td>\n",
       "      <td>3.807</td>\n",
       "      <td>1.279</td>\n",
       "      <td>25.044001</td>\n",
       "    </tr>\n",
       "    <tr>\n",
       "      <th>4</th>\n",
       "      <td>2016-07-01 04:00:00</td>\n",
       "      <td>5.358</td>\n",
       "      <td>1.942</td>\n",
       "      <td>1.492</td>\n",
       "      <td>0.462</td>\n",
       "      <td>3.868</td>\n",
       "      <td>1.279</td>\n",
       "      <td>21.948000</td>\n",
       "    </tr>\n",
       "  </tbody>\n",
       "</table>\n",
       "</div>"
      ],
      "text/plain": [
       "                  date   HUFL   HULL   MUFL   MULL   LUFL   LULL         OT\n",
       "0  2016-07-01 00:00:00  5.827  2.009  1.599  0.462  4.203  1.340  30.531000\n",
       "1  2016-07-01 01:00:00  5.693  2.076  1.492  0.426  4.142  1.371  27.787001\n",
       "2  2016-07-01 02:00:00  5.157  1.741  1.279  0.355  3.777  1.218  27.787001\n",
       "3  2016-07-01 03:00:00  5.090  1.942  1.279  0.391  3.807  1.279  25.044001\n",
       "4  2016-07-01 04:00:00  5.358  1.942  1.492  0.462  3.868  1.279  21.948000"
      ]
     },
     "execution_count": 2,
     "metadata": {},
     "output_type": "execute_result"
    }
   ],
   "source": [
    "# Config for the electric transformer temperature dataset\n",
    "data_config = {\"name\" : \"ett\",\n",
    "                \"path\" : \"../src/samay/models/moment/data/ETTh1.csv\",\n",
    "                \"date_col\" : \"date\",\n",
    "                \"freq\": \"h\"\n",
    "            }\n",
    "\n",
    "df = pd.read_csv(data_config[\"path\"])\n",
    "df.head()"
   ]
  },
  {
   "cell_type": "markdown",
   "metadata": {},
   "source": [
    "Here, we have 6 input features (all form `input_ts`) and the target column is the *Oil Temperature* (`OT`)"
   ]
  },
  {
   "cell_type": "code",
   "execution_count": 3,
   "metadata": {},
   "outputs": [],
   "source": [
    "# test dataset - for zero-shot forecasting\n",
    "test_dataset = MoiraiDataset(\n",
    "    name=data_config['name'],\n",
    "    mode=\"test\",\n",
    "    path=data_config['path'],\n",
    "    datetime_col=data_config['date_col'],\n",
    "    freq=data_config['freq'],\n",
    "    context_len=config['context_len'],\n",
    "    horizon_len=config['horizon_len'],\n",
    "    normalize=False\n",
    ")"
   ]
  },
  {
   "cell_type": "code",
   "execution_count": 4,
   "metadata": {},
   "outputs": [
    {
     "name": "stdout",
     "output_type": "stream",
     "text": [
      "['_preprocess', '_read_data', 'batch_size', 'batchsize', 'boundaries', 'context_len', 'data', 'data_path', 'dataset', 'datetime_col', 'freq', 'gen_test_data', 'gen_train_val_data', 'get_data_loader', 'get_dataloader', 'horizon_len', 'htune', 'kwargs', 'mode', 'name', 'normalize', 'patch_size', 'prep_train_data', 'preprocess', 'save', 'start_date', 'ts_cols'] "
     ]
    }
   ],
   "source": [
    "print([x for x in dir(test_dataset) if \"__\" not in x],end=\" \")"
   ]
  },
  {
   "cell_type": "markdown",
   "metadata": {},
   "source": [
    "`data` is of `pd.DataFrame` type and `dataset` is of `torch.utils.data.Dataset` type"
   ]
  },
  {
   "cell_type": "code",
   "execution_count": 5,
   "metadata": {},
   "outputs": [
    {
     "data": {
      "text/plain": [
       "(378,\n",
       " ({'start': tensor(1.4673e+09),\n",
       "   'target': tensor([ 5.8270,  5.6930,  5.1570,  ...,  1.6080, -7.5020,  5.9610]),\n",
       "   'freq': 'H',\n",
       "   'item_id': 'HUFL'},\n",
       "  {'start': tensor(1.4673e+09),\n",
       "   'target': tensor([  3.6840,  13.3290,  15.6060,  18.6870,  18.0180,  16.9460,  16.6780,\n",
       "            16.0080,  15.0700,  14.2000,  14.2670,  14.7360,  13.8650,  12.9270,\n",
       "            12.7260,  14.8030,  13.3290,   2.0090,  -4.9570,  -5.5590, -10.4490,\n",
       "            -3.5500,  -2.1430,   1.4740,   6.2960,  12.9940,  15.6060,  17.7500,\n",
       "            17.2810,  17.6160,  15.8740,  16.8790,  16.3430,  14.4680,  14.9370,\n",
       "            13.9990,  13.7980,  14.2000,  13.7980,  16.3430,  15.4720,   4.6220,\n",
       "            -4.6220,  -8.7070,  -7.7700,   0.4020,  -2.4780,   3.0140,   7.4350,\n",
       "            14.6020,  17.2810,  19.2900,  20.0270,  17.2140,  16.0080,  15.5390,\n",
       "            14.4010,  12.9270,  12.3240,  13.4630,  12.9940,  12.1230,  12.0560,\n",
       "            14.2000]),\n",
       "   'freq': 'H',\n",
       "   'item_id': 'HUFL'}))"
      ]
     },
     "execution_count": 5,
     "metadata": {},
     "output_type": "execute_result"
    }
   ],
   "source": [
    "test_all = [x for x in iter(test_dataset.dataset)]\n",
    "len(test_all), test_all[0]"
   ]
  },
  {
   "cell_type": "markdown",
   "metadata": {},
   "source": [
    "There are two parts to each instance (window) in `test_all` - the `input` (history) and the `label` which consists of the true value of the forecast"
   ]
  },
  {
   "cell_type": "code",
   "execution_count": 6,
   "metadata": {},
   "outputs": [
    {
     "data": {
      "text/plain": [
       "(13936, 64)"
      ]
     },
     "execution_count": 6,
     "metadata": {},
     "output_type": "execute_result"
    }
   ],
   "source": [
    "len(test_all[0][0][\"target\"]), len(test_all[0][1][\"target\"])"
   ]
  },
  {
   "cell_type": "markdown",
   "metadata": {},
   "source": [
    "### Evaluate zero-shot forecasting"
   ]
  },
  {
   "cell_type": "code",
   "execution_count": 7,
   "metadata": {},
   "outputs": [
    {
     "name": "stdout",
     "output_type": "stream",
     "text": [
      "{'MSE': 15.174886423924262, 'MASE': 2.0958984399724105}\n"
     ]
    }
   ],
   "source": [
    "eval_results, trues, preds, histories = moirai_model.evaluate(test_dataset, metrics=[\"MSE\", \"MASE\"])\n",
    "print(eval_results)"
   ]
  },
  {
   "cell_type": "code",
   "execution_count": 8,
   "metadata": {},
   "outputs": [],
   "source": [
    "inp_spec = moirai_model.model.describe_inputs()"
   ]
  },
  {
   "cell_type": "code",
   "execution_count": 9,
   "metadata": {},
   "outputs": [
    {
     "data": {
      "text/plain": [
       "{'past_target': Input(shape=(1, 128, 1), dtype=torch.float32, required=True),\n",
       " 'past_observed_target': Input(shape=(1, 128, 1), dtype=torch.bool, required=True),\n",
       " 'past_is_pad': Input(shape=(1, 128), dtype=torch.bool, required=True)}"
      ]
     },
     "execution_count": 9,
     "metadata": {},
     "output_type": "execute_result"
    }
   ],
   "source": [
    "inp_spec.data"
   ]
  },
  {
   "cell_type": "markdown",
   "metadata": {},
   "source": [
    "### Visualise forecast for a given window"
   ]
  },
  {
   "cell_type": "code",
   "execution_count": 10,
   "metadata": {},
   "outputs": [
    {
     "name": "stdout",
     "output_type": "stream",
     "text": [
      "Window index: 40, Variate no: 0\n"
     ]
    }
   ],
   "source": [
    "random.seed(42)\n",
    "window_index = random.randint(0, len(histories) - 1)\n",
    "variate_no = random.randint(0, histories[window_index].shape[0] - 1)\n",
    "print(f\"Window index: {window_index}, Variate no: {variate_no}\")"
   ]
  },
  {
   "cell_type": "code",
   "execution_count": 11,
   "metadata": {},
   "outputs": [
    {
     "data": {
      "text/plain": [
       "(128, 64, 64)"
      ]
     },
     "execution_count": 11,
     "metadata": {},
     "output_type": "execute_result"
    }
   ],
   "source": [
    "history = histories[window_index][variate_no, -config[\"context_len\"]:]\n",
    "true = trues[window_index][variate_no, :]\n",
    "pred = preds[window_index][variate_no, :]\n",
    "\n",
    "len(history), len(true), len(pred)"
   ]
  },
  {
   "cell_type": "code",
   "execution_count": 12,
   "metadata": {},
   "outputs": [
    {
     "data": {
      "image/png": "[encoded data removed]",
      "text/plain": [
       "<Figure size 1200x400 with 1 Axes>"
      ]
     },
     "metadata": {},
     "output_type": "display_data"
    }
   ],
   "source": [
    "plt.figure(figsize=(12, 4))\n",
    "num_forecasts = len(true)\n",
    "offset = len(history)\n",
    "\n",
    "# Plotting the first time series from history\n",
    "plt.plot(range(offset), history, label=f\"History ({offset} timesteps)\", c=\"darkblue\")\n",
    "\n",
    "# Plotting ground truth and prediction\n",
    "plt.plot(\n",
    "    range(offset, offset + num_forecasts),\n",
    "    true,\n",
    "    label=f\"Ground Truth ({num_forecasts} timesteps)\",\n",
    "    color=\"darkblue\",\n",
    "    linestyle=\"--\",\n",
    "    alpha=0.5,\n",
    ")\n",
    "plt.plot(\n",
    "    range(offset, offset + num_forecasts),\n",
    "    pred,\n",
    "    label=f\"Forecast ({num_forecasts} timesteps)\",\n",
    "    color=\"red\",\n",
    "    linestyle=\"--\",\n",
    ")\n",
    "\n",
    "plt.title(f\"ETTh1 (Hourly) -- (Window index: {window_index}, Variate no: {variate_no}\", fontsize=18)\n",
    "plt.xlabel(\"Time\", fontsize=14)\n",
    "plt.ylabel(\"Value\", fontsize=14)\n",
    "plt.legend(fontsize=14)\n",
    "plt.show()"
   ]
  },
  {
   "cell_type": "markdown",
   "metadata": {},
   "source": [
    "### Finetune MOIRAI on ETT Dataset"
   ]
  },
  {
   "cell_type": "code",
   "execution_count": 13,
   "metadata": {},
   "outputs": [
    {
     "data": {
      "text/plain": [
       "dict_keys(['_target_', 'module_kwargs', 'min_patches', 'min_mask_ratio', 'max_mask_ratio', 'max_dim', 'loss_func', 'val_metric', 'lr', 'weight_decay', 'beta1', 'beta2', 'num_training_steps', 'num_warmup_steps', 'checkpoint_path'])"
      ]
     },
     "execution_count": 13,
     "metadata": {},
     "output_type": "execute_result"
    }
   ],
   "source": [
    "import yaml\n",
    "\n",
    "path = \"../src/samay/models/uni2ts/cli/conf/finetune/model/moirai_small.yaml\"\n",
    "with open(path, \"r\") as file:\n",
    "    fin_config = yaml.safe_load(file)\n",
    "\n",
    "fin_config.keys()"
   ]
  },
  {
   "cell_type": "code",
   "execution_count": 24,
   "metadata": {},
   "outputs": [
    {
     "data": {
      "text/plain": [
       "{'_target_': 'builtins.dict',\n",
       " 'distr_output': {'_target_': 'uni2ts.distribution.MixtureOutput',\n",
       "  'components': [{'_target_': 'uni2ts.distribution.StudentTOutput'},\n",
       "   {'_target_': 'uni2ts.distribution.NormalFixedScaleOutput'},\n",
       "   {'_target_': 'uni2ts.distribution.NegativeBinomialOutput'},\n",
       "   {'_target_': 'uni2ts.distribution.LogNormalOutput'}]},\n",
       " 'd_model': 384,\n",
       " 'num_layers': 6,\n",
       " 'patch_sizes': '${as_tuple:[8, 16, 32, 64, 128]}',\n",
       " 'max_seq_len': 512,\n",
       " 'attn_dropout_p': 0.0,\n",
       " 'dropout_p': 0.0,\n",
       " 'scaling': True}"
      ]
     },
     "execution_count": 24,
     "metadata": {},
     "output_type": "execute_result"
    }
   ],
   "source": [
    "fin_config[\"module_kwargs\"]"
   ]
  },
  {
   "cell_type": "code",
   "execution_count": 14,
   "metadata": {},
   "outputs": [
    {
     "data": {
      "text/plain": [
       "dict_keys(['hydra', 'defaults', 'run_name', 'seed', 'tf32', 'compile', 'ckpt_path', 'trainer', 'train_dataloader', 'val_dataloader'])"
      ]
     },
     "execution_count": 14,
     "metadata": {},
     "output_type": "execute_result"
    }
   ],
   "source": [
    "data_config_path = \"../src/samay/models/uni2ts/cli/conf/finetune/default.yaml\"\n",
    "with open(data_config_path, \"r\") as file:\n",
    "    torch_config = yaml.safe_load(file)\n",
    "torch_config.keys()"
   ]
  },
  {
   "cell_type": "code",
   "execution_count": 15,
   "metadata": {},
   "outputs": [
    {
     "data": {
      "text/plain": [
       "{'_target_': 'uni2ts.data.loader.DataLoader',\n",
       " 'batch_size': 128,\n",
       " 'batch_size_factor': 2.0,\n",
       " 'cycle': True,\n",
       " 'num_batches_per_epoch': 100,\n",
       " 'shuffle': True,\n",
       " 'num_workers': 11,\n",
       " 'collate_fn': {'_target_': 'uni2ts.data.loader.PackCollate',\n",
       "  'max_length': '${model.module_kwargs.max_seq_len}',\n",
       "  'seq_fields': '${cls_getattr:${model._target_},seq_fields}',\n",
       "  'pad_func_map': '${cls_getattr:${model._target_},pad_func_map}'},\n",
       " 'pin_memory': True,\n",
       " 'drop_last': False,\n",
       " 'fill_last': False,\n",
       " 'worker_init_fn': None,\n",
       " 'prefetch_factor': 2,\n",
       " 'persistent_workers': True}"
      ]
     },
     "execution_count": 15,
     "metadata": {},
     "output_type": "execute_result"
    }
   ],
   "source": [
    "torch_config[\"train_dataloader\"]"
   ]
  },
  {
   "cell_type": "code",
   "execution_count": 16,
   "metadata": {},
   "outputs": [],
   "source": [
    "# Train dataset\n",
    "train_dataset = MoiraiDataset(\n",
    "    name=data_config['name'],\n",
    "    mode=\"train\",\n",
    "    path=data_config['path'],\n",
    "    datetime_col=data_config['date_col'],\n",
    "    freq=data_config['freq'],\n",
    "    context_len=config['context_len'],\n",
    "    horizon_len=config['horizon_len'],\n",
    "    normalize=False,\n",
    "    kwargs=torch_config[\"train_dataloader\"]\n",
    ")"
   ]
  },
  {
   "cell_type": "code",
   "execution_count": 17,
   "metadata": {},
   "outputs": [
    {
     "name": "stderr",
     "output_type": "stream",
     "text": [
      "/nethome/sanand315/Samay/.venv/lib/python3.12/site-packages/torch/nn/init.py:511: UserWarning: Initializing zero-element tensors is a no-op\n",
      "  warnings.warn(\"Initializing zero-element tensors is a no-op\")\n",
      "Trainer will use only 1 of 8 GPUs because it is running inside an interactive / notebook environment. You may try to set `Trainer(devices=8)` but please note that multi-GPU inside interactive / notebook environments is considered experimental and unstable. Your mileage may vary.\n",
      "/nethome/sanand315/Samay/.venv/lib/python3.12/site-packages/lightning/fabric/plugins/environments/slurm.py:204: The `srun` command is available on your system but is not used. HINT: If your intention is to run Lightning on SLURM, prepend your python command with `srun` like so: srun python /nethome/sanand315/Samay/.venv/lib/python3.12/site-p ...\n",
      "GPU available: True (cuda), used: True\n",
      "TPU available: False, using: 0 TPU cores\n",
      "HPU available: False, using: 0 HPUs\n",
      "Seed set to 0\n",
      "/nethome/sanand315/Samay/.venv/lib/python3.12/site-packages/lightning/pytorch/trainer/configuration_validator.py:70: You defined a `validation_step` but have no `val_dataloader`. Skipping val loop.\n",
      "LOCAL_RANK: 0 - CUDA_VISIBLE_DEVICES: [0,1,2,3,4,5,6,7]\n"
     ]
    },
    {
     "ename": "AssertionError",
     "evalue": "parameters {'module.encoder.layers.4.self_attn.q_norm.weight', 'module.param_proj.proj.weights_logits.weight', 'module.encoder.layers.1.norm2.weight', 'module.encoder.layers.3.norm2.weight', 'module.encoder.layers.3.norm1.weight', 'module.encoder.layers.4.self_attn.k_norm.weight', 'module.encoder.layers.0.norm1.weight', 'module.encoder.layers.2.norm2.weight', 'module.encoder.layers.2.self_attn.q_norm.weight', 'module.encoder.layers.3.self_attn.q_norm.weight', 'module.encoder.layers.3.self_attn.k_norm.weight', 'module.encoder.layers.5.self_attn.k_norm.weight', 'module.encoder.layers.1.norm1.weight', 'module.encoder.layers.4.norm2.weight', 'module.encoder.layers.2.norm1.weight', 'module.encoder.layers.5.norm1.weight', 'module.encoder.layers.0.self_attn.k_norm.weight', 'module.encoder.layers.0.self_attn.q_norm.weight', 'module.encoder.layers.5.norm2.weight', 'module.encoder.layers.0.norm2.weight', 'module.encoder.layers.1.self_attn.q_norm.weight', 'module.encoder.norm.weight', 'module.encoder.layers.5.self_attn.q_norm.weight', 'module.encoder.layers.1.self_attn.k_norm.weight', 'module.encoder.layers.2.self_attn.k_norm.weight', 'module.in_proj.weight', 'module.encoder.layers.4.norm1.weight'} were not separated into either decay/no_decay set!",
     "output_type": "error",
     "traceback": [
      "\u001b[0;31m---------------------------------------------------------------------------\u001b[0m",
      "\u001b[0;31mAssertionError\u001b[0m                            Traceback (most recent call last)",
      "Cell \u001b[0;32mIn[17], line 4\u001b[0m\n\u001b[1;32m      1\u001b[0m ft_kwargs \u001b[38;5;241m=\u001b[39m {\u001b[38;5;124m\"\u001b[39m\u001b[38;5;124mbatch_size\u001b[39m\u001b[38;5;124m\"\u001b[39m: torch_config[\u001b[38;5;124m\"\u001b[39m\u001b[38;5;124mtrain_dataloader\u001b[39m\u001b[38;5;124m\"\u001b[39m][\u001b[38;5;124m\"\u001b[39m\u001b[38;5;124mbatch_size\u001b[39m\u001b[38;5;124m\"\u001b[39m], \u001b[38;5;124m\"\u001b[39m\u001b[38;5;124mmax_epochs\u001b[39m\u001b[38;5;124m\"\u001b[39m: torch_config[\u001b[38;5;124m\"\u001b[39m\u001b[38;5;124mtrainer\u001b[39m\u001b[38;5;124m\"\u001b[39m][\u001b[38;5;124m\"\u001b[39m\u001b[38;5;124mmax_epochs\u001b[39m\u001b[38;5;124m\"\u001b[39m], \u001b[38;5;124m\"\u001b[39m\u001b[38;5;124mseed\u001b[39m\u001b[38;5;124m\"\u001b[39m: torch_config[\u001b[38;5;124m\"\u001b[39m\u001b[38;5;124mseed\u001b[39m\u001b[38;5;124m\"\u001b[39m],\n\u001b[1;32m      2\u001b[0m              \u001b[38;5;124m\"\u001b[39m\u001b[38;5;124mtf32\u001b[39m\u001b[38;5;124m\"\u001b[39m: torch_config[\u001b[38;5;124m\"\u001b[39m\u001b[38;5;124mtf32\u001b[39m\u001b[38;5;124m\"\u001b[39m], \u001b[38;5;124m\"\u001b[39m\u001b[38;5;124mmod_torch\u001b[39m\u001b[38;5;124m\"\u001b[39m: {k:v \u001b[38;5;28;01mfor\u001b[39;00m k,v \u001b[38;5;129;01min\u001b[39;00m torch_config[\u001b[38;5;124m\"\u001b[39m\u001b[38;5;124mtrainer\u001b[39m\u001b[38;5;124m\"\u001b[39m]\u001b[38;5;241m.\u001b[39mitems() \u001b[38;5;28;01mif\u001b[39;00m k \u001b[38;5;241m!=\u001b[39m \u001b[38;5;124m\"\u001b[39m\u001b[38;5;124m_target_\u001b[39m\u001b[38;5;124m\"\u001b[39m \u001b[38;5;129;01mand\u001b[39;00m \u001b[38;5;28mtype\u001b[39m(v) \u001b[38;5;129;01mnot\u001b[39;00m \u001b[38;5;129;01min\u001b[39;00m [\u001b[38;5;28mdict\u001b[39m, \u001b[38;5;28mlist\u001b[39m]}}\n\u001b[0;32m----> 4\u001b[0m finetuned \u001b[38;5;241m=\u001b[39m \u001b[43mmoirai_model\u001b[49m\u001b[38;5;241;43m.\u001b[39;49m\u001b[43mfinetune\u001b[49m\u001b[43m(\u001b[49m\u001b[43mtrain_dataset\u001b[49m\u001b[43m,\u001b[49m\u001b[43m \u001b[49m\u001b[38;5;241;43m*\u001b[39;49m\u001b[38;5;241;43m*\u001b[39;49m\u001b[43mft_kwargs\u001b[49m\u001b[43m)\u001b[49m\n",
      "File \u001b[0;32m~/Samay/src/samay/model.py:823\u001b[0m, in \u001b[0;36mMoiraiTSModel.finetune\u001b[0;34m(self, dataset, **kwargs)\u001b[0m\n\u001b[1;32m    820\u001b[0m train_loader \u001b[38;5;241m=\u001b[39m dataset\u001b[38;5;241m.\u001b[39mget_dataloader()\n\u001b[1;32m    822\u001b[0m \u001b[38;5;66;03m# finetune now\u001b[39;00m\n\u001b[0;32m--> 823\u001b[0m \u001b[43mft_trainer\u001b[49m\u001b[38;5;241;43m.\u001b[39;49m\u001b[43mfit\u001b[49m\u001b[43m(\u001b[49m\u001b[43mFinetunedModel\u001b[49m\u001b[43m,\u001b[49m\u001b[43m \u001b[49m\u001b[43mtrain_dataloaders\u001b[49m\u001b[38;5;241;43m=\u001b[39;49m\u001b[43mtrain_loader\u001b[49m\u001b[43m)\u001b[49m\n\u001b[1;32m    826\u001b[0m \u001b[38;5;66;03m# FinetunedModel.to(self.device)\u001b[39;00m\n\u001b[1;32m    827\u001b[0m \u001b[38;5;66;03m# FinetunedModel.train() # Set model to training mode\u001b[39;00m\n\u001b[1;32m    828\u001b[0m \n\u001b[0;32m   (...)\u001b[0m\n\u001b[1;32m    904\u001b[0m \u001b[38;5;66;03m#     avg_loss /= len(dataloader)\u001b[39;00m\n\u001b[1;32m    905\u001b[0m \u001b[38;5;66;03m#     print(f\"Epoch {epoch}, Loss: {avg_loss}\")\u001b[39;00m\n\u001b[1;32m    907\u001b[0m \u001b[38;5;28mself\u001b[39m\u001b[38;5;241m.\u001b[39mmodel \u001b[38;5;241m=\u001b[39m FinetunedModel\n",
      "File \u001b[0;32m~/Samay/.venv/lib/python3.12/site-packages/lightning/pytorch/trainer/trainer.py:539\u001b[0m, in \u001b[0;36mTrainer.fit\u001b[0;34m(self, model, train_dataloaders, val_dataloaders, datamodule, ckpt_path)\u001b[0m\n\u001b[1;32m    537\u001b[0m \u001b[38;5;28mself\u001b[39m\u001b[38;5;241m.\u001b[39mstate\u001b[38;5;241m.\u001b[39mstatus \u001b[38;5;241m=\u001b[39m TrainerStatus\u001b[38;5;241m.\u001b[39mRUNNING\n\u001b[1;32m    538\u001b[0m \u001b[38;5;28mself\u001b[39m\u001b[38;5;241m.\u001b[39mtraining \u001b[38;5;241m=\u001b[39m \u001b[38;5;28;01mTrue\u001b[39;00m\n\u001b[0;32m--> 539\u001b[0m \u001b[43mcall\u001b[49m\u001b[38;5;241;43m.\u001b[39;49m\u001b[43m_call_and_handle_interrupt\u001b[49m\u001b[43m(\u001b[49m\n\u001b[1;32m    540\u001b[0m \u001b[43m    \u001b[49m\u001b[38;5;28;43mself\u001b[39;49m\u001b[43m,\u001b[49m\u001b[43m \u001b[49m\u001b[38;5;28;43mself\u001b[39;49m\u001b[38;5;241;43m.\u001b[39;49m\u001b[43m_fit_impl\u001b[49m\u001b[43m,\u001b[49m\u001b[43m \u001b[49m\u001b[43mmodel\u001b[49m\u001b[43m,\u001b[49m\u001b[43m \u001b[49m\u001b[43mtrain_dataloaders\u001b[49m\u001b[43m,\u001b[49m\u001b[43m \u001b[49m\u001b[43mval_dataloaders\u001b[49m\u001b[43m,\u001b[49m\u001b[43m \u001b[49m\u001b[43mdatamodule\u001b[49m\u001b[43m,\u001b[49m\u001b[43m \u001b[49m\u001b[43mckpt_path\u001b[49m\n\u001b[1;32m    541\u001b[0m \u001b[43m\u001b[49m\u001b[43m)\u001b[49m\n",
      "File \u001b[0;32m~/Samay/.venv/lib/python3.12/site-packages/lightning/pytorch/trainer/call.py:47\u001b[0m, in \u001b[0;36m_call_and_handle_interrupt\u001b[0;34m(trainer, trainer_fn, *args, **kwargs)\u001b[0m\n\u001b[1;32m     45\u001b[0m     \u001b[38;5;28;01mif\u001b[39;00m trainer\u001b[38;5;241m.\u001b[39mstrategy\u001b[38;5;241m.\u001b[39mlauncher \u001b[38;5;129;01mis\u001b[39;00m \u001b[38;5;129;01mnot\u001b[39;00m \u001b[38;5;28;01mNone\u001b[39;00m:\n\u001b[1;32m     46\u001b[0m         \u001b[38;5;28;01mreturn\u001b[39;00m trainer\u001b[38;5;241m.\u001b[39mstrategy\u001b[38;5;241m.\u001b[39mlauncher\u001b[38;5;241m.\u001b[39mlaunch(trainer_fn, \u001b[38;5;241m*\u001b[39margs, trainer\u001b[38;5;241m=\u001b[39mtrainer, \u001b[38;5;241m*\u001b[39m\u001b[38;5;241m*\u001b[39mkwargs)\n\u001b[0;32m---> 47\u001b[0m     \u001b[38;5;28;01mreturn\u001b[39;00m \u001b[43mtrainer_fn\u001b[49m\u001b[43m(\u001b[49m\u001b[38;5;241;43m*\u001b[39;49m\u001b[43margs\u001b[49m\u001b[43m,\u001b[49m\u001b[43m \u001b[49m\u001b[38;5;241;43m*\u001b[39;49m\u001b[38;5;241;43m*\u001b[39;49m\u001b[43mkwargs\u001b[49m\u001b[43m)\u001b[49m\n\u001b[1;32m     49\u001b[0m \u001b[38;5;28;01mexcept\u001b[39;00m _TunerExitException:\n\u001b[1;32m     50\u001b[0m     _call_teardown_hook(trainer)\n",
      "File \u001b[0;32m~/Samay/.venv/lib/python3.12/site-packages/lightning/pytorch/trainer/trainer.py:575\u001b[0m, in \u001b[0;36mTrainer._fit_impl\u001b[0;34m(self, model, train_dataloaders, val_dataloaders, datamodule, ckpt_path)\u001b[0m\n\u001b[1;32m    568\u001b[0m \u001b[38;5;28;01massert\u001b[39;00m \u001b[38;5;28mself\u001b[39m\u001b[38;5;241m.\u001b[39mstate\u001b[38;5;241m.\u001b[39mfn \u001b[38;5;129;01mis\u001b[39;00m \u001b[38;5;129;01mnot\u001b[39;00m \u001b[38;5;28;01mNone\u001b[39;00m\n\u001b[1;32m    569\u001b[0m ckpt_path \u001b[38;5;241m=\u001b[39m \u001b[38;5;28mself\u001b[39m\u001b[38;5;241m.\u001b[39m_checkpoint_connector\u001b[38;5;241m.\u001b[39m_select_ckpt_path(\n\u001b[1;32m    570\u001b[0m     \u001b[38;5;28mself\u001b[39m\u001b[38;5;241m.\u001b[39mstate\u001b[38;5;241m.\u001b[39mfn,\n\u001b[1;32m    571\u001b[0m     ckpt_path,\n\u001b[1;32m    572\u001b[0m     model_provided\u001b[38;5;241m=\u001b[39m\u001b[38;5;28;01mTrue\u001b[39;00m,\n\u001b[1;32m    573\u001b[0m     model_connected\u001b[38;5;241m=\u001b[39m\u001b[38;5;28mself\u001b[39m\u001b[38;5;241m.\u001b[39mlightning_module \u001b[38;5;129;01mis\u001b[39;00m \u001b[38;5;129;01mnot\u001b[39;00m \u001b[38;5;28;01mNone\u001b[39;00m,\n\u001b[1;32m    574\u001b[0m )\n\u001b[0;32m--> 575\u001b[0m \u001b[38;5;28;43mself\u001b[39;49m\u001b[38;5;241;43m.\u001b[39;49m\u001b[43m_run\u001b[49m\u001b[43m(\u001b[49m\u001b[43mmodel\u001b[49m\u001b[43m,\u001b[49m\u001b[43m \u001b[49m\u001b[43mckpt_path\u001b[49m\u001b[38;5;241;43m=\u001b[39;49m\u001b[43mckpt_path\u001b[49m\u001b[43m)\u001b[49m\n\u001b[1;32m    577\u001b[0m \u001b[38;5;28;01massert\u001b[39;00m \u001b[38;5;28mself\u001b[39m\u001b[38;5;241m.\u001b[39mstate\u001b[38;5;241m.\u001b[39mstopped\n\u001b[1;32m    578\u001b[0m \u001b[38;5;28mself\u001b[39m\u001b[38;5;241m.\u001b[39mtraining \u001b[38;5;241m=\u001b[39m \u001b[38;5;28;01mFalse\u001b[39;00m\n",
      "File \u001b[0;32m~/Samay/.venv/lib/python3.12/site-packages/lightning/pytorch/trainer/trainer.py:958\u001b[0m, in \u001b[0;36mTrainer._run\u001b[0;34m(self, model, ckpt_path)\u001b[0m\n\u001b[1;32m    955\u001b[0m \u001b[38;5;28mself\u001b[39m\u001b[38;5;241m.\u001b[39m_logger_connector\u001b[38;5;241m.\u001b[39mreset_metrics()\n\u001b[1;32m    957\u001b[0m \u001b[38;5;66;03m# strategy will configure model and move it to the device\u001b[39;00m\n\u001b[0;32m--> 958\u001b[0m \u001b[38;5;28;43mself\u001b[39;49m\u001b[38;5;241;43m.\u001b[39;49m\u001b[43mstrategy\u001b[49m\u001b[38;5;241;43m.\u001b[39;49m\u001b[43msetup\u001b[49m\u001b[43m(\u001b[49m\u001b[38;5;28;43mself\u001b[39;49m\u001b[43m)\u001b[49m\n\u001b[1;32m    960\u001b[0m \u001b[38;5;66;03m# hook\u001b[39;00m\n\u001b[1;32m    961\u001b[0m \u001b[38;5;28;01mif\u001b[39;00m \u001b[38;5;28mself\u001b[39m\u001b[38;5;241m.\u001b[39mstate\u001b[38;5;241m.\u001b[39mfn \u001b[38;5;241m==\u001b[39m TrainerFn\u001b[38;5;241m.\u001b[39mFITTING:\n",
      "File \u001b[0;32m~/Samay/.venv/lib/python3.12/site-packages/lightning/pytorch/strategies/strategy.py:159\u001b[0m, in \u001b[0;36mStrategy.setup\u001b[0;34m(self, trainer)\u001b[0m\n\u001b[1;32m    156\u001b[0m \u001b[38;5;28mself\u001b[39m\u001b[38;5;241m.\u001b[39mmodel \u001b[38;5;241m=\u001b[39m \u001b[38;5;28mself\u001b[39m\u001b[38;5;241m.\u001b[39m_setup_model(\u001b[38;5;28mself\u001b[39m\u001b[38;5;241m.\u001b[39mmodel)\n\u001b[1;32m    158\u001b[0m \u001b[38;5;28;01mif\u001b[39;00m trainer\u001b[38;5;241m.\u001b[39mstate\u001b[38;5;241m.\u001b[39mfn \u001b[38;5;241m==\u001b[39m TrainerFn\u001b[38;5;241m.\u001b[39mFITTING:\n\u001b[0;32m--> 159\u001b[0m     \u001b[38;5;28;43mself\u001b[39;49m\u001b[38;5;241;43m.\u001b[39;49m\u001b[43msetup_optimizers\u001b[49m\u001b[43m(\u001b[49m\u001b[43mtrainer\u001b[49m\u001b[43m)\u001b[49m\n\u001b[1;32m    160\u001b[0m \u001b[38;5;28mself\u001b[39m\u001b[38;5;241m.\u001b[39msetup_precision_plugin()\n\u001b[1;32m    161\u001b[0m \u001b[38;5;28;01mif\u001b[39;00m trainer\u001b[38;5;241m.\u001b[39mstate\u001b[38;5;241m.\u001b[39mfn \u001b[38;5;241m==\u001b[39m TrainerFn\u001b[38;5;241m.\u001b[39mFITTING:\n",
      "File \u001b[0;32m~/Samay/.venv/lib/python3.12/site-packages/lightning/pytorch/strategies/strategy.py:139\u001b[0m, in \u001b[0;36mStrategy.setup_optimizers\u001b[0;34m(self, trainer)\u001b[0m\n\u001b[1;32m    132\u001b[0m \u001b[38;5;250m\u001b[39m\u001b[38;5;124;03m\"\"\"Creates optimizers and schedulers.\u001b[39;00m\n\u001b[1;32m    133\u001b[0m \n\u001b[1;32m    134\u001b[0m \u001b[38;5;124;03mArgs:\u001b[39;00m\n\u001b[1;32m    135\u001b[0m \u001b[38;5;124;03m    trainer: the Trainer, these optimizers should be connected to\u001b[39;00m\n\u001b[1;32m    136\u001b[0m \n\u001b[1;32m    137\u001b[0m \u001b[38;5;124;03m\"\"\"\u001b[39;00m\n\u001b[1;32m    138\u001b[0m \u001b[38;5;28;01massert\u001b[39;00m \u001b[38;5;28mself\u001b[39m\u001b[38;5;241m.\u001b[39mlightning_module \u001b[38;5;129;01mis\u001b[39;00m \u001b[38;5;129;01mnot\u001b[39;00m \u001b[38;5;28;01mNone\u001b[39;00m\n\u001b[0;32m--> 139\u001b[0m \u001b[38;5;28mself\u001b[39m\u001b[38;5;241m.\u001b[39moptimizers, \u001b[38;5;28mself\u001b[39m\u001b[38;5;241m.\u001b[39mlr_scheduler_configs \u001b[38;5;241m=\u001b[39m \u001b[43m_init_optimizers_and_lr_schedulers\u001b[49m\u001b[43m(\u001b[49m\u001b[38;5;28;43mself\u001b[39;49m\u001b[38;5;241;43m.\u001b[39;49m\u001b[43mlightning_module\u001b[49m\u001b[43m)\u001b[49m\n",
      "File \u001b[0;32m~/Samay/.venv/lib/python3.12/site-packages/lightning/pytorch/core/optimizer.py:180\u001b[0m, in \u001b[0;36m_init_optimizers_and_lr_schedulers\u001b[0;34m(model)\u001b[0m\n\u001b[1;32m    177\u001b[0m \u001b[38;5;250m\u001b[39m\u001b[38;5;124;03m\"\"\"Calls `LightningModule.configure_optimizers` and parses and validates the output.\"\"\"\u001b[39;00m\n\u001b[1;32m    178\u001b[0m \u001b[38;5;28;01mfrom\u001b[39;00m \u001b[38;5;21;01mlightning\u001b[39;00m\u001b[38;5;21;01m.\u001b[39;00m\u001b[38;5;21;01mpytorch\u001b[39;00m\u001b[38;5;21;01m.\u001b[39;00m\u001b[38;5;21;01mtrainer\u001b[39;00m \u001b[38;5;28;01mimport\u001b[39;00m call\n\u001b[0;32m--> 180\u001b[0m optim_conf \u001b[38;5;241m=\u001b[39m \u001b[43mcall\u001b[49m\u001b[38;5;241;43m.\u001b[39;49m\u001b[43m_call_lightning_module_hook\u001b[49m\u001b[43m(\u001b[49m\u001b[43mmodel\u001b[49m\u001b[38;5;241;43m.\u001b[39;49m\u001b[43mtrainer\u001b[49m\u001b[43m,\u001b[49m\u001b[43m \u001b[49m\u001b[38;5;124;43m\"\u001b[39;49m\u001b[38;5;124;43mconfigure_optimizers\u001b[39;49m\u001b[38;5;124;43m\"\u001b[39;49m\u001b[43m,\u001b[49m\u001b[43m \u001b[49m\u001b[43mpl_module\u001b[49m\u001b[38;5;241;43m=\u001b[39;49m\u001b[43mmodel\u001b[49m\u001b[43m)\u001b[49m\n\u001b[1;32m    182\u001b[0m \u001b[38;5;28;01mif\u001b[39;00m optim_conf \u001b[38;5;129;01mis\u001b[39;00m \u001b[38;5;28;01mNone\u001b[39;00m:\n\u001b[1;32m    183\u001b[0m     rank_zero_warn(\n\u001b[1;32m    184\u001b[0m         \u001b[38;5;124m\"\u001b[39m\u001b[38;5;124m`LightningModule.configure_optimizers` returned `None`, this fit will run with no optimizer\u001b[39m\u001b[38;5;124m\"\u001b[39m,\n\u001b[1;32m    185\u001b[0m     )\n",
      "File \u001b[0;32m~/Samay/.venv/lib/python3.12/site-packages/lightning/pytorch/trainer/call.py:171\u001b[0m, in \u001b[0;36m_call_lightning_module_hook\u001b[0;34m(trainer, hook_name, pl_module, *args, **kwargs)\u001b[0m\n\u001b[1;32m    168\u001b[0m pl_module\u001b[38;5;241m.\u001b[39m_current_fx_name \u001b[38;5;241m=\u001b[39m hook_name\n\u001b[1;32m    170\u001b[0m \u001b[38;5;28;01mwith\u001b[39;00m trainer\u001b[38;5;241m.\u001b[39mprofiler\u001b[38;5;241m.\u001b[39mprofile(\u001b[38;5;124mf\u001b[39m\u001b[38;5;124m\"\u001b[39m\u001b[38;5;124m[LightningModule]\u001b[39m\u001b[38;5;132;01m{\u001b[39;00mpl_module\u001b[38;5;241m.\u001b[39m\u001b[38;5;18m__class__\u001b[39m\u001b[38;5;241m.\u001b[39m\u001b[38;5;18m__name__\u001b[39m\u001b[38;5;132;01m}\u001b[39;00m\u001b[38;5;124m.\u001b[39m\u001b[38;5;132;01m{\u001b[39;00mhook_name\u001b[38;5;132;01m}\u001b[39;00m\u001b[38;5;124m\"\u001b[39m):\n\u001b[0;32m--> 171\u001b[0m     output \u001b[38;5;241m=\u001b[39m \u001b[43mfn\u001b[49m\u001b[43m(\u001b[49m\u001b[38;5;241;43m*\u001b[39;49m\u001b[43margs\u001b[49m\u001b[43m,\u001b[49m\u001b[43m \u001b[49m\u001b[38;5;241;43m*\u001b[39;49m\u001b[38;5;241;43m*\u001b[39;49m\u001b[43mkwargs\u001b[49m\u001b[43m)\u001b[49m\n\u001b[1;32m    173\u001b[0m \u001b[38;5;66;03m# restore current_fx when nested context\u001b[39;00m\n\u001b[1;32m    174\u001b[0m pl_module\u001b[38;5;241m.\u001b[39m_current_fx_name \u001b[38;5;241m=\u001b[39m prev_fx_name\n",
      "File \u001b[0;32m~/Samay/src/samay/models/uni2ts/model/moirai/finetune.py:288\u001b[0m, in \u001b[0;36mMoiraiFinetune.configure_optimizers\u001b[0;34m(self)\u001b[0m\n\u001b[1;32m    283\u001b[0m union_params \u001b[38;5;241m=\u001b[39m decay \u001b[38;5;241m|\u001b[39m no_decay\n\u001b[1;32m    284\u001b[0m \u001b[38;5;28;01massert\u001b[39;00m (\n\u001b[1;32m    285\u001b[0m     \u001b[38;5;28mlen\u001b[39m(inter_params) \u001b[38;5;241m==\u001b[39m \u001b[38;5;241m0\u001b[39m\n\u001b[1;32m    286\u001b[0m ), \u001b[38;5;124mf\u001b[39m\u001b[38;5;124m\"\u001b[39m\u001b[38;5;124mparameters \u001b[39m\u001b[38;5;132;01m{\u001b[39;00m\u001b[38;5;28mstr\u001b[39m(inter_params)\u001b[38;5;132;01m}\u001b[39;00m\u001b[38;5;124m made it into both decay/no_decay sets!\u001b[39m\u001b[38;5;124m\"\u001b[39m\n\u001b[1;32m    287\u001b[0m \u001b[38;5;28;01massert\u001b[39;00m (\n\u001b[0;32m--> 288\u001b[0m     \u001b[38;5;28mlen\u001b[39m(param_dict\u001b[38;5;241m.\u001b[39mkeys() \u001b[38;5;241m-\u001b[39m union_params) \u001b[38;5;241m==\u001b[39m \u001b[38;5;241m0\u001b[39m\n\u001b[1;32m    289\u001b[0m ), \u001b[38;5;124mf\u001b[39m\u001b[38;5;124m\"\u001b[39m\u001b[38;5;124mparameters \u001b[39m\u001b[38;5;132;01m{\u001b[39;00m\u001b[38;5;28mstr\u001b[39m(param_dict\u001b[38;5;241m.\u001b[39mkeys()\u001b[38;5;250m \u001b[39m\u001b[38;5;241m-\u001b[39m\u001b[38;5;250m \u001b[39munion_params)\u001b[38;5;132;01m}\u001b[39;00m\u001b[38;5;124m were not separated into either decay/no_decay set!\u001b[39m\u001b[38;5;124m\"\u001b[39m\n\u001b[1;32m    291\u001b[0m optim_groups \u001b[38;5;241m=\u001b[39m [\n\u001b[1;32m    292\u001b[0m     {\n\u001b[1;32m    293\u001b[0m         \u001b[38;5;124m\"\u001b[39m\u001b[38;5;124mparams\u001b[39m\u001b[38;5;124m\"\u001b[39m: \u001b[38;5;28mfilter\u001b[39m(\n\u001b[0;32m   (...)\u001b[0m\n\u001b[1;32m    305\u001b[0m     },\n\u001b[1;32m    306\u001b[0m ]\n\u001b[1;32m    308\u001b[0m optimizer \u001b[38;5;241m=\u001b[39m torch\u001b[38;5;241m.\u001b[39moptim\u001b[38;5;241m.\u001b[39mAdamW(\n\u001b[1;32m    309\u001b[0m     optim_groups,\n\u001b[1;32m    310\u001b[0m     lr\u001b[38;5;241m=\u001b[39m\u001b[38;5;28mself\u001b[39m\u001b[38;5;241m.\u001b[39mhparams\u001b[38;5;241m.\u001b[39mlr,\n\u001b[1;32m    311\u001b[0m     betas\u001b[38;5;241m=\u001b[39m(\u001b[38;5;28mself\u001b[39m\u001b[38;5;241m.\u001b[39mhparams\u001b[38;5;241m.\u001b[39mbeta1, \u001b[38;5;28mself\u001b[39m\u001b[38;5;241m.\u001b[39mhparams\u001b[38;5;241m.\u001b[39mbeta2),\n\u001b[1;32m    312\u001b[0m     eps\u001b[38;5;241m=\u001b[39m\u001b[38;5;241m1e-6\u001b[39m,\n\u001b[1;32m    313\u001b[0m )\n",
      "\u001b[0;31mAssertionError\u001b[0m: parameters {'module.encoder.layers.4.self_attn.q_norm.weight', 'module.param_proj.proj.weights_logits.weight', 'module.encoder.layers.1.norm2.weight', 'module.encoder.layers.3.norm2.weight', 'module.encoder.layers.3.norm1.weight', 'module.encoder.layers.4.self_attn.k_norm.weight', 'module.encoder.layers.0.norm1.weight', 'module.encoder.layers.2.norm2.weight', 'module.encoder.layers.2.self_attn.q_norm.weight', 'module.encoder.layers.3.self_attn.q_norm.weight', 'module.encoder.layers.3.self_attn.k_norm.weight', 'module.encoder.layers.5.self_attn.k_norm.weight', 'module.encoder.layers.1.norm1.weight', 'module.encoder.layers.4.norm2.weight', 'module.encoder.layers.2.norm1.weight', 'module.encoder.layers.5.norm1.weight', 'module.encoder.layers.0.self_attn.k_norm.weight', 'module.encoder.layers.0.self_attn.q_norm.weight', 'module.encoder.layers.5.norm2.weight', 'module.encoder.layers.0.norm2.weight', 'module.encoder.layers.1.self_attn.q_norm.weight', 'module.encoder.norm.weight', 'module.encoder.layers.5.self_attn.q_norm.weight', 'module.encoder.layers.1.self_attn.k_norm.weight', 'module.encoder.layers.2.self_attn.k_norm.weight', 'module.in_proj.weight', 'module.encoder.layers.4.norm1.weight'} were not separated into either decay/no_decay set!"
     ]
    }
   ],
   "source": [
    "ft_kwargs = {\"batch_size\": torch_config[\"train_dataloader\"][\"batch_size\"], \"max_epochs\": torch_config[\"trainer\"][\"max_epochs\"], \"seed\": torch_config[\"seed\"],\n",
    "             \"tf32\": torch_config[\"tf32\"], \"mod_torch\": {k:v for k,v in torch_config[\"trainer\"].items() if k != \"_target_\" and type(v) not in [dict, list]}}\n",
    "\n",
    "finetuned = moirai_model.finetune(train_dataset, **ft_kwargs)"
   ]
  },
  {
   "cell_type": "code",
   "execution_count": 20,
   "metadata": {},
   "outputs": [
    {
     "data": {
      "text/plain": [
       "['CHECKPOINT_HYPER_PARAMS_KEY',\n",
       " 'CHECKPOINT_HYPER_PARAMS_NAME',\n",
       " 'CHECKPOINT_HYPER_PARAMS_TYPE',\n",
       " 'T_destination',\n",
       " '_LightningModule__check_allowed',\n",
       " '_LightningModule__check_not_nested',\n",
       " '_LightningModule__to_tensor',\n",
       " '__annotations__',\n",
       " '__call__',\n",
       " '__class__',\n",
       " '__delattr__',\n",
       " '__dict__',\n",
       " '__dir__',\n",
       " '__doc__',\n",
       " '__eq__',\n",
       " '__format__',\n",
       " '__ge__',\n",
       " '__getattr__',\n",
       " '__getattribute__',\n",
       " '__getstate__',\n",
       " '__gt__',\n",
       " '__hash__',\n",
       " '__init__',\n",
       " '__init_subclass__',\n",
       " '__jit_unused_properties__',\n",
       " '__le__',\n",
       " '__lt__',\n",
       " '__module__',\n",
       " '__ne__',\n",
       " '__new__',\n",
       " '__reduce__',\n",
       " '__reduce_ex__',\n",
       " '__repr__',\n",
       " '__setattr__',\n",
       " '__setstate__',\n",
       " '__sizeof__',\n",
       " '__str__',\n",
       " '__subclasshook__',\n",
       " '__weakref__',\n",
       " '_apply',\n",
       " '_apply_batch_transfer_handler',\n",
       " '_automatic_optimization',\n",
       " '_backward_hooks',\n",
       " '_backward_pre_hooks',\n",
       " '_buffers',\n",
       " '_call_batch_hook',\n",
       " '_call_impl',\n",
       " '_compiled_call_impl',\n",
       " '_compiler_ctx',\n",
       " '_convert',\n",
       " '_current_fx_name',\n",
       " '_device',\n",
       " '_device_mesh',\n",
       " '_dtype',\n",
       " '_example_input_array',\n",
       " '_fabric',\n",
       " '_fabric_optimizers',\n",
       " '_format_preds',\n",
       " '_forward_hooks',\n",
       " '_forward_hooks_always_called',\n",
       " '_forward_hooks_with_kwargs',\n",
       " '_forward_pre_hooks',\n",
       " '_forward_pre_hooks_with_kwargs',\n",
       " '_generate_time_id',\n",
       " '_get_backward_hooks',\n",
       " '_get_backward_pre_hooks',\n",
       " '_get_name',\n",
       " '_hparams',\n",
       " '_hparams_initial',\n",
       " '_hparams_name',\n",
       " '_is_full_backward_hook',\n",
       " '_jit_is_scripting',\n",
       " '_load_from_state_dict',\n",
       " '_load_state_dict_post_hooks',\n",
       " '_load_state_dict_pre_hooks',\n",
       " '_log_dict_through_fabric',\n",
       " '_log_hyperparams',\n",
       " '_maybe_warn_non_full_backward_hook',\n",
       " '_metric_attributes',\n",
       " '_modules',\n",
       " '_named_members',\n",
       " '_non_persistent_buffers_set',\n",
       " '_on_before_batch_transfer',\n",
       " '_param_requires_grad_state',\n",
       " '_parameters',\n",
       " '_patched_seq_pad',\n",
       " '_register_load_state_dict_pre_hook',\n",
       " '_register_state_dict_hook',\n",
       " '_replicate_for_data_parallel',\n",
       " '_save_to_state_dict',\n",
       " '_set_hparams',\n",
       " '_slow_forward',\n",
       " '_state_dict_hooks',\n",
       " '_state_dict_pre_hooks',\n",
       " '_strict_loading',\n",
       " '_to_hparams_dict',\n",
       " '_trainer',\n",
       " '_verify_is_manual_optimization',\n",
       " '_version',\n",
       " '_wrapped_call_impl',\n",
       " 'add_module',\n",
       " 'all_gather',\n",
       " 'allow_zero_length_dataloader_with_multiple_devices',\n",
       " 'apply',\n",
       " 'automatic_optimization',\n",
       " 'backward',\n",
       " 'bfloat16',\n",
       " 'buffers',\n",
       " 'call_super_init',\n",
       " 'children',\n",
       " 'clip_gradients',\n",
       " 'compile',\n",
       " 'configure_callbacks',\n",
       " 'configure_gradient_clipping',\n",
       " 'configure_model',\n",
       " 'configure_optimizers',\n",
       " 'configure_sharded_model',\n",
       " 'context_token_length',\n",
       " 'cpu',\n",
       " 'create_predictor',\n",
       " 'cuda',\n",
       " 'current_epoch',\n",
       " 'describe_inputs',\n",
       " 'device',\n",
       " 'device_mesh',\n",
       " 'double',\n",
       " 'dtype',\n",
       " 'dump_patches',\n",
       " 'eval',\n",
       " 'example_input_array',\n",
       " 'extra_repr',\n",
       " 'fabric',\n",
       " 'float',\n",
       " 'forward',\n",
       " 'freeze',\n",
       " 'get_buffer',\n",
       " 'get_default_transform',\n",
       " 'get_extra_state',\n",
       " 'get_parameter',\n",
       " 'get_submodule',\n",
       " 'global_rank',\n",
       " 'global_step',\n",
       " 'half',\n",
       " 'hparams',\n",
       " 'hparams_context',\n",
       " 'hparams_initial',\n",
       " 'ipu',\n",
       " 'load_from_checkpoint',\n",
       " 'load_state_dict',\n",
       " 'local_rank',\n",
       " 'log',\n",
       " 'log_dict',\n",
       " 'logger',\n",
       " 'loggers',\n",
       " 'lr_scheduler_step',\n",
       " 'lr_schedulers',\n",
       " 'manual_backward',\n",
       " 'max_patch_size',\n",
       " 'module',\n",
       " 'modules',\n",
       " 'mtia',\n",
       " 'named_buffers',\n",
       " 'named_children',\n",
       " 'named_modules',\n",
       " 'named_parameters',\n",
       " 'on_after_backward',\n",
       " 'on_after_batch_transfer',\n",
       " 'on_before_backward',\n",
       " 'on_before_batch_transfer',\n",
       " 'on_before_optimizer_step',\n",
       " 'on_before_zero_grad',\n",
       " 'on_fit_end',\n",
       " 'on_fit_start',\n",
       " 'on_gpu',\n",
       " 'on_load_checkpoint',\n",
       " 'on_predict_batch_end',\n",
       " 'on_predict_batch_start',\n",
       " 'on_predict_end',\n",
       " 'on_predict_epoch_end',\n",
       " 'on_predict_epoch_start',\n",
       " 'on_predict_model_eval',\n",
       " 'on_predict_start',\n",
       " 'on_save_checkpoint',\n",
       " 'on_test_batch_end',\n",
       " 'on_test_batch_start',\n",
       " 'on_test_end',\n",
       " 'on_test_epoch_end',\n",
       " 'on_test_epoch_start',\n",
       " 'on_test_model_eval',\n",
       " 'on_test_model_train',\n",
       " 'on_test_start',\n",
       " 'on_train_batch_end',\n",
       " 'on_train_batch_start',\n",
       " 'on_train_end',\n",
       " 'on_train_epoch_end',\n",
       " 'on_train_epoch_start',\n",
       " 'on_train_start',\n",
       " 'on_validation_batch_end',\n",
       " 'on_validation_batch_start',\n",
       " 'on_validation_end',\n",
       " 'on_validation_epoch_end',\n",
       " 'on_validation_epoch_start',\n",
       " 'on_validation_model_eval',\n",
       " 'on_validation_model_train',\n",
       " 'on_validation_model_zero_grad',\n",
       " 'on_validation_start',\n",
       " 'optimizer_step',\n",
       " 'optimizer_zero_grad',\n",
       " 'optimizers',\n",
       " 'parameters',\n",
       " 'past_length',\n",
       " 'per_sample_loss_func',\n",
       " 'predict_dataloader',\n",
       " 'predict_step',\n",
       " 'prediction_input_names',\n",
       " 'prediction_token_length',\n",
       " 'prepare_data',\n",
       " 'prepare_data_per_node',\n",
       " 'print',\n",
       " 'register_backward_hook',\n",
       " 'register_buffer',\n",
       " 'register_forward_hook',\n",
       " 'register_forward_pre_hook',\n",
       " 'register_full_backward_hook',\n",
       " 'register_full_backward_pre_hook',\n",
       " 'register_load_state_dict_post_hook',\n",
       " 'register_load_state_dict_pre_hook',\n",
       " 'register_module',\n",
       " 'register_parameter',\n",
       " 'register_state_dict_post_hook',\n",
       " 'register_state_dict_pre_hook',\n",
       " 'requires_grad_',\n",
       " 'save_hyperparameters',\n",
       " 'set_extra_state',\n",
       " 'set_submodule',\n",
       " 'setup',\n",
       " 'share_memory',\n",
       " 'state_dict',\n",
       " 'strict_loading',\n",
       " 'teardown',\n",
       " 'test_dataloader',\n",
       " 'test_step',\n",
       " 'to',\n",
       " 'to_empty',\n",
       " 'to_onnx',\n",
       " 'to_torchscript',\n",
       " 'toggle_optimizer',\n",
       " 'train',\n",
       " 'train_dataloader',\n",
       " 'trainer',\n",
       " 'training',\n",
       " 'training_input_names',\n",
       " 'training_step',\n",
       " 'transfer_batch_to_device',\n",
       " 'type',\n",
       " 'unfreeze',\n",
       " 'untoggle_optimizer',\n",
       " 'val_dataloader',\n",
       " 'validation_step',\n",
       " 'xpu',\n",
       " 'zero_grad']"
      ]
     },
     "execution_count": 20,
     "metadata": {},
     "output_type": "execute_result"
    }
   ],
   "source": [
    "dir(moirai_model.model)"
   ]
  },
  {
   "cell_type": "code",
   "execution_count": 23,
   "metadata": {},
   "outputs": [
    {
     "data": {
      "text/plain": [
       "<bound method LightningModule.print of MoiraiMoEForecast(\n",
       "  (module): MoiraiMoEModule(\n",
       "    (scaler): PackedStdScaler()\n",
       "    (in_proj): MultiInSizeLinear(in_features_ls=[16], out_features=384, bias=True, dtype=torch.float32)\n",
       "    (res_proj): MultiInSizeLinear(in_features_ls=[16], out_features=384, bias=True, dtype=torch.float32)\n",
       "    (feat_proj): FeatLinear(in_features_ls=[16], out_features=384, bias=True, dtype=torch.float32)\n",
       "    (encoder): TransformerEncoder(\n",
       "      (layers): ModuleList(\n",
       "        (0-5): 6 x TransformerEncoderLayer(\n",
       "          (self_attn): GroupedQueryAttention(\n",
       "            (var_attn_bias): BinaryAttentionBias(\n",
       "              (emb): Embedding(2, 6)\n",
       "            )\n",
       "            (time_qk_proj): QueryKeyProjection(\n",
       "              (query_proj): RotaryProjection()\n",
       "              (key_proj): RotaryProjection()\n",
       "            )\n",
       "            (q_proj): Linear(in_features=384, out_features=384, bias=False)\n",
       "            (k_proj): Linear(in_features=384, out_features=384, bias=False)\n",
       "            (v_proj): Linear(in_features=384, out_features=384, bias=False)\n",
       "            (q_norm): RMSNorm(normalized_shape=(64,), eps=1e-05, weight=True)\n",
       "            (k_norm): RMSNorm(normalized_shape=(64,), eps=1e-05, weight=True)\n",
       "            (out_proj): Linear(in_features=384, out_features=384, bias=False)\n",
       "          )\n",
       "          (ffn): MoEFeedForward(\n",
       "            (experts): ModuleList(\n",
       "              (0-31): 32 x GatedLinearUnitFeedForward(\n",
       "                (fc1): Linear(in_features=384, out_features=512, bias=False)\n",
       "                (fc2): Linear(in_features=512, out_features=384, bias=False)\n",
       "                (dropout1): Dropout(p=0.0, inplace=False)\n",
       "                (dropout2): Dropout(p=0.0, inplace=False)\n",
       "                (fc_gate): Linear(in_features=384, out_features=512, bias=False)\n",
       "              )\n",
       "            )\n",
       "          )\n",
       "          (norm1): RMSNorm(normalized_shape=(384,), eps=1e-05, weight=True)\n",
       "          (norm2): RMSNorm(normalized_shape=(384,), eps=1e-05, weight=True)\n",
       "          (dropout): Dropout(p=0.0, inplace=False)\n",
       "        )\n",
       "      )\n",
       "      (norm): RMSNorm(normalized_shape=(384,), eps=1e-05, weight=True)\n",
       "    )\n",
       "    (param_proj): DistrParamProj(\n",
       "      (proj): ModuleDict(\n",
       "        (weights_logits): MultiOutSizeLinear(in_features=384, out_features_ls=(64,), bias=True, dtype=torch.float32)\n",
       "        (components): ModuleList(\n",
       "          (0): ModuleDict(\n",
       "            (df): MultiOutSizeLinear(in_features=384, out_features_ls=(16,), bias=True, dtype=torch.float32)\n",
       "            (loc): MultiOutSizeLinear(in_features=384, out_features_ls=(16,), bias=True, dtype=torch.float32)\n",
       "            (scale): MultiOutSizeLinear(in_features=384, out_features_ls=(16,), bias=True, dtype=torch.float32)\n",
       "          )\n",
       "          (1): ModuleDict(\n",
       "            (loc): MultiOutSizeLinear(in_features=384, out_features_ls=(16,), bias=True, dtype=torch.float32)\n",
       "          )\n",
       "          (2): ModuleDict(\n",
       "            (total_count): MultiOutSizeLinear(in_features=384, out_features_ls=(16,), bias=True, dtype=torch.float32)\n",
       "            (logits): MultiOutSizeLinear(in_features=384, out_features_ls=(16,), bias=True, dtype=torch.float32)\n",
       "          )\n",
       "          (3): ModuleDict(\n",
       "            (loc): MultiOutSizeLinear(in_features=384, out_features_ls=(16,), bias=True, dtype=torch.float32)\n",
       "            (scale): MultiOutSizeLinear(in_features=384, out_features_ls=(16,), bias=True, dtype=torch.float32)\n",
       "          )\n",
       "        )\n",
       "      )\n",
       "    )\n",
       "  )\n",
       ")>"
      ]
     },
     "execution_count": 23,
     "metadata": {},
     "output_type": "execute_result"
    }
   ],
   "source": [
    "moirai_model.model.print"
   ]
  }
 ],
 "metadata": {
  "kernelspec": {
   "display_name": ".venv",
   "language": "python",
   "name": "python3"
  },
  "language_info": {
   "codemirror_mode": {
    "name": "ipython",
    "version": 3
   },
   "file_extension": ".py",
   "mimetype": "text/x-python",
   "name": "python",
   "nbconvert_exporter": "python",
   "pygments_lexer": "ipython3",
   "version": "3.12.7"
  }
 },
 "nbformat": 4,
 "nbformat_minor": 2
}
