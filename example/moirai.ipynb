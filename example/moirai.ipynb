{
 "cells": [
  {
   "cell_type": "markdown",
   "metadata": {},
   "source": [
    "## MOIRAI Usage Example\n",
    "\n",
    "### Key features of the model:\n",
    "- **Multi-patch Layers:** Adapts to different granularities (frequencies) - different patch size for each granularity\n",
    "- **Probabilistic:** Predicts params of mix of distributions along with a confidence score for each distribution\n",
    "\n",
    "### Loading MOIRAI Model"
   ]
  },
  {
   "cell_type": "code",
   "execution_count": 1,
   "metadata": {},
   "outputs": [],
   "source": [
    "# External imports\n",
    "import os\n",
    "import sys\n",
    "import pandas as pd\n",
    "import matplotlib.pyplot as plt\n",
    "import random\n",
    "\n",
    "src_path = os.path.abspath(os.path.join(\"src\"))\n",
    "if src_path not in sys.path:\n",
    "    sys.path.insert(0, src_path)\n",
    "\n",
    "# Local imports\n",
    "from samay.dataset import MoiraiDataset\n",
    "from samay.model import MoiraiTSModel\n",
    "\n",
    "# Load the pretrained model\n",
    "repo = \"Salesforce/moirai-moe-1.0-R-small\"\n",
    "config = {\n",
    "        \"context_len\": 128,\n",
    "        \"horizon_len\": 64,\n",
    "        \"num_layers\": 100,\n",
    "        \"model_type\": \"moirai-moe\",\n",
    "        \"model_size\": \"small\"\n",
    "    }\n",
    "\n",
    "moirai_model = MoiraiTSModel(repor=repo, config=config)"
   ]
  },
  {
   "cell_type": "markdown",
   "metadata": {},
   "source": [
    "### Define the datasets"
   ]
  },
  {
   "cell_type": "code",
   "execution_count": 2,
   "metadata": {},
   "outputs": [
    {
     "data": {
      "text/html": [
       "<div>\n",
       "<style scoped>\n",
       "    .dataframe tbody tr th:only-of-type {\n",
       "        vertical-align: middle;\n",
       "    }\n",
       "\n",
       "    .dataframe tbody tr th {\n",
       "        vertical-align: top;\n",
       "    }\n",
       "\n",
       "    .dataframe thead th {\n",
       "        text-align: right;\n",
       "    }\n",
       "</style>\n",
       "<table border=\"1\" class=\"dataframe\">\n",
       "  <thead>\n",
       "    <tr style=\"text-align: right;\">\n",
       "      <th></th>\n",
       "      <th>date</th>\n",
       "      <th>HUFL</th>\n",
       "      <th>HULL</th>\n",
       "      <th>MUFL</th>\n",
       "      <th>MULL</th>\n",
       "      <th>LUFL</th>\n",
       "      <th>LULL</th>\n",
       "      <th>OT</th>\n",
       "    </tr>\n",
       "  </thead>\n",
       "  <tbody>\n",
       "    <tr>\n",
       "      <th>0</th>\n",
       "      <td>2016-07-01 00:00:00</td>\n",
       "      <td>5.827</td>\n",
       "      <td>2.009</td>\n",
       "      <td>1.599</td>\n",
       "      <td>0.462</td>\n",
       "      <td>4.203</td>\n",
       "      <td>1.340</td>\n",
       "      <td>30.531000</td>\n",
       "    </tr>\n",
       "    <tr>\n",
       "      <th>1</th>\n",
       "      <td>2016-07-01 01:00:00</td>\n",
       "      <td>5.693</td>\n",
       "      <td>2.076</td>\n",
       "      <td>1.492</td>\n",
       "      <td>0.426</td>\n",
       "      <td>4.142</td>\n",
       "      <td>1.371</td>\n",
       "      <td>27.787001</td>\n",
       "    </tr>\n",
       "    <tr>\n",
       "      <th>2</th>\n",
       "      <td>2016-07-01 02:00:00</td>\n",
       "      <td>5.157</td>\n",
       "      <td>1.741</td>\n",
       "      <td>1.279</td>\n",
       "      <td>0.355</td>\n",
       "      <td>3.777</td>\n",
       "      <td>1.218</td>\n",
       "      <td>27.787001</td>\n",
       "    </tr>\n",
       "    <tr>\n",
       "      <th>3</th>\n",
       "      <td>2016-07-01 03:00:00</td>\n",
       "      <td>5.090</td>\n",
       "      <td>1.942</td>\n",
       "      <td>1.279</td>\n",
       "      <td>0.391</td>\n",
       "      <td>3.807</td>\n",
       "      <td>1.279</td>\n",
       "      <td>25.044001</td>\n",
       "    </tr>\n",
       "    <tr>\n",
       "      <th>4</th>\n",
       "      <td>2016-07-01 04:00:00</td>\n",
       "      <td>5.358</td>\n",
       "      <td>1.942</td>\n",
       "      <td>1.492</td>\n",
       "      <td>0.462</td>\n",
       "      <td>3.868</td>\n",
       "      <td>1.279</td>\n",
       "      <td>21.948000</td>\n",
       "    </tr>\n",
       "  </tbody>\n",
       "</table>\n",
       "</div>"
      ],
      "text/plain": [
       "                  date   HUFL   HULL   MUFL   MULL   LUFL   LULL         OT\n",
       "0  2016-07-01 00:00:00  5.827  2.009  1.599  0.462  4.203  1.340  30.531000\n",
       "1  2016-07-01 01:00:00  5.693  2.076  1.492  0.426  4.142  1.371  27.787001\n",
       "2  2016-07-01 02:00:00  5.157  1.741  1.279  0.355  3.777  1.218  27.787001\n",
       "3  2016-07-01 03:00:00  5.090  1.942  1.279  0.391  3.807  1.279  25.044001\n",
       "4  2016-07-01 04:00:00  5.358  1.942  1.492  0.462  3.868  1.279  21.948000"
      ]
     },
     "execution_count": 2,
     "metadata": {},
     "output_type": "execute_result"
    }
   ],
   "source": [
    "# Config for the electric transformer temperature dataset\n",
    "data_config = {\"name\" : \"ett\",\n",
    "                \"path\" : \"../src/samay/models/moment/data/ETTh1.csv\",\n",
    "                \"date_col\" : \"date\",\n",
    "                \"freq\": \"h\"\n",
    "            }\n",
    "\n",
    "df = pd.read_csv(data_config[\"path\"])\n",
    "df.head()"
   ]
  },
  {
   "cell_type": "markdown",
   "metadata": {},
   "source": [
    "Here, we have 6 input features (all form `input_ts`) and the target column is the *Oil Temperature* (`OT`)"
   ]
  },
  {
   "cell_type": "code",
   "execution_count": 3,
   "metadata": {},
   "outputs": [],
   "source": [
    "# test dataset - for zero-shot forecasting\n",
    "test_dataset = MoiraiDataset(\n",
    "    name=data_config['name'],\n",
    "    mode=\"test\",\n",
    "    path=data_config['path'],\n",
    "    datetime_col=data_config['date_col'],\n",
    "    freq=data_config['freq'],\n",
    "    context_len=config['context_len'],\n",
    "    horizon_len=config['horizon_len'],\n",
    "    normalize=False\n",
    ")"
   ]
  },
  {
   "cell_type": "code",
   "execution_count": 4,
   "metadata": {},
   "outputs": [
    {
     "name": "stdout",
     "output_type": "stream",
     "text": [
      "['_preprocess', '_read_data', 'batch_size', 'batchsize', 'boundaries', 'context_len', 'data', 'data_path', 'dataset', 'datetime_col', 'freq', 'gen_test_data', 'gen_train_val_data', 'get_data_loader', 'get_dataloader', 'horizon_len', 'htune', 'kwargs', 'mode', 'name', 'normalize', 'patch_size', 'prep_train_data', 'preprocess', 'save', 'start_date', 'ts_cols'] "
     ]
    }
   ],
   "source": [
    "print([x for x in dir(test_dataset) if \"__\" not in x],end=\" \")"
   ]
  },
  {
   "cell_type": "markdown",
   "metadata": {},
   "source": [
    "`data` is of `pd.DataFrame` type and `dataset` is of `torch.utils.data.Dataset` type"
   ]
  },
  {
   "cell_type": "code",
   "execution_count": 5,
   "metadata": {},
   "outputs": [
    {
     "data": {
      "text/plain": [
       "(378,\n",
       " ({'start': tensor(1.4673e+09),\n",
       "   'target': tensor([ 5.8270,  5.6930,  5.1570,  ...,  1.6080, -7.5020,  5.9610]),\n",
       "   'freq': 'H',\n",
       "   'item_id': 'HUFL'},\n",
       "  {'start': tensor(1.4673e+09),\n",
       "   'target': tensor([  3.6840,  13.3290,  15.6060,  18.6870,  18.0180,  16.9460,  16.6780,\n",
       "            16.0080,  15.0700,  14.2000,  14.2670,  14.7360,  13.8650,  12.9270,\n",
       "            12.7260,  14.8030,  13.3290,   2.0090,  -4.9570,  -5.5590, -10.4490,\n",
       "            -3.5500,  -2.1430,   1.4740,   6.2960,  12.9940,  15.6060,  17.7500,\n",
       "            17.2810,  17.6160,  15.8740,  16.8790,  16.3430,  14.4680,  14.9370,\n",
       "            13.9990,  13.7980,  14.2000,  13.7980,  16.3430,  15.4720,   4.6220,\n",
       "            -4.6220,  -8.7070,  -7.7700,   0.4020,  -2.4780,   3.0140,   7.4350,\n",
       "            14.6020,  17.2810,  19.2900,  20.0270,  17.2140,  16.0080,  15.5390,\n",
       "            14.4010,  12.9270,  12.3240,  13.4630,  12.9940,  12.1230,  12.0560,\n",
       "            14.2000]),\n",
       "   'freq': 'H',\n",
       "   'item_id': 'HUFL'}))"
      ]
     },
     "execution_count": 5,
     "metadata": {},
     "output_type": "execute_result"
    }
   ],
   "source": [
    "test_all = [x for x in iter(test_dataset.dataset)]\n",
    "len(test_all), test_all[0]"
   ]
  },
  {
   "cell_type": "markdown",
   "metadata": {},
   "source": [
    "There are two parts to each instance (window) in `test_all` - the `input` (history) and the `label` which consists of the true value of the forecast"
   ]
  },
  {
   "cell_type": "code",
   "execution_count": 6,
   "metadata": {},
   "outputs": [
    {
     "data": {
      "text/plain": [
       "(13936, 64)"
      ]
     },
     "execution_count": 6,
     "metadata": {},
     "output_type": "execute_result"
    }
   ],
   "source": [
    "len(test_all[0][0][\"target\"]), len(test_all[0][1][\"target\"])"
   ]
  },
  {
   "cell_type": "markdown",
   "metadata": {},
   "source": [
    "### Evaluate zero-shot forecasting"
   ]
  },
  {
   "cell_type": "code",
   "execution_count": 7,
   "metadata": {},
   "outputs": [
    {
     "name": "stdout",
     "output_type": "stream",
     "text": [
      "{'MSE': 15.038640875947804, 'MASE': 2.103385743739934}\n"
     ]
    }
   ],
   "source": [
    "eval_results, trues, preds, histories = moirai_model.evaluate(test_dataset, metrics=[\"MSE\", \"MASE\"])\n",
    "print(eval_results)"
   ]
  },
  {
   "cell_type": "code",
   "execution_count": 8,
   "metadata": {},
   "outputs": [],
   "source": [
    "inp_spec = moirai_model.model.describe_inputs()"
   ]
  },
  {
   "cell_type": "code",
   "execution_count": 9,
   "metadata": {},
   "outputs": [
    {
     "data": {
      "text/plain": [
       "{'past_target': Input(shape=(1, 128, 1), dtype=torch.float32, required=True),\n",
       " 'past_observed_target': Input(shape=(1, 128, 1), dtype=torch.bool, required=True),\n",
       " 'past_is_pad': Input(shape=(1, 128), dtype=torch.bool, required=True)}"
      ]
     },
     "execution_count": 9,
     "metadata": {},
     "output_type": "execute_result"
    }
   ],
   "source": [
    "inp_spec.data"
   ]
  },
  {
   "cell_type": "markdown",
   "metadata": {},
   "source": [
    "### Visualise forecast for a given window"
   ]
  },
  {
   "cell_type": "code",
   "execution_count": 10,
   "metadata": {},
   "outputs": [
    {
     "name": "stdout",
     "output_type": "stream",
     "text": [
      "Window index: 40, Variate no: 0\n"
     ]
    }
   ],
   "source": [
    "random.seed(42)\n",
    "window_index = random.randint(0, len(histories) - 1)\n",
    "variate_no = random.randint(0, histories[window_index].shape[0] - 1)\n",
    "print(f\"Window index: {window_index}, Variate no: {variate_no}\")"
   ]
  },
  {
   "cell_type": "code",
   "execution_count": 11,
   "metadata": {},
   "outputs": [
    {
     "data": {
      "text/plain": [
       "(128, 64, 64)"
      ]
     },
     "execution_count": 11,
     "metadata": {},
     "output_type": "execute_result"
    }
   ],
   "source": [
    "history = histories[window_index][variate_no, -config[\"context_len\"]:]\n",
    "true = trues[window_index][variate_no, :]\n",
    "pred = preds[window_index][variate_no, :]\n",
    "\n",
    "len(history), len(true), len(pred)"
   ]
  },
  {
   "cell_type": "code",
   "execution_count": 12,
   "metadata": {},
   "outputs": [
    {
     "data": {
      "image/png": "[encoded data removed]",
      "text/plain": [
       "<Figure size 1200x400 with 1 Axes>"
      ]
     },
     "metadata": {},
     "output_type": "display_data"
    }
   ],
   "source": [
    "plt.figure(figsize=(12, 4))\n",
    "num_forecasts = len(true)\n",
    "offset = len(history)\n",
    "\n",
    "# Plotting the first time series from history\n",
    "plt.plot(range(offset), history, label=f\"History ({offset} timesteps)\", c=\"darkblue\")\n",
    "\n",
    "# Plotting ground truth and prediction\n",
    "plt.plot(\n",
    "    range(offset, offset + num_forecasts),\n",
    "    true,\n",
    "    label=f\"Ground Truth ({num_forecasts} timesteps)\",\n",
    "    color=\"darkblue\",\n",
    "    linestyle=\"--\",\n",
    "    alpha=0.5,\n",
    ")\n",
    "plt.plot(\n",
    "    range(offset, offset + num_forecasts),\n",
    "    pred,\n",
    "    label=f\"Forecast ({num_forecasts} timesteps)\",\n",
    "    color=\"red\",\n",
    "    linestyle=\"--\",\n",
    ")\n",
    "\n",
    "plt.title(f\"ETTh1 (Hourly) -- (Window index: {window_index}, Variate no: {variate_no}\", fontsize=18)\n",
    "plt.xlabel(\"Time\", fontsize=14)\n",
    "plt.ylabel(\"Value\", fontsize=14)\n",
    "plt.legend(fontsize=14)\n",
    "plt.show()"
   ]
  },
  {
   "cell_type": "markdown",
   "metadata": {},
   "source": [
    "### Finetune MOIRAI on ETT Dataset"
   ]
  },
  {
   "cell_type": "code",
   "execution_count": 13,
   "metadata": {},
   "outputs": [
    {
     "data": {
      "text/plain": [
       "dict_keys(['_target_', 'module_kwargs', 'min_patches', 'min_mask_ratio', 'max_mask_ratio', 'max_dim', 'loss_func', 'val_metric', 'lr', 'weight_decay', 'beta1', 'beta2', 'num_training_steps', 'num_warmup_steps', 'checkpoint_path'])"
      ]
     },
     "execution_count": 13,
     "metadata": {},
     "output_type": "execute_result"
    }
   ],
   "source": [
    "import yaml\n",
    "\n",
    "path = \"../src/samay/models/uni2ts/cli/conf/finetune/model/moirai_small.yaml\"\n",
    "with open(path, \"r\") as file:\n",
    "    fin_config = yaml.safe_load(file)\n",
    "\n",
    "fin_config.keys()"
   ]
  },
  {
   "cell_type": "code",
   "execution_count": 14,
   "metadata": {},
   "outputs": [
    {
     "data": {
      "text/plain": [
       "{'_target_': 'builtins.dict',\n",
       " 'distr_output': {'_target_': 'uni2ts.distribution.MixtureOutput',\n",
       "  'components': [{'_target_': 'uni2ts.distribution.StudentTOutput'},\n",
       "   {'_target_': 'uni2ts.distribution.NormalFixedScaleOutput'},\n",
       "   {'_target_': 'uni2ts.distribution.NegativeBinomialOutput'},\n",
       "   {'_target_': 'uni2ts.distribution.LogNormalOutput'}]},\n",
       " 'd_model': 384,\n",
       " 'num_layers': 6,\n",
       " 'patch_sizes': '${as_tuple:[8, 16, 32, 64, 128]}',\n",
       " 'max_seq_len': 512,\n",
       " 'attn_dropout_p': 0.0,\n",
       " 'dropout_p': 0.0,\n",
       " 'scaling': True}"
      ]
     },
     "execution_count": 14,
     "metadata": {},
     "output_type": "execute_result"
    }
   ],
   "source": [
    "fin_config[\"module_kwargs\"]"
   ]
  },
  {
   "cell_type": "code",
   "execution_count": 15,
   "metadata": {},
   "outputs": [
    {
     "data": {
      "text/plain": [
       "dict_keys(['hydra', 'defaults', 'run_name', 'seed', 'tf32', 'compile', 'ckpt_path', 'trainer', 'train_dataloader', 'val_dataloader'])"
      ]
     },
     "execution_count": 15,
     "metadata": {},
     "output_type": "execute_result"
    }
   ],
   "source": [
    "data_config_path = \"../src/samay/models/uni2ts/cli/conf/finetune/default.yaml\"\n",
    "with open(data_config_path, \"r\") as file:\n",
    "    torch_config = yaml.safe_load(file)\n",
    "torch_config.keys()"
   ]
  },
  {
   "cell_type": "code",
   "execution_count": 16,
   "metadata": {},
   "outputs": [
    {
     "data": {
      "text/plain": [
       "{'_target_': 'uni2ts.data.loader.DataLoader',\n",
       " 'batch_size': 128,\n",
       " 'batch_size_factor': 2.0,\n",
       " 'cycle': True,\n",
       " 'num_batches_per_epoch': 100,\n",
       " 'shuffle': True,\n",
       " 'num_workers': 11,\n",
       " 'collate_fn': {'_target_': 'uni2ts.data.loader.PackCollate',\n",
       "  'max_length': '${model.module_kwargs.max_seq_len}',\n",
       "  'seq_fields': '${cls_getattr:${model._target_},seq_fields}',\n",
       "  'pad_func_map': '${cls_getattr:${model._target_},pad_func_map}'},\n",
       " 'pin_memory': True,\n",
       " 'drop_last': False,\n",
       " 'fill_last': False,\n",
       " 'worker_init_fn': None,\n",
       " 'prefetch_factor': 2,\n",
       " 'persistent_workers': True}"
      ]
     },
     "execution_count": 16,
     "metadata": {},
     "output_type": "execute_result"
    }
   ],
   "source": [
    "torch_config[\"train_dataloader\"]"
   ]
  },
  {
   "cell_type": "code",
   "execution_count": 17,
   "metadata": {},
   "outputs": [
    {
     "data": {
      "text/plain": [
       "16"
      ]
     },
     "execution_count": 17,
     "metadata": {},
     "output_type": "execute_result"
    }
   ],
   "source": [
    "# Number of input features to Input projection layer is the patch size used by the model\n",
    "patch_size = moirai_model.model.module.in_proj.in_features_ls[0]\n",
    "patch_size"
   ]
  },
  {
   "cell_type": "code",
   "execution_count": 18,
   "metadata": {},
   "outputs": [],
   "source": [
    "# Train dataset\n",
    "train_dataset = MoiraiDataset(\n",
    "    name=data_config['name'],\n",
    "    mode=\"train\",\n",
    "    path=data_config['path'],\n",
    "    datetime_col=data_config['date_col'],\n",
    "    freq=data_config['freq'],\n",
    "    context_len=config['context_len'],\n",
    "    horizon_len=config['horizon_len'],\n",
    "    patch_size=patch_size,\n",
    "    normalize=False,\n",
    "    kwargs=torch_config[\"train_dataloader\"]\n",
    ")"
   ]
  },
  {
   "cell_type": "code",
   "execution_count": 19,
   "metadata": {},
   "outputs": [],
   "source": [
    "ft_kwargs = {\"batch_size\": torch_config[\"train_dataloader\"][\"batch_size\"], \"max_epochs\": torch_config[\"trainer\"][\"max_epochs\"], \"seed\": torch_config[\"seed\"],\n",
    "             \"tf32\": torch_config[\"tf32\"], \"mod_torch\": {k:v for k,v in torch_config[\"trainer\"].items() if k != \"_target_\" and type(v) not in [dict, list]}}"
   ]
  },
  {
   "cell_type": "code",
   "execution_count": 20,
   "metadata": {},
   "outputs": [
    {
     "data": {
      "text/plain": [
       "7"
      ]
     },
     "execution_count": 20,
     "metadata": {},
     "output_type": "execute_result"
    }
   ],
   "source": [
    "import torch\n",
    "\n",
    "data_iter = iter(train_dataset.dataset)\n",
    "mod_data = []\n",
    "\n",
    "for x in data_iter:\n",
    "    mod_data.append({\n",
    "        \"start\": x[\"start\"],\n",
    "        \"target\": x[\"target\"],\n",
    "        \"observed_mask\": [1] * (len(x[\"target\"]) - config[\"horizon_len\"]) + [0] * config[\"horizon_len\"],\n",
    "        \"prediction_mask\": [0] * (len(x[\"target\"]) - config[\"horizon_len\"]) + [1] * config[\"horizon_len\"],\n",
    "        \"time_id\": list(range(len(x[\"target\"]))),\n",
    "        \"variate_id\": [list(df.columns).index(x[\"item_id\"])]*len(x[\"target\"]),\n",
    "        \"patch_size\": [patch_size]*len(x[\"target\"])\n",
    "    })\n",
    "\n",
    "len(mod_data)"
   ]
  },
  {
   "cell_type": "code",
   "execution_count": 23,
   "metadata": {},
   "outputs": [
    {
     "data": {
      "text/plain": [
       "(215, 7)"
      ]
     },
     "execution_count": 23,
     "metadata": {},
     "output_type": "execute_result"
    }
   ],
   "source": [
    "rolling_data = []\n",
    "\n",
    "# for rolling evaluation\n",
    "n = (mod_data[0][\"target\"].shape[0] - config[\"context_len\"]) // config[\"horizon_len\"]\n",
    "\n",
    "for i in range(n):\n",
    "    data = []\n",
    "    for x in mod_data:\n",
    "        data.append({\n",
    "            \"start\": x[\"start\"],\n",
    "            \"target\": x[\"target\"][:(i+1)*config[\"horizon_len\"] + config[\"context_len\"]],\n",
    "            \"observed_mask\": [1]*(config[\"context_len\"] + i*config[\"horizon_len\"]) + [0]*config[\"horizon_len\"],\n",
    "            \"prediction_mask\": [0]*(config[\"context_len\"] + i*config[\"horizon_len\"]) + [1]*config[\"horizon_len\"],\n",
    "            \"time_id\": x[\"time_id\"][:(i+1)*config[\"horizon_len\"] + config[\"context_len\"]],\n",
    "            \"variate_id\": x[\"variate_id\"][:(i+1)*config[\"horizon_len\"] + config[\"context_len\"]],\n",
    "            \"patch_size\": x[\"patch_size\"][:(i+1)*config[\"horizon_len\"] + config[\"context_len\"]]\n",
    "        })\n",
    "    rolling_data.append(data)\n",
    "\n",
    "len(rolling_data), len(rolling_data[0])"
   ]
  },
  {
   "cell_type": "code",
   "execution_count": 24,
   "metadata": {},
   "outputs": [
    {
     "data": {
      "text/plain": [
       "(215, torch.Size([7]))"
      ]
     },
     "execution_count": 24,
     "metadata": {},
     "output_type": "execute_result"
    }
   ],
   "source": [
    "batched_data = []\n",
    "\n",
    "for p in rolling_data:\n",
    "    batched_data.append({\n",
    "        \"start\": torch.tensor([x[\"start\"] for x in p], dtype=torch.float32),\n",
    "        \"target\": torch.tensor([x for y in p for x in y[\"target\"]], dtype=torch.float32),\n",
    "        \"observed_mask\": torch.tensor([x for y in p for x in y[\"observed_mask\"]], dtype=torch.bool),\n",
    "        \"prediction_mask\": torch.tensor([x for y in p for x in y[\"prediction_mask\"]], dtype=torch.bool),\n",
    "        \"time_id\": torch.tensor([x for y in p for x in y[\"time_id\"]], dtype=torch.int64),\n",
    "        \"variate_id\": torch.tensor([x for y in p for x in y[\"variate_id\"]], dtype=torch.int64),\n",
    "        \"patch_size\": torch.tensor([x for y in p for x in y[\"patch_size\"]], dtype=torch.int64)\n",
    "        })\n",
    "\n",
    "len(batched_data), batched_data[0][\"start\"].shape"
   ]
  },
  {
   "cell_type": "code",
   "execution_count": 25,
   "metadata": {},
   "outputs": [],
   "source": [
    "train_load = train_dataset.get_dataloader()"
   ]
  },
  {
   "cell_type": "code",
   "execution_count": null,
   "metadata": {},
   "outputs": [],
   "source": [
    "for x in iter(train_load):\n",
    "    for k,v in x.items():\n",
    "        print(f\"{k}: {v.shape}\")"
   ]
  },
  {
   "cell_type": "code",
   "execution_count": null,
   "metadata": {},
   "outputs": [],
   "source": [
    "finetuned = moirai_model.finetune(train_dataset, **ft_kwargs)"
   ]
  }
 ],
 "metadata": {
  "kernelspec": {
   "display_name": ".venv",
   "language": "python",
   "name": "python3"
  },
  "language_info": {
   "codemirror_mode": {
    "name": "ipython",
    "version": 3
   },
   "file_extension": ".py",
   "mimetype": "text/x-python",
   "name": "python",
   "nbconvert_exporter": "python",
   "pygments_lexer": "ipython3",
   "version": "3.12.7"
  }
 },
 "nbformat": 4,
 "nbformat_minor": 2
}
