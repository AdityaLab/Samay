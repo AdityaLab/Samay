{
 "cells": [
  {
   "cell_type": "code",
   "execution_count": 1,
   "id": "ef9a6de3",
   "metadata": {},
   "outputs": [
    {
     "name": "stdout",
     "output_type": "stream",
     "text": [
      "/raid/hkamarthi3/Samay\n"
     ]
    },
    {
     "name": "stderr",
     "output_type": "stream",
     "text": [
      "/nethome/hkamarthi3/scratch/Samay/.venv/lib/python3.11/site-packages/IPython/core/magics/osm.py:417: UserWarning: This is now an optional IPython functionality, setting dhist requires you to install the `pickleshare` library.\n",
      "  self.shell.db['dhist'] = compress_dhist(dhist)[-100:]\n"
     ]
    }
   ],
   "source": [
    "%cd .."
   ]
  },
  {
   "cell_type": "code",
   "execution_count": null,
   "id": "178735dc",
   "metadata": {},
   "outputs": [],
   "source": [
    "import os\n",
    "\n",
    "from anomaly_benchmark_processing import detect_anomalies_in_data\n",
    "\n",
    "folder_path = \"data/data/UCR_Anomaly_FullData\"\n",
    "all_files = sorted(\n",
    "    [f for f in os.listdir(folder_path) if os.path.isfile(os.path.join(folder_path, f))]\n",
    ")"
   ]
  },
  {
   "cell_type": "code",
   "execution_count": null,
   "id": "12ffefda",
   "metadata": {},
   "outputs": [],
   "source": [
    "epochs = 1  # change as desired\n",
    "files = 10  # change as desired -- max 250\n",
    "\n",
    "\n",
    "def get_number_values(path):\n",
    "    path = path[:-4]\n",
    "    parts = path.split(\"_\")\n",
    "    num1, num2, num3 = parts[-3], parts[-2], parts[-1]\n",
    "    return (int(num1), int(num2), int(num3))\n",
    "\n",
    "\n",
    "# get_number_values(\"001_UCR_Anomaly_DISTORTED1sddb40_35000_52000_52620.txt\")\n"
   ]
  },
  {
   "cell_type": "code",
   "execution_count": null,
   "id": "dd8f3b90",
   "metadata": {},
   "outputs": [
    {
     "name": "stderr",
     "output_type": "stream",
     "text": [
      "/nethome/hkamarthi3/scratch/Samay/.venv/lib/python3.11/site-packages/gluonts/json.py:102: UserWarning: Using `json`-module for json-handling. Consider installing one of `orjson`, `ujson` to speed up serialization and deserialization.\n",
      "  warnings.warn(\n",
      "INFO:p-3587006:t-139810912831296:backbone.py:_validate_inputs:Setting d_model to 768\n"
     ]
    },
    {
     "name": "stdout",
     "output_type": "stream",
     "text": [
      "Using model.py from: /raid/hkamarthi3/Samay/src/samay/model.py\n"
     ]
    },
    {
     "name": "stderr",
     "output_type": "stream",
     "text": [
      "INFO:p-3587006:t-139810912831296:backbone.py:_get_transformer_backbone:Initializing pre-trained transformer from google/flan-t5-base.\n",
      "INFO:p-3587006:t-139810912831296:backbone.py:_get_transformer_backbone:Enabling gradient checkpointing.\n",
      "/nethome/hkamarthi3/scratch/Samay/.venv/lib/python3.11/site-packages/torch/utils/checkpoint.py:87: UserWarning: None of the inputs have requires_grad=True. Gradients will be None\n",
      "  warnings.warn(\n"
     ]
    },
    {
     "name": "stdout",
     "output_type": "stream",
     "text": [
      "Epoch 0: Train loss: 0.814\n",
      "79794\n"
     ]
    },
    {
     "name": "stderr",
     "output_type": "stream",
     "text": [
      "INFO:p-3587006:t-139810912831296:backbone.py:_validate_inputs:Setting d_model to 768\n"
     ]
    },
    {
     "name": "stdout",
     "output_type": "stream",
     "text": [
      "Top 10 anomaly indices: [70256, 21652, 40588, 3449, 70113, 24143, 77341, 40461, 24173, 7219]\n",
      "Anomalies saved to: saved_anomalies/anomalies_log.csv\n",
      "1 file(s) done\n",
      "Using model.py from: /raid/hkamarthi3/Samay/src/samay/model.py\n"
     ]
    },
    {
     "name": "stderr",
     "output_type": "stream",
     "text": [
      "INFO:p-3587006:t-139810912831296:backbone.py:_get_transformer_backbone:Initializing pre-trained transformer from google/flan-t5-base.\n",
      "INFO:p-3587006:t-139810912831296:backbone.py:_get_transformer_backbone:Enabling gradient checkpointing.\n",
      "/nethome/hkamarthi3/scratch/Samay/.venv/lib/python3.11/site-packages/torch/utils/checkpoint.py:87: UserWarning:\n",
      "\n",
      "None of the inputs have requires_grad=True. Gradients will be None\n",
      "\n"
     ]
    },
    {
     "name": "stdout",
     "output_type": "stream",
     "text": [
      "Epoch 0: Train loss: 0.821\n",
      "80000\n"
     ]
    },
    {
     "name": "stderr",
     "output_type": "stream",
     "text": [
      "INFO:p-3587006:t-139810912831296:backbone.py:_validate_inputs:Setting d_model to 768\n"
     ]
    },
    {
     "name": "stdout",
     "output_type": "stream",
     "text": [
      "Top 10 anomaly indices: [50585, 24504, 70317, 21352, 12844, 26833, 30977, 35306, 11824, 55715]\n",
      "Anomalies saved to: saved_anomalies/anomalies_log.csv\n",
      "2 file(s) done\n",
      "Using model.py from: /raid/hkamarthi3/Samay/src/samay/model.py\n"
     ]
    },
    {
     "name": "stderr",
     "output_type": "stream",
     "text": [
      "INFO:p-3587006:t-139810912831296:backbone.py:_get_transformer_backbone:Initializing pre-trained transformer from google/flan-t5-base.\n",
      "INFO:p-3587006:t-139810912831296:backbone.py:_get_transformer_backbone:Enabling gradient checkpointing.\n",
      "/nethome/hkamarthi3/scratch/Samay/.venv/lib/python3.11/site-packages/torch/utils/checkpoint.py:87: UserWarning:\n",
      "\n",
      "None of the inputs have requires_grad=True. Gradients will be None\n",
      "\n"
     ]
    },
    {
     "name": "stdout",
     "output_type": "stream",
     "text": [
      "Epoch 0: Train loss: 0.817\n",
      "79999\n"
     ]
    },
    {
     "name": "stderr",
     "output_type": "stream",
     "text": [
      "INFO:p-3587006:t-139810912831296:backbone.py:_validate_inputs:Setting d_model to 768\n"
     ]
    },
    {
     "name": "stdout",
     "output_type": "stream",
     "text": [
      "Top 10 anomaly indices: [23482, 66586, 72382, 25027, 51177, 70384, 71641, 24349, 6108, 9012]\n",
      "Anomalies saved to: saved_anomalies/anomalies_log.csv\n",
      "3 file(s) done\n",
      "Using model.py from: /raid/hkamarthi3/Samay/src/samay/model.py\n"
     ]
    },
    {
     "name": "stderr",
     "output_type": "stream",
     "text": [
      "INFO:p-3587006:t-139810912831296:backbone.py:_get_transformer_backbone:Initializing pre-trained transformer from google/flan-t5-base.\n",
      "INFO:p-3587006:t-139810912831296:backbone.py:_get_transformer_backbone:Enabling gradient checkpointing.\n",
      "/nethome/hkamarthi3/scratch/Samay/.venv/lib/python3.11/site-packages/torch/utils/checkpoint.py:87: UserWarning:\n",
      "\n",
      "None of the inputs have requires_grad=True. Gradients will be None\n",
      "\n"
     ]
    },
    {
     "name": "stdout",
     "output_type": "stream",
     "text": [
      "Epoch 0: Train loss: 0.951\n",
      "10999\n"
     ]
    },
    {
     "name": "stderr",
     "output_type": "stream",
     "text": [
      "INFO:p-3587006:t-139810912831296:backbone.py:_validate_inputs:Setting d_model to 768\n"
     ]
    },
    {
     "name": "stdout",
     "output_type": "stream",
     "text": [
      "Top 10 anomaly indices: [3099, 5775, 8683, 4139, 5625, 4637, 9986, 755, 9097, 7516]\n",
      "Anomalies saved to: saved_anomalies/anomalies_log.csv\n",
      "4 file(s) done\n",
      "Using model.py from: /raid/hkamarthi3/Samay/src/samay/model.py\n"
     ]
    },
    {
     "name": "stderr",
     "output_type": "stream",
     "text": [
      "INFO:p-3587006:t-139810912831296:backbone.py:_get_transformer_backbone:Initializing pre-trained transformer from google/flan-t5-base.\n",
      "INFO:p-3587006:t-139810912831296:backbone.py:_get_transformer_backbone:Enabling gradient checkpointing.\n",
      "/nethome/hkamarthi3/scratch/Samay/.venv/lib/python3.11/site-packages/torch/utils/checkpoint.py:87: UserWarning:\n",
      "\n",
      "None of the inputs have requires_grad=True. Gradients will be None\n",
      "\n"
     ]
    },
    {
     "name": "stdout",
     "output_type": "stream",
     "text": [
      "Epoch 0: Train loss: 0.963\n",
      "8183\n"
     ]
    },
    {
     "name": "stderr",
     "output_type": "stream",
     "text": [
      "INFO:p-3587006:t-139810912831296:backbone.py:_validate_inputs:Setting d_model to 768\n"
     ]
    },
    {
     "name": "stdout",
     "output_type": "stream",
     "text": [
      "Top 10 anomaly indices: [3583, 5854, 6060, 4241, 5329, 5161, 6425, 4304, 4899, 4877]\n",
      "Anomalies saved to: saved_anomalies/anomalies_log.csv\n",
      "5 file(s) done\n",
      "Using model.py from: /raid/hkamarthi3/Samay/src/samay/model.py\n"
     ]
    },
    {
     "name": "stderr",
     "output_type": "stream",
     "text": [
      "INFO:p-3587006:t-139810912831296:backbone.py:_get_transformer_backbone:Initializing pre-trained transformer from google/flan-t5-base.\n",
      "INFO:p-3587006:t-139810912831296:backbone.py:_get_transformer_backbone:Enabling gradient checkpointing.\n",
      "/nethome/hkamarthi3/scratch/Samay/.venv/lib/python3.11/site-packages/torch/utils/checkpoint.py:87: UserWarning:\n",
      "\n",
      "None of the inputs have requires_grad=True. Gradients will be None\n",
      "\n"
     ]
    },
    {
     "name": "stdout",
     "output_type": "stream",
     "text": [
      "Epoch 0: Train loss: 0.949\n",
      "8183\n"
     ]
    },
    {
     "name": "stderr",
     "output_type": "stream",
     "text": [
      "INFO:p-3587006:t-139810912831296:backbone.py:_validate_inputs:Setting d_model to 768\n"
     ]
    },
    {
     "name": "stdout",
     "output_type": "stream",
     "text": [
      "Top 10 anomaly indices: [5311, 5165, 5160, 2130, 1496, 6426, 3787, 5407, 6729, 5323]\n",
      "Anomalies saved to: saved_anomalies/anomalies_log.csv\n",
      "6 file(s) done\n",
      "Using model.py from: /raid/hkamarthi3/Samay/src/samay/model.py\n"
     ]
    },
    {
     "name": "stderr",
     "output_type": "stream",
     "text": [
      "INFO:p-3587006:t-139810912831296:backbone.py:_get_transformer_backbone:Initializing pre-trained transformer from google/flan-t5-base.\n",
      "INFO:p-3587006:t-139810912831296:backbone.py:_get_transformer_backbone:Enabling gradient checkpointing.\n",
      "/nethome/hkamarthi3/scratch/Samay/.venv/lib/python3.11/site-packages/torch/utils/checkpoint.py:87: UserWarning:\n",
      "\n",
      "None of the inputs have requires_grad=True. Gradients will be None\n",
      "\n"
     ]
    },
    {
     "name": "stdout",
     "output_type": "stream",
     "text": [
      "Epoch 0: Train loss: 0.947\n",
      "8183\n"
     ]
    },
    {
     "name": "stderr",
     "output_type": "stream",
     "text": [
      "INFO:p-3587006:t-139810912831296:backbone.py:_validate_inputs:Setting d_model to 768\n"
     ]
    },
    {
     "name": "stdout",
     "output_type": "stream",
     "text": [
      "Top 10 anomaly indices: [4172, 6439, 6595, 6512, 4986, 1362, 5159, 5311, 4305, 3777]\n",
      "Anomalies saved to: saved_anomalies/anomalies_log.csv\n",
      "7 file(s) done\n",
      "Using model.py from: /raid/hkamarthi3/Samay/src/samay/model.py\n"
     ]
    },
    {
     "name": "stderr",
     "output_type": "stream",
     "text": [
      "INFO:p-3587006:t-139810912831296:backbone.py:_get_transformer_backbone:Initializing pre-trained transformer from google/flan-t5-base.\n",
      "INFO:p-3587006:t-139810912831296:backbone.py:_get_transformer_backbone:Enabling gradient checkpointing.\n",
      "/nethome/hkamarthi3/scratch/Samay/.venv/lib/python3.11/site-packages/torch/utils/checkpoint.py:87: UserWarning:\n",
      "\n",
      "None of the inputs have requires_grad=True. Gradients will be None\n",
      "\n"
     ]
    },
    {
     "name": "stdout",
     "output_type": "stream",
     "text": [
      "Epoch 0: Train loss: 0.962\n",
      "8183\n"
     ]
    },
    {
     "name": "stderr",
     "output_type": "stream",
     "text": [
      "INFO:p-3587006:t-139810912831296:backbone.py:_validate_inputs:Setting d_model to 768\n"
     ]
    },
    {
     "name": "stdout",
     "output_type": "stream",
     "text": [
      "Top 10 anomaly indices: [1151, 4944, 5183, 6415, 6061, 7847, 5488, 5346, 6758, 3736]\n",
      "Anomalies saved to: saved_anomalies/anomalies_log.csv\n",
      "8 file(s) done\n",
      "Using model.py from: /raid/hkamarthi3/Samay/src/samay/model.py\n"
     ]
    },
    {
     "name": "stderr",
     "output_type": "stream",
     "text": [
      "INFO:p-3587006:t-139810912831296:backbone.py:_get_transformer_backbone:Initializing pre-trained transformer from google/flan-t5-base.\n",
      "INFO:p-3587006:t-139810912831296:backbone.py:_get_transformer_backbone:Enabling gradient checkpointing.\n",
      "/nethome/hkamarthi3/scratch/Samay/.venv/lib/python3.11/site-packages/torch/utils/checkpoint.py:87: UserWarning:\n",
      "\n",
      "None of the inputs have requires_grad=True. Gradients will be None\n",
      "\n"
     ]
    },
    {
     "name": "stdout",
     "output_type": "stream",
     "text": [
      "Epoch 0: Train loss: 0.949\n",
      "8183\n",
      "Top 10 anomaly indices: [5207, 5115, 5205, 5421, 6569, 608, 5671, 4999, 4330, 1316]\n",
      "Anomalies saved to: saved_anomalies/anomalies_log.csv\n",
      "9 file(s) done\n",
      "Using model.py from: /raid/hkamarthi3/Samay/src/samay/model.py\n"
     ]
    },
    {
     "name": "stderr",
     "output_type": "stream",
     "text": [
      "INFO:p-3587006:t-139810912831296:backbone.py:_validate_inputs:Setting d_model to 768\n",
      "INFO:p-3587006:t-139810912831296:backbone.py:_get_transformer_backbone:Initializing pre-trained transformer from google/flan-t5-base.\n",
      "INFO:p-3587006:t-139810912831296:backbone.py:_get_transformer_backbone:Enabling gradient checkpointing.\n",
      "/nethome/hkamarthi3/scratch/Samay/.venv/lib/python3.11/site-packages/torch/utils/checkpoint.py:87: UserWarning:\n",
      "\n",
      "None of the inputs have requires_grad=True. Gradients will be None\n",
      "\n"
     ]
    },
    {
     "name": "stdout",
     "output_type": "stream",
     "text": [
      "Epoch 0: Train loss: 0.945\n",
      "8183\n",
      "Top 10 anomaly indices: [4754, 3344, 4256, 4280, 6668, 7487, 6536, 6489, 4362, 3574]\n",
      "Anomalies saved to: saved_anomalies/anomalies_log.csv\n",
      "10 file(s) done\n"
     ]
    }
   ],
   "source": [
    "import gc\n",
    "\n",
    "for i in range(files):\n",
    "    path = os.path.join(folder_path, all_files[i])\n",
    "    train_end, anomaly_start, anomaly_end = get_number_values(path)\n",
    "    name = f\"Anomaly Plot #{i + 1}\"\n",
    "    detect_anomalies_in_data(epochs, path, name, train_end, anomaly_start, anomaly_end)\n",
    "    print(f\"{i + 1} file(s) done\")\n",
    "    gc.collect()"
   ]
  },
  {
   "cell_type": "code",
   "execution_count": null,
   "id": "941e4372",
   "metadata": {},
   "outputs": [],
   "source": []
  }
 ],
 "metadata": {
  "kernelspec": {
   "display_name": ".venv",
   "language": "python",
   "name": "python3"
  },
  "language_info": {
   "codemirror_mode": {
    "name": "ipython",
    "version": 3
   },
   "file_extension": ".py",
   "mimetype": "text/x-python",
   "name": "python",
   "nbconvert_exporter": "python",
   "pygments_lexer": "ipython3",
   "version": "3.11.11"
  }
 },
 "nbformat": 4,
 "nbformat_minor": 5
}
