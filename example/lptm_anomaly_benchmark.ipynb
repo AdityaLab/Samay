{
 "cells": [
  {
   "cell_type": "code",
   "execution_count": null,
   "id": "178735dc",
   "metadata": {},
   "outputs": [],
   "source": [
    "import sys\n",
    "import os\n",
    "\n",
    "sys.path.append('..')\n",
    "from anomaly_benchmark_processing import detect_anomalies_in_data\n",
    "import os\n",
    "\n",
    "folder_path = \"../data/data/UCR_Anomaly_FullData\"\n",
    "all_files = sorted([\n",
    "    f for f in os.listdir(folder_path)\n",
    "    if os.path.isfile(os.path.join(folder_path, f))\n",
    "])"
   ]
  },
  {
   "cell_type": "code",
   "execution_count": 3,
   "id": "12ffefda",
   "metadata": {},
   "outputs": [],
   "source": [
    "epochs = 0 #change as desired\n",
    "files = 10 #change as desired -- max 250\n",
    "\n",
    "def get_number_values(path):\n",
    "    path = path[:-4]\n",
    "    parts = path.split('_')\n",
    "    num1, num2, num3 = parts[-3], parts[-2], parts[-1]\n",
    "    return(int(num1), int(num2), int(num3))\n",
    "\n",
    "#get_number_values(\"001_UCR_Anomaly_DISTORTED1sddb40_35000_52000_52620.txt\")\n"
   ]
  },
  {
   "cell_type": "code",
   "execution_count": 4,
   "id": "dd8f3b90",
   "metadata": {},
   "outputs": [
    {
     "name": "stderr",
     "output_type": "stream",
     "text": [
      "/Library/Frameworks/Python.framework/Versions/3.11/lib/python3.11/site-packages/tqdm/auto.py:21: TqdmWarning: IProgress not found. Please update jupyter and ipywidgets. See https://ipywidgets.readthedocs.io/en/stable/user_install.html\n",
      "  from .autonotebook import tqdm as notebook_tqdm\n",
      "/Library/Frameworks/Python.framework/Versions/3.11/lib/python3.11/site-packages/gluonts/json.py:102: UserWarning: Using `json`-module for json-handling. Consider installing one of `orjson`, `ujson` to speed up serialization and deserialization.\n",
      "  warnings.warn(\n",
      "INFO:p-42634:t-4332471680:backbone.py:_validate_inputs:Setting d_model to 768\n"
     ]
    },
    {
     "name": "stdout",
     "output_type": "stream",
     "text": [
      "Using model.py from: /Users/rujjiduppi/TestingSamay/src/samay/model.py\n"
     ]
    },
    {
     "name": "stderr",
     "output_type": "stream",
     "text": [
      "INFO:p-42634:t-4332471680:backbone.py:_get_transformer_backbone:Initializing pre-trained transformer from google/flan-t5-base.\n",
      "INFO:p-42634:t-4332471680:backbone.py:_get_transformer_backbone:Enabling gradient checkpointing.\n"
     ]
    },
    {
     "name": "stdout",
     "output_type": "stream",
     "text": [
      "79794\n",
      "Top 10 anomaly indices: [52406, 69961, 32128, 26898, 33123, 70113, 7219, 1413, 40461, 70256]\n",
      "Anomalies saved to: saved_anomalies/anomalies_log.csv\n",
      "1 file(s) done\n",
      "Using model.py from: /Users/rujjiduppi/TestingSamay/src/samay/model.py\n"
     ]
    },
    {
     "name": "stderr",
     "output_type": "stream",
     "text": [
      "INFO:p-42634:t-4332471680:backbone.py:_validate_inputs:Setting d_model to 768\n",
      "INFO:p-42634:t-4332471680:backbone.py:_get_transformer_backbone:Initializing pre-trained transformer from google/flan-t5-base.\n",
      "INFO:p-42634:t-4332471680:backbone.py:_get_transformer_backbone:Enabling gradient checkpointing.\n"
     ]
    },
    {
     "name": "stdout",
     "output_type": "stream",
     "text": [
      "80000\n",
      "Top 10 anomaly indices: [50585, 70317, 35882, 62685, 26833, 60922, 21352, 55715, 60929, 36062]\n",
      "Anomalies saved to: saved_anomalies/anomalies_log.csv\n",
      "2 file(s) done\n",
      "Using model.py from: /Users/rujjiduppi/TestingSamay/src/samay/model.py\n"
     ]
    },
    {
     "name": "stderr",
     "output_type": "stream",
     "text": [
      "INFO:p-42634:t-4332471680:backbone.py:_validate_inputs:Setting d_model to 768\n",
      "INFO:p-42634:t-4332471680:backbone.py:_get_transformer_backbone:Initializing pre-trained transformer from google/flan-t5-base.\n",
      "INFO:p-42634:t-4332471680:backbone.py:_get_transformer_backbone:Enabling gradient checkpointing.\n"
     ]
    },
    {
     "name": "stdout",
     "output_type": "stream",
     "text": [
      "79999\n",
      "Top 10 anomaly indices: [72382, 71819, 19889, 1806, 70375, 9012, 46923, 70384, 48823, 70403]\n",
      "Anomalies saved to: saved_anomalies/anomalies_log.csv\n",
      "3 file(s) done\n",
      "Using model.py from: /Users/rujjiduppi/TestingSamay/src/samay/model.py\n"
     ]
    },
    {
     "name": "stderr",
     "output_type": "stream",
     "text": [
      "INFO:p-42634:t-4332471680:backbone.py:_validate_inputs:Setting d_model to 768\n",
      "INFO:p-42634:t-4332471680:backbone.py:_get_transformer_backbone:Initializing pre-trained transformer from google/flan-t5-base.\n",
      "INFO:p-42634:t-4332471680:backbone.py:_get_transformer_backbone:Enabling gradient checkpointing.\n"
     ]
    },
    {
     "name": "stdout",
     "output_type": "stream",
     "text": [
      "10999\n",
      "Top 10 anomaly indices: [4465, 9248, 10417, 3706, 10237, 2783, 10490, 4469, 6854, 5280]\n",
      "Anomalies saved to: saved_anomalies/anomalies_log.csv\n",
      "4 file(s) done\n",
      "Using model.py from: /Users/rujjiduppi/TestingSamay/src/samay/model.py\n"
     ]
    },
    {
     "name": "stderr",
     "output_type": "stream",
     "text": [
      "INFO:p-42634:t-4332471680:backbone.py:_validate_inputs:Setting d_model to 768\n",
      "INFO:p-42634:t-4332471680:backbone.py:_get_transformer_backbone:Initializing pre-trained transformer from google/flan-t5-base.\n",
      "INFO:p-42634:t-4332471680:backbone.py:_get_transformer_backbone:Enabling gradient checkpointing.\n"
     ]
    },
    {
     "name": "stdout",
     "output_type": "stream",
     "text": [
      "8183\n"
     ]
    },
    {
     "name": "stderr",
     "output_type": "stream",
     "text": [
      "INFO:p-42634:t-4332471680:backbone.py:_validate_inputs:Setting d_model to 768\n"
     ]
    },
    {
     "name": "stdout",
     "output_type": "stream",
     "text": [
      "Top 10 anomaly indices: [7173, 4052, 5419, 5067, 5093, 5337, 6449, 5539, 4950, 4943]\n",
      "Anomalies saved to: saved_anomalies/anomalies_log.csv\n",
      "5 file(s) done\n",
      "Using model.py from: /Users/rujjiduppi/TestingSamay/src/samay/model.py\n"
     ]
    },
    {
     "name": "stderr",
     "output_type": "stream",
     "text": [
      "INFO:p-42634:t-4332471680:backbone.py:_get_transformer_backbone:Initializing pre-trained transformer from google/flan-t5-base.\n",
      "INFO:p-42634:t-4332471680:backbone.py:_get_transformer_backbone:Enabling gradient checkpointing.\n"
     ]
    },
    {
     "name": "stdout",
     "output_type": "stream",
     "text": [
      "8183\n"
     ]
    },
    {
     "name": "stderr",
     "output_type": "stream",
     "text": [
      "INFO:p-42634:t-4332471680:backbone.py:_validate_inputs:Setting d_model to 768\n"
     ]
    },
    {
     "name": "stdout",
     "output_type": "stream",
     "text": [
      "Top 10 anomaly indices: [6666, 5067, 6921, 4705, 5312, 6289, 6690, 2968, 5115, 6570]\n",
      "Anomalies saved to: saved_anomalies/anomalies_log.csv\n",
      "6 file(s) done\n",
      "Using model.py from: /Users/rujjiduppi/TestingSamay/src/samay/model.py\n"
     ]
    },
    {
     "name": "stderr",
     "output_type": "stream",
     "text": [
      "INFO:p-42634:t-4332471680:backbone.py:_get_transformer_backbone:Initializing pre-trained transformer from google/flan-t5-base.\n",
      "INFO:p-42634:t-4332471680:backbone.py:_get_transformer_backbone:Enabling gradient checkpointing.\n"
     ]
    },
    {
     "name": "stdout",
     "output_type": "stream",
     "text": [
      "8183\n"
     ]
    },
    {
     "name": "stderr",
     "output_type": "stream",
     "text": [
      "INFO:p-42634:t-4332471680:backbone.py:_validate_inputs:Setting d_model to 768\n"
     ]
    },
    {
     "name": "stdout",
     "output_type": "stream",
     "text": [
      "Top 10 anomaly indices: [2387, 5252, 5158, 5312, 5204, 3956, 6570, 1230, 5507, 7201]\n",
      "Anomalies saved to: saved_anomalies/anomalies_log.csv\n",
      "7 file(s) done\n",
      "Using model.py from: /Users/rujjiduppi/TestingSamay/src/samay/model.py\n"
     ]
    },
    {
     "name": "stderr",
     "output_type": "stream",
     "text": [
      "INFO:p-42634:t-4332471680:backbone.py:_get_transformer_backbone:Initializing pre-trained transformer from google/flan-t5-base.\n",
      "INFO:p-42634:t-4332471680:backbone.py:_get_transformer_backbone:Enabling gradient checkpointing.\n"
     ]
    },
    {
     "name": "stdout",
     "output_type": "stream",
     "text": [
      "8183\n"
     ]
    },
    {
     "name": "stderr",
     "output_type": "stream",
     "text": [
      "INFO:p-42634:t-4332471680:backbone.py:_validate_inputs:Setting d_model to 768\n"
     ]
    },
    {
     "name": "stdout",
     "output_type": "stream",
     "text": [
      "Top 10 anomaly indices: [1171, 6512, 1504, 6358, 6668, 5000, 4975, 4943, 5263, 4195]\n",
      "Anomalies saved to: saved_anomalies/anomalies_log.csv\n",
      "8 file(s) done\n",
      "Using model.py from: /Users/rujjiduppi/TestingSamay/src/samay/model.py\n"
     ]
    },
    {
     "name": "stderr",
     "output_type": "stream",
     "text": [
      "INFO:p-42634:t-4332471680:backbone.py:_get_transformer_backbone:Initializing pre-trained transformer from google/flan-t5-base.\n",
      "INFO:p-42634:t-4332471680:backbone.py:_get_transformer_backbone:Enabling gradient checkpointing.\n"
     ]
    },
    {
     "name": "stdout",
     "output_type": "stream",
     "text": [
      "8183\n"
     ]
    },
    {
     "name": "stderr",
     "output_type": "stream",
     "text": [
      "INFO:p-42634:t-4332471680:backbone.py:_validate_inputs:Setting d_model to 768\n"
     ]
    },
    {
     "name": "stdout",
     "output_type": "stream",
     "text": [
      "Top 10 anomaly indices: [4986, 4173, 5114, 6544, 1001, 7006, 6439, 5312, 1048, 5592]\n",
      "Anomalies saved to: saved_anomalies/anomalies_log.csv\n",
      "9 file(s) done\n",
      "Using model.py from: /Users/rujjiduppi/TestingSamay/src/samay/model.py\n"
     ]
    },
    {
     "name": "stderr",
     "output_type": "stream",
     "text": [
      "INFO:p-42634:t-4332471680:backbone.py:_get_transformer_backbone:Initializing pre-trained transformer from google/flan-t5-base.\n",
      "INFO:p-42634:t-4332471680:backbone.py:_get_transformer_backbone:Enabling gradient checkpointing.\n"
     ]
    },
    {
     "name": "stdout",
     "output_type": "stream",
     "text": [
      "8183\n",
      "Top 10 anomaly indices: [5298, 608, 4999, 4352, 7483, 6571, 583, 6732, 5483, 4704]\n",
      "Anomalies saved to: saved_anomalies/anomalies_log.csv\n",
      "10 file(s) done\n"
     ]
    }
   ],
   "source": [
    "\n",
    "for i in range (files):\n",
    "    path = os.path.join(folder_path, all_files[i])\n",
    "    train_end, anomaly_start, anomaly_end = get_number_values(path)\n",
    "    name = f\"Anomaly Plot #{i+1}\"\n",
    "    detect_anomalies_in_data(epochs, path, name, train_end, anomaly_start, anomaly_end)\n",
    "    print(f\"{i + 1} file(s) done\")"
   ]
  }
 ],
 "metadata": {
  "kernelspec": {
   "display_name": "Python 3",
   "language": "python",
   "name": "python3"
  },
  "language_info": {
   "codemirror_mode": {
    "name": "ipython",
    "version": 3
   },
   "file_extension": ".py",
   "mimetype": "text/x-python",
   "name": "python",
   "nbconvert_exporter": "python",
   "pygments_lexer": "ipython3",
   "version": "3.11.4"
  }
 },
 "nbformat": 4,
 "nbformat_minor": 5
}
