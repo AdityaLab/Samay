{
 "cells": [
  {
   "cell_type": "code",
   "execution_count": 1,
   "id": "ef9a6de3",
   "metadata": {},
   "outputs": [
    {
     "name": "stdout",
     "output_type": "stream",
     "text": [
      "/raid/hkamarthi3/Samay\n"
     ]
    },
    {
     "name": "stderr",
     "output_type": "stream",
     "text": [
      "/nethome/hkamarthi3/scratch/Samay/.venv/lib/python3.11/site-packages/IPython/core/magics/osm.py:417: UserWarning: This is now an optional IPython functionality, setting dhist requires you to install the `pickleshare` library.\n",
      "  self.shell.db['dhist'] = compress_dhist(dhist)[-100:]\n"
     ]
    }
   ],
   "source": [
    "%cd .."
   ]
  },
  {
   "cell_type": "code",
   "execution_count": 2,
   "id": "178735dc",
   "metadata": {},
   "outputs": [],
   "source": [
    "import os\n",
    "\n",
    "from anomaly_benchmark_processing import detect_anomalies_in_data\n",
    "\n",
    "folder_path = \"data/data/UCR_Anomaly_FullData\"\n",
    "all_files = sorted(\n",
    "    [f for f in os.listdir(folder_path) if os.path.isfile(os.path.join(folder_path, f))]\n",
    ")"
   ]
  },
  {
   "cell_type": "code",
   "execution_count": 3,
   "id": "12ffefda",
   "metadata": {},
   "outputs": [],
   "source": [
    "epochs = 1  # change as desired\n",
    "files = 10  # change as desired -- max 250\n",
    "\n",
    "\n",
    "def get_number_values(path):\n",
    "    path = path[:-4]\n",
    "    parts = path.split(\"_\")\n",
    "    num1, num2, num3 = parts[-3], parts[-2], parts[-1]\n",
    "    return (int(num1), int(num2), int(num3))\n",
    "\n",
    "\n",
    "# get_number_values(\"001_UCR_Anomaly_DISTORTED1sddb40_35000_52000_52620.txt\")\n"
   ]
  },
  {
   "cell_type": "code",
   "execution_count": 4,
   "id": "dd8f3b90",
   "metadata": {},
   "outputs": [
    {
     "name": "stderr",
     "output_type": "stream",
     "text": [
      "/nethome/hkamarthi3/scratch/Samay/.venv/lib/python3.11/site-packages/gluonts/json.py:102: UserWarning: Using `json`-module for json-handling. Consider installing one of `orjson`, `ujson` to speed up serialization and deserialization.\n",
      "  warnings.warn(\n",
      "INFO:p-87775:t-140565518075712:backbone.py:_validate_inputs:Setting d_model to 768\n"
     ]
    },
    {
     "name": "stdout",
     "output_type": "stream",
     "text": [
      "Using model.py from: /raid/hkamarthi3/Samay/src/samay/model.py\n"
     ]
    },
    {
     "name": "stderr",
     "output_type": "stream",
     "text": [
      "INFO:p-87775:t-140565518075712:backbone.py:_get_transformer_backbone:Initializing pre-trained transformer from google/flan-t5-base.\n",
      "INFO:p-87775:t-140565518075712:backbone.py:_get_transformer_backbone:Enabling gradient checkpointing.\n",
      "/nethome/hkamarthi3/scratch/Samay/.venv/lib/python3.11/site-packages/torch/utils/checkpoint.py:87: UserWarning: None of the inputs have requires_grad=True. Gradients will be None\n",
      "  warnings.warn(\n"
     ]
    },
    {
     "name": "stdout",
     "output_type": "stream",
     "text": [
      "Epoch 0: Train loss: 0.813\n",
      "79794\n",
      "Top 10 anomaly indices: [21652, 70256, 40588, 70113, 3449, 24173, 24143, 77341, 52406, 74742]\n",
      "Anomalies saved to: saved_anomalies/anomalies_log.csv\n",
      "1 file(s) done\n"
     ]
    },
    {
     "name": "stderr",
     "output_type": "stream",
     "text": [
      "INFO:p-87775:t-140565518075712:backbone.py:_validate_inputs:Setting d_model to 768\n"
     ]
    },
    {
     "name": "stdout",
     "output_type": "stream",
     "text": [
      "Using model.py from: /raid/hkamarthi3/Samay/src/samay/model.py\n"
     ]
    },
    {
     "name": "stderr",
     "output_type": "stream",
     "text": [
      "INFO:p-87775:t-140565518075712:backbone.py:_get_transformer_backbone:Initializing pre-trained transformer from google/flan-t5-base.\n",
      "INFO:p-87775:t-140565518075712:backbone.py:_get_transformer_backbone:Enabling gradient checkpointing.\n",
      "/nethome/hkamarthi3/scratch/Samay/.venv/lib/python3.11/site-packages/torch/utils/checkpoint.py:87: UserWarning:\n",
      "\n",
      "None of the inputs have requires_grad=True. Gradients will be None\n",
      "\n"
     ]
    },
    {
     "name": "stdout",
     "output_type": "stream",
     "text": [
      "Epoch 0: Train loss: 0.822\n",
      "80000\n",
      "Top 10 anomaly indices: [50585, 24504, 70317, 21352, 30977, 26833, 12844, 55715, 68122, 35306]\n",
      "Anomalies saved to: saved_anomalies/anomalies_log.csv\n",
      "2 file(s) done\n"
     ]
    },
    {
     "name": "stderr",
     "output_type": "stream",
     "text": [
      "INFO:p-87775:t-140565518075712:backbone.py:_validate_inputs:Setting d_model to 768\n"
     ]
    },
    {
     "name": "stdout",
     "output_type": "stream",
     "text": [
      "Using model.py from: /raid/hkamarthi3/Samay/src/samay/model.py\n"
     ]
    },
    {
     "name": "stderr",
     "output_type": "stream",
     "text": [
      "INFO:p-87775:t-140565518075712:backbone.py:_get_transformer_backbone:Initializing pre-trained transformer from google/flan-t5-base.\n",
      "INFO:p-87775:t-140565518075712:backbone.py:_get_transformer_backbone:Enabling gradient checkpointing.\n",
      "/nethome/hkamarthi3/scratch/Samay/.venv/lib/python3.11/site-packages/torch/utils/checkpoint.py:87: UserWarning:\n",
      "\n",
      "None of the inputs have requires_grad=True. Gradients will be None\n",
      "\n"
     ]
    },
    {
     "name": "stdout",
     "output_type": "stream",
     "text": [
      "Epoch 0: Train loss: 0.817\n",
      "79999\n",
      "Top 10 anomaly indices: [72382, 64042, 66586, 48823, 25027, 1806, 51177, 71641, 24349, 10789]\n",
      "Anomalies saved to: saved_anomalies/anomalies_log.csv\n",
      "3 file(s) done\n"
     ]
    },
    {
     "name": "stderr",
     "output_type": "stream",
     "text": [
      "INFO:p-87775:t-140565518075712:backbone.py:_validate_inputs:Setting d_model to 768\n"
     ]
    },
    {
     "name": "stdout",
     "output_type": "stream",
     "text": [
      "Using model.py from: /raid/hkamarthi3/Samay/src/samay/model.py\n"
     ]
    },
    {
     "name": "stderr",
     "output_type": "stream",
     "text": [
      "INFO:p-87775:t-140565518075712:backbone.py:_get_transformer_backbone:Initializing pre-trained transformer from google/flan-t5-base.\n",
      "INFO:p-87775:t-140565518075712:backbone.py:_get_transformer_backbone:Enabling gradient checkpointing.\n",
      "/nethome/hkamarthi3/scratch/Samay/.venv/lib/python3.11/site-packages/torch/utils/checkpoint.py:87: UserWarning:\n",
      "\n",
      "None of the inputs have requires_grad=True. Gradients will be None\n",
      "\n"
     ]
    },
    {
     "name": "stdout",
     "output_type": "stream",
     "text": [
      "Epoch 0: Train loss: 0.946\n",
      "10999\n",
      "Top 10 anomaly indices: [3099, 8683, 517, 5173, 1018, 8920, 2136, 4870, 9012, 8228]\n",
      "Anomalies saved to: saved_anomalies/anomalies_log.csv\n",
      "4 file(s) done\n"
     ]
    },
    {
     "name": "stderr",
     "output_type": "stream",
     "text": [
      "INFO:p-87775:t-140565518075712:backbone.py:_validate_inputs:Setting d_model to 768\n"
     ]
    },
    {
     "name": "stdout",
     "output_type": "stream",
     "text": [
      "Using model.py from: /raid/hkamarthi3/Samay/src/samay/model.py\n"
     ]
    },
    {
     "name": "stderr",
     "output_type": "stream",
     "text": [
      "INFO:p-87775:t-140565518075712:backbone.py:_get_transformer_backbone:Initializing pre-trained transformer from google/flan-t5-base.\n",
      "INFO:p-87775:t-140565518075712:backbone.py:_get_transformer_backbone:Enabling gradient checkpointing.\n",
      "/nethome/hkamarthi3/scratch/Samay/.venv/lib/python3.11/site-packages/torch/utils/checkpoint.py:87: UserWarning:\n",
      "\n",
      "None of the inputs have requires_grad=True. Gradients will be None\n",
      "\n"
     ]
    },
    {
     "name": "stdout",
     "output_type": "stream",
     "text": [
      "Epoch 0: Train loss: 0.964\n",
      "8183\n",
      "Top 10 anomaly indices: [6060, 3583, 4241, 5161, 4877, 5329, 6758, 6425, 7668, 6691]\n",
      "Anomalies saved to: saved_anomalies/anomalies_log.csv\n",
      "5 file(s) done\n"
     ]
    },
    {
     "name": "stderr",
     "output_type": "stream",
     "text": [
      "INFO:p-87775:t-140565518075712:backbone.py:_validate_inputs:Setting d_model to 768\n"
     ]
    },
    {
     "name": "stdout",
     "output_type": "stream",
     "text": [
      "Using model.py from: /raid/hkamarthi3/Samay/src/samay/model.py\n"
     ]
    },
    {
     "name": "stderr",
     "output_type": "stream",
     "text": [
      "INFO:p-87775:t-140565518075712:backbone.py:_get_transformer_backbone:Initializing pre-trained transformer from google/flan-t5-base.\n",
      "INFO:p-87775:t-140565518075712:backbone.py:_get_transformer_backbone:Enabling gradient checkpointing.\n",
      "/nethome/hkamarthi3/scratch/Samay/.venv/lib/python3.11/site-packages/torch/utils/checkpoint.py:87: UserWarning:\n",
      "\n",
      "None of the inputs have requires_grad=True. Gradients will be None\n",
      "\n"
     ]
    },
    {
     "name": "stdout",
     "output_type": "stream",
     "text": [
      "Epoch 0: Train loss: 0.957\n",
      "8183\n",
      "Top 10 anomaly indices: [5160, 5165, 6729, 5311, 5208, 6464, 4209, 3679, 5323, 6757]\n",
      "Anomalies saved to: saved_anomalies/anomalies_log.csv\n",
      "6 file(s) done\n"
     ]
    },
    {
     "name": "stderr",
     "output_type": "stream",
     "text": [
      "INFO:p-87775:t-140565518075712:backbone.py:_validate_inputs:Setting d_model to 768\n"
     ]
    },
    {
     "name": "stdout",
     "output_type": "stream",
     "text": [
      "Using model.py from: /raid/hkamarthi3/Samay/src/samay/model.py\n"
     ]
    },
    {
     "name": "stderr",
     "output_type": "stream",
     "text": [
      "INFO:p-87775:t-140565518075712:backbone.py:_get_transformer_backbone:Initializing pre-trained transformer from google/flan-t5-base.\n",
      "INFO:p-87775:t-140565518075712:backbone.py:_get_transformer_backbone:Enabling gradient checkpointing.\n",
      "/nethome/hkamarthi3/scratch/Samay/.venv/lib/python3.11/site-packages/torch/utils/checkpoint.py:87: UserWarning:\n",
      "\n",
      "None of the inputs have requires_grad=True. Gradients will be None\n",
      "\n"
     ]
    },
    {
     "name": "stdout",
     "output_type": "stream",
     "text": [
      "Epoch 0: Train loss: 0.951\n",
      "8183\n",
      "Top 10 anomaly indices: [4172, 6439, 6595, 1933, 6512, 4986, 5311, 5159, 829, 5208]\n",
      "Anomalies saved to: saved_anomalies/anomalies_log.csv\n",
      "7 file(s) done\n"
     ]
    },
    {
     "name": "stderr",
     "output_type": "stream",
     "text": [
      "INFO:p-87775:t-140565518075712:backbone.py:_validate_inputs:Setting d_model to 768\n"
     ]
    },
    {
     "name": "stdout",
     "output_type": "stream",
     "text": [
      "Using model.py from: /raid/hkamarthi3/Samay/src/samay/model.py\n"
     ]
    },
    {
     "name": "stderr",
     "output_type": "stream",
     "text": [
      "INFO:p-87775:t-140565518075712:backbone.py:_get_transformer_backbone:Initializing pre-trained transformer from google/flan-t5-base.\n",
      "INFO:p-87775:t-140565518075712:backbone.py:_get_transformer_backbone:Enabling gradient checkpointing.\n",
      "/nethome/hkamarthi3/scratch/Samay/.venv/lib/python3.11/site-packages/torch/utils/checkpoint.py:87: UserWarning:\n",
      "\n",
      "None of the inputs have requires_grad=True. Gradients will be None\n",
      "\n"
     ]
    },
    {
     "name": "stdout",
     "output_type": "stream",
     "text": [
      "Epoch 0: Train loss: 0.968\n",
      "8183\n",
      "Top 10 anomaly indices: [1151, 6415, 5183, 4944, 5488, 6758, 5346, 6061, 7847, 3311]\n",
      "Anomalies saved to: saved_anomalies/anomalies_log.csv\n",
      "8 file(s) done\n"
     ]
    },
    {
     "name": "stderr",
     "output_type": "stream",
     "text": [
      "INFO:p-87775:t-140565518075712:backbone.py:_validate_inputs:Setting d_model to 768\n"
     ]
    },
    {
     "name": "stdout",
     "output_type": "stream",
     "text": [
      "Using model.py from: /raid/hkamarthi3/Samay/src/samay/model.py\n"
     ]
    },
    {
     "name": "stderr",
     "output_type": "stream",
     "text": [
      "INFO:p-87775:t-140565518075712:backbone.py:_get_transformer_backbone:Initializing pre-trained transformer from google/flan-t5-base.\n",
      "INFO:p-87775:t-140565518075712:backbone.py:_get_transformer_backbone:Enabling gradient checkpointing.\n",
      "/nethome/hkamarthi3/scratch/Samay/.venv/lib/python3.11/site-packages/torch/utils/checkpoint.py:87: UserWarning:\n",
      "\n",
      "None of the inputs have requires_grad=True. Gradients will be None\n",
      "\n"
     ]
    },
    {
     "name": "stdout",
     "output_type": "stream",
     "text": [
      "Epoch 0: Train loss: 0.947\n",
      "8183\n",
      "Top 10 anomaly indices: [5207, 5115, 5205, 5421, 4887, 4330, 4256, 4376, 3758, 6569]\n",
      "Anomalies saved to: saved_anomalies/anomalies_log.csv\n",
      "9 file(s) done\n"
     ]
    },
    {
     "name": "stderr",
     "output_type": "stream",
     "text": [
      "INFO:p-87775:t-140565518075712:backbone.py:_validate_inputs:Setting d_model to 768\n"
     ]
    },
    {
     "name": "stdout",
     "output_type": "stream",
     "text": [
      "Using model.py from: /raid/hkamarthi3/Samay/src/samay/model.py\n"
     ]
    },
    {
     "name": "stderr",
     "output_type": "stream",
     "text": [
      "INFO:p-87775:t-140565518075712:backbone.py:_get_transformer_backbone:Initializing pre-trained transformer from google/flan-t5-base.\n",
      "INFO:p-87775:t-140565518075712:backbone.py:_get_transformer_backbone:Enabling gradient checkpointing.\n",
      "/nethome/hkamarthi3/scratch/Samay/.venv/lib/python3.11/site-packages/torch/utils/checkpoint.py:87: UserWarning:\n",
      "\n",
      "None of the inputs have requires_grad=True. Gradients will be None\n",
      "\n"
     ]
    },
    {
     "name": "stdout",
     "output_type": "stream",
     "text": [
      "Epoch 0: Train loss: 0.953\n",
      "8183\n",
      "Top 10 anomaly indices: [3344, 4256, 4280, 1447, 7977, 6536, 2302, 4362, 6668, 5935]\n",
      "Anomalies saved to: saved_anomalies/anomalies_log.csv\n",
      "10 file(s) done\n"
     ]
    }
   ],
   "source": [
    "import gc\n",
    "\n",
    "import torch\n",
    "\n",
    "for i in range(files):\n",
    "    path = os.path.join(folder_path, all_files[i])\n",
    "    train_end, anomaly_start, anomaly_end = get_number_values(path)\n",
    "    name = f\"Anomaly Plot #{i + 1}\"\n",
    "    detect_anomalies_in_data(epochs, path, name, train_end, anomaly_start, anomaly_end)\n",
    "    print(f\"{i + 1} file(s) done\")\n",
    "    gc.collect()\n",
    "    torch.cuda.empty_cache()"
   ]
  },
  {
   "cell_type": "code",
   "execution_count": null,
   "id": "941e4372",
   "metadata": {},
   "outputs": [],
   "source": []
  }
 ],
 "metadata": {
  "kernelspec": {
   "display_name": ".venv",
   "language": "python",
   "name": "python3"
  },
  "language_info": {
   "codemirror_mode": {
    "name": "ipython",
    "version": 3
   },
   "file_extension": ".py",
   "mimetype": "text/x-python",
   "name": "python",
   "nbconvert_exporter": "python",
   "pygments_lexer": "ipython3",
   "version": "3.11.11"
  }
 },
 "nbformat": 4,
 "nbformat_minor": 5
}
